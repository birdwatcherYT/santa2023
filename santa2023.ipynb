{
 "cells": [
  {
   "cell_type": "code",
   "execution_count": 1,
   "id": "bb6c009d",
   "metadata": {},
   "outputs": [],
   "source": [
    "# https://www.kaggle.com/code/metric/santa-2023-metric\n",
    "\"\"\"Evaluation metric for Santa 2023.\"\"\"\n",
    "\n",
    "import pandas as pd\n",
    "from ast import literal_eval\n",
    "from dataclasses import dataclass\n",
    "from sympy.combinatorics import Permutation\n",
    "from typing import Dict, List\n",
    "\n",
    "\n",
    "class ParticipantVisibleError(Exception):\n",
    "    pass\n",
    "\n",
    "\n",
    "def score(\n",
    "        solution: pd.DataFrame,\n",
    "        submission: pd.DataFrame,\n",
    "        series_id_column_name: str,\n",
    "        moves_column_name: str,\n",
    "        puzzle_info_path: str,\n",
    ") -> float:\n",
    "    \"\"\"Santa 2023 evaluation metric.\n",
    "\n",
    "    Parameters\n",
    "    ----------\n",
    "    solution : pd.DataFrame\n",
    "\n",
    "    submission : pd.DataFrame\n",
    "\n",
    "    series_id_column_name : str\n",
    "\n",
    "    moves_column_name : str\n",
    "\n",
    "    Returns\n",
    "    -------\n",
    "    total_num_moves : int\n",
    "    \"\"\"\n",
    "    if list(submission.columns) != [series_id_column_name, moves_column_name]:\n",
    "        raise ParticipantVisibleError(\n",
    "            f\"Submission must have columns {series_id_column_name} and {moves_column_name}.\"\n",
    "        )\n",
    "\n",
    "    puzzle_info = pd.read_csv(puzzle_info_path, index_col='puzzle_type')\n",
    "    total_num_moves = 0\n",
    "    for sol, sub in zip(solution.itertuples(), submission.itertuples()):\n",
    "        puzzle_id = getattr(sol, series_id_column_name)\n",
    "        assert puzzle_id == getattr(sub, series_id_column_name)\n",
    "        allowed_moves = literal_eval(puzzle_info.loc[sol.puzzle_type, 'allowed_moves'])\n",
    "        allowed_moves = {k: Permutation(v) for k, v in allowed_moves.items()}\n",
    "        puzzle = Puzzle(\n",
    "            puzzle_id=puzzle_id,\n",
    "            allowed_moves=allowed_moves,\n",
    "            solution_state=sol.solution_state.split(';'),\n",
    "            initial_state=sol.initial_state.split(';'),\n",
    "            num_wildcards=sol.num_wildcards,\n",
    "        )\n",
    "\n",
    "        # Score submission row\n",
    "        total_num_moves += score_puzzle(puzzle_id, puzzle, getattr(sub, moves_column_name))\n",
    "\n",
    "    return total_num_moves\n",
    "\n",
    "\n",
    "@dataclass\n",
    "class Puzzle:\n",
    "    \"\"\"A permutation puzzle.\"\"\"\n",
    "\n",
    "    puzzle_id: str\n",
    "    allowed_moves: Dict[str, List[int]]\n",
    "    solution_state: List[str]\n",
    "    initial_state: List[str]\n",
    "    num_wildcards: int\n",
    "\n",
    "\n",
    "def score_puzzle(puzzle_id, puzzle, sub_solution):\n",
    "    \"\"\"Score the solution to a permutation puzzle.\"\"\"\n",
    "    # Apply submitted sequence of moves to the initial state, from left to right\n",
    "    moves = sub_solution.split('.')\n",
    "    state = puzzle.initial_state\n",
    "    for m in moves:\n",
    "        power = 1\n",
    "        if m[0] == \"-\":\n",
    "            m = m[1:]\n",
    "            power = -1\n",
    "        try:\n",
    "            p = puzzle.allowed_moves[m]\n",
    "        except KeyError:\n",
    "            raise ParticipantVisibleError(f\"{m} is not an allowed move for {puzzle_id}.\")\n",
    "        state = (p ** power)(state)\n",
    "\n",
    "    # Check that submitted moves solve puzzle\n",
    "    num_wrong_facelets = sum(not(s == t) for s, t in zip(puzzle.solution_state, state))\n",
    "    if num_wrong_facelets > puzzle.num_wildcards:\n",
    "        raise ParticipantVisibleError(f\"Submitted moves do not solve {puzzle_id}.\")\n",
    "\n",
    "    # The score for this instance is the total number of moves needed to solve the puzzle\n",
    "    return len(moves)"
   ]
  },
  {
   "cell_type": "markdown",
   "id": "ac327617",
   "metadata": {},
   "source": [
    "- スコアは長さの和"
   ]
  },
  {
   "cell_type": "code",
   "execution_count": 3,
   "id": "600b4d43",
   "metadata": {},
   "outputs": [],
   "source": [
    "import pandas as pd\n",
    "from sympy.combinatorics import Permutation\n",
    "from multiprocess import Pool, cpu_count\n",
    "\n",
    "p = './santa-2023/'\n",
    "path = pd.read_csv(p+'puzzles.csv')\n",
    "info = pd.read_csv(p+'puzzle_info.csv')\n",
    "sub = pd.read_csv(p+'sample_submission.csv')"
   ]
  },
  {
   "cell_type": "code",
   "execution_count": 4,
   "id": "ded6ad31",
   "metadata": {},
   "outputs": [
    {
     "data": {
      "text/html": [
       "<div>\n",
       "<style scoped>\n",
       "    .dataframe tbody tr th:only-of-type {\n",
       "        vertical-align: middle;\n",
       "    }\n",
       "\n",
       "    .dataframe tbody tr th {\n",
       "        vertical-align: top;\n",
       "    }\n",
       "\n",
       "    .dataframe thead th {\n",
       "        text-align: right;\n",
       "    }\n",
       "</style>\n",
       "<table border=\"1\" class=\"dataframe\">\n",
       "  <thead>\n",
       "    <tr style=\"text-align: right;\">\n",
       "      <th></th>\n",
       "      <th>id</th>\n",
       "      <th>puzzle_type</th>\n",
       "      <th>solution_state</th>\n",
       "      <th>initial_state</th>\n",
       "      <th>num_wildcards</th>\n",
       "    </tr>\n",
       "  </thead>\n",
       "  <tbody>\n",
       "    <tr>\n",
       "      <th>0</th>\n",
       "      <td>0</td>\n",
       "      <td>cube_2/2/2</td>\n",
       "      <td>A;A;A;A;B;B;B;B;C;C;C;C;D;D;D;D;E;E;E;E;F;F;F;F</td>\n",
       "      <td>D;E;D;A;E;B;A;B;C;A;C;A;D;C;D;F;F;F;E;E;B;F;B;C</td>\n",
       "      <td>0</td>\n",
       "    </tr>\n",
       "    <tr>\n",
       "      <th>1</th>\n",
       "      <td>1</td>\n",
       "      <td>cube_2/2/2</td>\n",
       "      <td>A;A;A;A;B;B;B;B;C;C;C;C;D;D;D;D;E;E;E;E;F;F;F;F</td>\n",
       "      <td>D;E;C;B;B;E;F;A;F;D;B;F;F;E;B;D;A;A;C;D;C;E;A;C</td>\n",
       "      <td>0</td>\n",
       "    </tr>\n",
       "    <tr>\n",
       "      <th>2</th>\n",
       "      <td>2</td>\n",
       "      <td>cube_2/2/2</td>\n",
       "      <td>A;A;A;A;B;B;B;B;C;C;C;C;D;D;D;D;E;E;E;E;F;F;F;F</td>\n",
       "      <td>E;F;C;C;F;A;D;D;B;B;A;F;E;B;C;A;A;B;D;F;E;E;C;D</td>\n",
       "      <td>0</td>\n",
       "    </tr>\n",
       "    <tr>\n",
       "      <th>3</th>\n",
       "      <td>3</td>\n",
       "      <td>cube_2/2/2</td>\n",
       "      <td>A;A;A;A;B;B;B;B;C;C;C;C;D;D;D;D;E;E;E;E;F;F;F;F</td>\n",
       "      <td>A;C;E;C;F;D;E;D;A;A;F;A;B;D;B;F;E;D;B;F;B;C;C;E</td>\n",
       "      <td>0</td>\n",
       "    </tr>\n",
       "    <tr>\n",
       "      <th>4</th>\n",
       "      <td>4</td>\n",
       "      <td>cube_2/2/2</td>\n",
       "      <td>A;A;A;A;B;B;B;B;C;C;C;C;D;D;D;D;E;E;E;E;F;F;F;F</td>\n",
       "      <td>E;D;E;D;A;E;F;B;A;C;F;D;F;D;C;A;F;B;C;C;B;E;B;A</td>\n",
       "      <td>0</td>\n",
       "    </tr>\n",
       "    <tr>\n",
       "      <th>...</th>\n",
       "      <td>...</td>\n",
       "      <td>...</td>\n",
       "      <td>...</td>\n",
       "      <td>...</td>\n",
       "      <td>...</td>\n",
       "    </tr>\n",
       "    <tr>\n",
       "      <th>393</th>\n",
       "      <td>393</td>\n",
       "      <td>globe_33/3</td>\n",
       "      <td>A;A;A;A;A;A;C;C;C;C;C;C;E;E;E;E;E;E;G;G;G;G;G;...</td>\n",
       "      <td>D;D;L;A;P;E;R;U;U;C;S;R;J;B;E;G;O;J;F;Q;R;E;D;...</td>\n",
       "      <td>0</td>\n",
       "    </tr>\n",
       "    <tr>\n",
       "      <th>394</th>\n",
       "      <td>394</td>\n",
       "      <td>globe_33/3</td>\n",
       "      <td>A;A;A;A;A;A;C;C;C;C;C;C;E;E;E;E;E;E;G;G;G;G;G;...</td>\n",
       "      <td>V;L;N;G;B;V;R;E;H;A;K;S;I;N;G;E;V;C;L;G;S;M;P;...</td>\n",
       "      <td>0</td>\n",
       "    </tr>\n",
       "    <tr>\n",
       "      <th>395</th>\n",
       "      <td>395</td>\n",
       "      <td>globe_33/3</td>\n",
       "      <td>N0;N1;N2;N3;N4;N5;N6;N7;N8;N9;N10;N11;N12;N13;...</td>\n",
       "      <td>N12;N219;N227;N198;N4;N208;N214;N245;N56;N55;N...</td>\n",
       "      <td>0</td>\n",
       "    </tr>\n",
       "    <tr>\n",
       "      <th>396</th>\n",
       "      <td>396</td>\n",
       "      <td>globe_8/25</td>\n",
       "      <td>A;A;A;A;A;D;D;D;D;D;G;G;G;G;G;J;J;J;J;J;M;M;M;...</td>\n",
       "      <td>V;P;F;L;P;X;O;A;J;b;V;Y;D;Y;C;X;J;F;U;G;d;L;b;...</td>\n",
       "      <td>0</td>\n",
       "    </tr>\n",
       "    <tr>\n",
       "      <th>397</th>\n",
       "      <td>397</td>\n",
       "      <td>globe_8/25</td>\n",
       "      <td>A;A;A;A;A;D;D;D;D;D;G;G;G;G;G;J;J;J;J;J;M;M;M;...</td>\n",
       "      <td>V;O;a;I;a;F;C;D;C;d;I;O;U;F;F;G;L;I;Y;Y;X;X;a;...</td>\n",
       "      <td>0</td>\n",
       "    </tr>\n",
       "  </tbody>\n",
       "</table>\n",
       "<p>398 rows × 5 columns</p>\n",
       "</div>"
      ],
      "text/plain": [
       "      id puzzle_type                                     solution_state  \\\n",
       "0      0  cube_2/2/2    A;A;A;A;B;B;B;B;C;C;C;C;D;D;D;D;E;E;E;E;F;F;F;F   \n",
       "1      1  cube_2/2/2    A;A;A;A;B;B;B;B;C;C;C;C;D;D;D;D;E;E;E;E;F;F;F;F   \n",
       "2      2  cube_2/2/2    A;A;A;A;B;B;B;B;C;C;C;C;D;D;D;D;E;E;E;E;F;F;F;F   \n",
       "3      3  cube_2/2/2    A;A;A;A;B;B;B;B;C;C;C;C;D;D;D;D;E;E;E;E;F;F;F;F   \n",
       "4      4  cube_2/2/2    A;A;A;A;B;B;B;B;C;C;C;C;D;D;D;D;E;E;E;E;F;F;F;F   \n",
       "..   ...         ...                                                ...   \n",
       "393  393  globe_33/3  A;A;A;A;A;A;C;C;C;C;C;C;E;E;E;E;E;E;G;G;G;G;G;...   \n",
       "394  394  globe_33/3  A;A;A;A;A;A;C;C;C;C;C;C;E;E;E;E;E;E;G;G;G;G;G;...   \n",
       "395  395  globe_33/3  N0;N1;N2;N3;N4;N5;N6;N7;N8;N9;N10;N11;N12;N13;...   \n",
       "396  396  globe_8/25  A;A;A;A;A;D;D;D;D;D;G;G;G;G;G;J;J;J;J;J;M;M;M;...   \n",
       "397  397  globe_8/25  A;A;A;A;A;D;D;D;D;D;G;G;G;G;G;J;J;J;J;J;M;M;M;...   \n",
       "\n",
       "                                         initial_state  num_wildcards  \n",
       "0      D;E;D;A;E;B;A;B;C;A;C;A;D;C;D;F;F;F;E;E;B;F;B;C              0  \n",
       "1      D;E;C;B;B;E;F;A;F;D;B;F;F;E;B;D;A;A;C;D;C;E;A;C              0  \n",
       "2      E;F;C;C;F;A;D;D;B;B;A;F;E;B;C;A;A;B;D;F;E;E;C;D              0  \n",
       "3      A;C;E;C;F;D;E;D;A;A;F;A;B;D;B;F;E;D;B;F;B;C;C;E              0  \n",
       "4      E;D;E;D;A;E;F;B;A;C;F;D;F;D;C;A;F;B;C;C;B;E;B;A              0  \n",
       "..                                                 ...            ...  \n",
       "393  D;D;L;A;P;E;R;U;U;C;S;R;J;B;E;G;O;J;F;Q;R;E;D;...              0  \n",
       "394  V;L;N;G;B;V;R;E;H;A;K;S;I;N;G;E;V;C;L;G;S;M;P;...              0  \n",
       "395  N12;N219;N227;N198;N4;N208;N214;N245;N56;N55;N...              0  \n",
       "396  V;P;F;L;P;X;O;A;J;b;V;Y;D;Y;C;X;J;F;U;G;d;L;b;...              0  \n",
       "397  V;O;a;I;a;F;C;D;C;d;I;O;U;F;F;G;L;I;Y;Y;X;X;a;...              0  \n",
       "\n",
       "[398 rows x 5 columns]"
      ]
     },
     "execution_count": 4,
     "metadata": {},
     "output_type": "execute_result"
    }
   ],
   "source": [
    "path"
   ]
  },
  {
   "cell_type": "code",
   "execution_count": 5,
   "id": "528e83ff",
   "metadata": {},
   "outputs": [
    {
     "data": {
      "text/html": [
       "<div>\n",
       "<style scoped>\n",
       "    .dataframe tbody tr th:only-of-type {\n",
       "        vertical-align: middle;\n",
       "    }\n",
       "\n",
       "    .dataframe tbody tr th {\n",
       "        vertical-align: top;\n",
       "    }\n",
       "\n",
       "    .dataframe thead th {\n",
       "        text-align: right;\n",
       "    }\n",
       "</style>\n",
       "<table border=\"1\" class=\"dataframe\">\n",
       "  <thead>\n",
       "    <tr style=\"text-align: right;\">\n",
       "      <th></th>\n",
       "      <th>puzzle_type</th>\n",
       "      <th>allowed_moves</th>\n",
       "    </tr>\n",
       "  </thead>\n",
       "  <tbody>\n",
       "    <tr>\n",
       "      <th>0</th>\n",
       "      <td>cube_2/2/2</td>\n",
       "      <td>{'f0': [0, 1, 19, 17, 6, 4, 7, 5, 2, 9, 3, 11,...</td>\n",
       "    </tr>\n",
       "    <tr>\n",
       "      <th>1</th>\n",
       "      <td>cube_3/3/3</td>\n",
       "      <td>{'f0': [0, 1, 2, 3, 4, 5, 44, 41, 38, 15, 12, ...</td>\n",
       "    </tr>\n",
       "    <tr>\n",
       "      <th>2</th>\n",
       "      <td>cube_4/4/4</td>\n",
       "      <td>{'f0': [0, 1, 2, 3, 4, 5, 6, 7, 8, 9, 10, 11, ...</td>\n",
       "    </tr>\n",
       "    <tr>\n",
       "      <th>3</th>\n",
       "      <td>cube_5/5/5</td>\n",
       "      <td>{'f0': [0, 1, 2, 3, 4, 5, 6, 7, 8, 9, 10, 11, ...</td>\n",
       "    </tr>\n",
       "    <tr>\n",
       "      <th>4</th>\n",
       "      <td>cube_6/6/6</td>\n",
       "      <td>{'f0': [0, 1, 2, 3, 4, 5, 6, 7, 8, 9, 10, 11, ...</td>\n",
       "    </tr>\n",
       "    <tr>\n",
       "      <th>5</th>\n",
       "      <td>cube_7/7/7</td>\n",
       "      <td>{'f0': [0, 1, 2, 3, 4, 5, 6, 7, 8, 9, 10, 11, ...</td>\n",
       "    </tr>\n",
       "    <tr>\n",
       "      <th>6</th>\n",
       "      <td>cube_8/8/8</td>\n",
       "      <td>{'f0': [0, 1, 2, 3, 4, 5, 6, 7, 8, 9, 10, 11, ...</td>\n",
       "    </tr>\n",
       "    <tr>\n",
       "      <th>7</th>\n",
       "      <td>cube_9/9/9</td>\n",
       "      <td>{'f0': [0, 1, 2, 3, 4, 5, 6, 7, 8, 9, 10, 11, ...</td>\n",
       "    </tr>\n",
       "    <tr>\n",
       "      <th>8</th>\n",
       "      <td>cube_10/10/10</td>\n",
       "      <td>{'f0': [0, 1, 2, 3, 4, 5, 6, 7, 8, 9, 10, 11, ...</td>\n",
       "    </tr>\n",
       "    <tr>\n",
       "      <th>9</th>\n",
       "      <td>cube_19/19/19</td>\n",
       "      <td>{'f0': [0, 1, 2, 3, 4, 5, 6, 7, 8, 9, 10, 11, ...</td>\n",
       "    </tr>\n",
       "    <tr>\n",
       "      <th>10</th>\n",
       "      <td>cube_33/33/33</td>\n",
       "      <td>{'f0': [0, 1, 2, 3, 4, 5, 6, 7, 8, 9, 10, 11, ...</td>\n",
       "    </tr>\n",
       "    <tr>\n",
       "      <th>11</th>\n",
       "      <td>wreath_6/6</td>\n",
       "      <td>{'l': [1, 2, 3, 4, 5, 0, 6, 7, 8, 9], 'r': [6,...</td>\n",
       "    </tr>\n",
       "    <tr>\n",
       "      <th>12</th>\n",
       "      <td>wreath_7/7</td>\n",
       "      <td>{'l': [1, 2, 3, 4, 5, 6, 0, 7, 8, 9, 10, 11], ...</td>\n",
       "    </tr>\n",
       "    <tr>\n",
       "      <th>13</th>\n",
       "      <td>wreath_12/12</td>\n",
       "      <td>{'l': [1, 2, 3, 4, 5, 6, 7, 8, 9, 10, 11, 0, 1...</td>\n",
       "    </tr>\n",
       "    <tr>\n",
       "      <th>14</th>\n",
       "      <td>wreath_21/21</td>\n",
       "      <td>{'l': [1, 2, 3, 4, 5, 6, 7, 8, 9, 10, 11, 12, ...</td>\n",
       "    </tr>\n",
       "    <tr>\n",
       "      <th>15</th>\n",
       "      <td>wreath_33/33</td>\n",
       "      <td>{'l': [1, 2, 3, 4, 5, 6, 7, 8, 9, 10, 11, 12, ...</td>\n",
       "    </tr>\n",
       "    <tr>\n",
       "      <th>16</th>\n",
       "      <td>wreath_100/100</td>\n",
       "      <td>{'l': [1, 2, 3, 4, 5, 6, 7, 8, 9, 10, 11, 12, ...</td>\n",
       "    </tr>\n",
       "    <tr>\n",
       "      <th>17</th>\n",
       "      <td>globe_1/8</td>\n",
       "      <td>{'r0': [1, 2, 3, 4, 5, 6, 7, 8, 9, 10, 11, 12,...</td>\n",
       "    </tr>\n",
       "    <tr>\n",
       "      <th>18</th>\n",
       "      <td>globe_1/16</td>\n",
       "      <td>{'r0': [1, 2, 3, 4, 5, 6, 7, 8, 9, 10, 11, 12,...</td>\n",
       "    </tr>\n",
       "    <tr>\n",
       "      <th>19</th>\n",
       "      <td>globe_2/6</td>\n",
       "      <td>{'r0': [1, 2, 3, 4, 5, 6, 7, 8, 9, 10, 11, 0, ...</td>\n",
       "    </tr>\n",
       "    <tr>\n",
       "      <th>20</th>\n",
       "      <td>globe_3/4</td>\n",
       "      <td>{'r0': [1, 2, 3, 4, 5, 6, 7, 0, 8, 9, 10, 11, ...</td>\n",
       "    </tr>\n",
       "    <tr>\n",
       "      <th>21</th>\n",
       "      <td>globe_6/4</td>\n",
       "      <td>{'r0': [1, 2, 3, 4, 5, 6, 7, 0, 8, 9, 10, 11, ...</td>\n",
       "    </tr>\n",
       "    <tr>\n",
       "      <th>22</th>\n",
       "      <td>globe_6/8</td>\n",
       "      <td>{'r0': [1, 2, 3, 4, 5, 6, 7, 8, 9, 10, 11, 12,...</td>\n",
       "    </tr>\n",
       "    <tr>\n",
       "      <th>23</th>\n",
       "      <td>globe_6/10</td>\n",
       "      <td>{'r0': [1, 2, 3, 4, 5, 6, 7, 8, 9, 10, 11, 12,...</td>\n",
       "    </tr>\n",
       "    <tr>\n",
       "      <th>24</th>\n",
       "      <td>globe_3/33</td>\n",
       "      <td>{'r0': [1, 2, 3, 4, 5, 6, 7, 8, 9, 10, 11, 12,...</td>\n",
       "    </tr>\n",
       "    <tr>\n",
       "      <th>25</th>\n",
       "      <td>globe_33/3</td>\n",
       "      <td>{'r0': [1, 2, 3, 4, 5, 6, 7, 8, 9, 10, 11, 12,...</td>\n",
       "    </tr>\n",
       "    <tr>\n",
       "      <th>26</th>\n",
       "      <td>globe_8/25</td>\n",
       "      <td>{'r0': [1, 2, 3, 4, 5, 6, 7, 8, 9, 10, 11, 12,...</td>\n",
       "    </tr>\n",
       "  </tbody>\n",
       "</table>\n",
       "</div>"
      ],
      "text/plain": [
       "       puzzle_type                                      allowed_moves\n",
       "0       cube_2/2/2  {'f0': [0, 1, 19, 17, 6, 4, 7, 5, 2, 9, 3, 11,...\n",
       "1       cube_3/3/3  {'f0': [0, 1, 2, 3, 4, 5, 44, 41, 38, 15, 12, ...\n",
       "2       cube_4/4/4  {'f0': [0, 1, 2, 3, 4, 5, 6, 7, 8, 9, 10, 11, ...\n",
       "3       cube_5/5/5  {'f0': [0, 1, 2, 3, 4, 5, 6, 7, 8, 9, 10, 11, ...\n",
       "4       cube_6/6/6  {'f0': [0, 1, 2, 3, 4, 5, 6, 7, 8, 9, 10, 11, ...\n",
       "5       cube_7/7/7  {'f0': [0, 1, 2, 3, 4, 5, 6, 7, 8, 9, 10, 11, ...\n",
       "6       cube_8/8/8  {'f0': [0, 1, 2, 3, 4, 5, 6, 7, 8, 9, 10, 11, ...\n",
       "7       cube_9/9/9  {'f0': [0, 1, 2, 3, 4, 5, 6, 7, 8, 9, 10, 11, ...\n",
       "8    cube_10/10/10  {'f0': [0, 1, 2, 3, 4, 5, 6, 7, 8, 9, 10, 11, ...\n",
       "9    cube_19/19/19  {'f0': [0, 1, 2, 3, 4, 5, 6, 7, 8, 9, 10, 11, ...\n",
       "10   cube_33/33/33  {'f0': [0, 1, 2, 3, 4, 5, 6, 7, 8, 9, 10, 11, ...\n",
       "11      wreath_6/6  {'l': [1, 2, 3, 4, 5, 0, 6, 7, 8, 9], 'r': [6,...\n",
       "12      wreath_7/7  {'l': [1, 2, 3, 4, 5, 6, 0, 7, 8, 9, 10, 11], ...\n",
       "13    wreath_12/12  {'l': [1, 2, 3, 4, 5, 6, 7, 8, 9, 10, 11, 0, 1...\n",
       "14    wreath_21/21  {'l': [1, 2, 3, 4, 5, 6, 7, 8, 9, 10, 11, 12, ...\n",
       "15    wreath_33/33  {'l': [1, 2, 3, 4, 5, 6, 7, 8, 9, 10, 11, 12, ...\n",
       "16  wreath_100/100  {'l': [1, 2, 3, 4, 5, 6, 7, 8, 9, 10, 11, 12, ...\n",
       "17       globe_1/8  {'r0': [1, 2, 3, 4, 5, 6, 7, 8, 9, 10, 11, 12,...\n",
       "18      globe_1/16  {'r0': [1, 2, 3, 4, 5, 6, 7, 8, 9, 10, 11, 12,...\n",
       "19       globe_2/6  {'r0': [1, 2, 3, 4, 5, 6, 7, 8, 9, 10, 11, 0, ...\n",
       "20       globe_3/4  {'r0': [1, 2, 3, 4, 5, 6, 7, 0, 8, 9, 10, 11, ...\n",
       "21       globe_6/4  {'r0': [1, 2, 3, 4, 5, 6, 7, 0, 8, 9, 10, 11, ...\n",
       "22       globe_6/8  {'r0': [1, 2, 3, 4, 5, 6, 7, 8, 9, 10, 11, 12,...\n",
       "23      globe_6/10  {'r0': [1, 2, 3, 4, 5, 6, 7, 8, 9, 10, 11, 12,...\n",
       "24      globe_3/33  {'r0': [1, 2, 3, 4, 5, 6, 7, 8, 9, 10, 11, 12,...\n",
       "25      globe_33/3  {'r0': [1, 2, 3, 4, 5, 6, 7, 8, 9, 10, 11, 12,...\n",
       "26      globe_8/25  {'r0': [1, 2, 3, 4, 5, 6, 7, 8, 9, 10, 11, 12,..."
      ]
     },
     "execution_count": 5,
     "metadata": {},
     "output_type": "execute_result"
    }
   ],
   "source": [
    "info"
   ]
  },
  {
   "cell_type": "code",
   "execution_count": 6,
   "id": "734cc586",
   "metadata": {},
   "outputs": [
    {
     "data": {
      "text/html": [
       "<div>\n",
       "<style scoped>\n",
       "    .dataframe tbody tr th:only-of-type {\n",
       "        vertical-align: middle;\n",
       "    }\n",
       "\n",
       "    .dataframe tbody tr th {\n",
       "        vertical-align: top;\n",
       "    }\n",
       "\n",
       "    .dataframe thead th {\n",
       "        text-align: right;\n",
       "    }\n",
       "</style>\n",
       "<table border=\"1\" class=\"dataframe\">\n",
       "  <thead>\n",
       "    <tr style=\"text-align: right;\">\n",
       "      <th></th>\n",
       "      <th>id</th>\n",
       "      <th>moves</th>\n",
       "    </tr>\n",
       "  </thead>\n",
       "  <tbody>\n",
       "    <tr>\n",
       "      <th>0</th>\n",
       "      <td>0</td>\n",
       "      <td>r1.-f1</td>\n",
       "    </tr>\n",
       "    <tr>\n",
       "      <th>1</th>\n",
       "      <td>1</td>\n",
       "      <td>f1.d0.-r0.-f1.-d0.-f1.d0.-r0.f0.-f1.-r0.f1.-d1...</td>\n",
       "    </tr>\n",
       "    <tr>\n",
       "      <th>2</th>\n",
       "      <td>2</td>\n",
       "      <td>f1.d0.-d1.r0.-d1.-f0.f1.-r0.-f0.-r1.-f0.r0.-d0...</td>\n",
       "    </tr>\n",
       "    <tr>\n",
       "      <th>3</th>\n",
       "      <td>3</td>\n",
       "      <td>-f0.-r0.-f0.-d0.-f0.f1.r0.-d1.-r0.-r1.-r0.-f1....</td>\n",
       "    </tr>\n",
       "    <tr>\n",
       "      <th>4</th>\n",
       "      <td>4</td>\n",
       "      <td>d1.-f1.d1.r1.-f0.d1.-d0.-r1.d1.d1.-f1.d1.-d0.-...</td>\n",
       "    </tr>\n",
       "    <tr>\n",
       "      <th>...</th>\n",
       "      <td>...</td>\n",
       "      <td>...</td>\n",
       "    </tr>\n",
       "    <tr>\n",
       "      <th>393</th>\n",
       "      <td>393</td>\n",
       "      <td>f19.f21.-f39.f20.f2.-f5.f7.-r3.f55.-f12.f65.-f...</td>\n",
       "    </tr>\n",
       "    <tr>\n",
       "      <th>394</th>\n",
       "      <td>394</td>\n",
       "      <td>-f31.-f22.f16.-f17.-f13.-f24.-f14.f2.f21.f44.f...</td>\n",
       "    </tr>\n",
       "    <tr>\n",
       "      <th>395</th>\n",
       "      <td>395</td>\n",
       "      <td>-r0.-f42.-f8.f16.-f49.f14.-f1.f56.f26.f35.f62....</td>\n",
       "    </tr>\n",
       "    <tr>\n",
       "      <th>396</th>\n",
       "      <td>396</td>\n",
       "      <td>f25.-f29.f46.f49.-f8.f27.f26.-f20.f2.-f20.f6.f...</td>\n",
       "    </tr>\n",
       "    <tr>\n",
       "      <th>397</th>\n",
       "      <td>397</td>\n",
       "      <td>-r1.f23.-f24.-r2.f30.f30.f38.-f19.f24.f19.f18....</td>\n",
       "    </tr>\n",
       "  </tbody>\n",
       "</table>\n",
       "<p>398 rows × 2 columns</p>\n",
       "</div>"
      ],
      "text/plain": [
       "      id                                              moves\n",
       "0      0                                             r1.-f1\n",
       "1      1  f1.d0.-r0.-f1.-d0.-f1.d0.-r0.f0.-f1.-r0.f1.-d1...\n",
       "2      2  f1.d0.-d1.r0.-d1.-f0.f1.-r0.-f0.-r1.-f0.r0.-d0...\n",
       "3      3  -f0.-r0.-f0.-d0.-f0.f1.r0.-d1.-r0.-r1.-r0.-f1....\n",
       "4      4  d1.-f1.d1.r1.-f0.d1.-d0.-r1.d1.d1.-f1.d1.-d0.-...\n",
       "..   ...                                                ...\n",
       "393  393  f19.f21.-f39.f20.f2.-f5.f7.-r3.f55.-f12.f65.-f...\n",
       "394  394  -f31.-f22.f16.-f17.-f13.-f24.-f14.f2.f21.f44.f...\n",
       "395  395  -r0.-f42.-f8.f16.-f49.f14.-f1.f56.f26.f35.f62....\n",
       "396  396  f25.-f29.f46.f49.-f8.f27.f26.-f20.f2.-f20.f6.f...\n",
       "397  397  -r1.f23.-f24.-r2.f30.f30.f38.-f19.f24.f19.f18....\n",
       "\n",
       "[398 rows x 2 columns]"
      ]
     },
     "execution_count": 6,
     "metadata": {},
     "output_type": "execute_result"
    }
   ],
   "source": [
    "sub"
   ]
  },
  {
   "cell_type": "code",
   "execution_count": 7,
   "id": "19ec1f84",
   "metadata": {},
   "outputs": [
    {
     "data": {
      "text/html": [
       "<div>\n",
       "<style scoped>\n",
       "    .dataframe tbody tr th:only-of-type {\n",
       "        vertical-align: middle;\n",
       "    }\n",
       "\n",
       "    .dataframe tbody tr th {\n",
       "        vertical-align: top;\n",
       "    }\n",
       "\n",
       "    .dataframe thead th {\n",
       "        text-align: right;\n",
       "    }\n",
       "</style>\n",
       "<table border=\"1\" class=\"dataframe\">\n",
       "  <thead>\n",
       "    <tr style=\"text-align: right;\">\n",
       "      <th></th>\n",
       "      <th>id</th>\n",
       "      <th>puzzle_type</th>\n",
       "      <th>solution_state</th>\n",
       "      <th>initial_state</th>\n",
       "      <th>num_wildcards</th>\n",
       "      <th>allowed_moves</th>\n",
       "      <th>allowed_moves_count</th>\n",
       "      <th>moves</th>\n",
       "    </tr>\n",
       "  </thead>\n",
       "  <tbody>\n",
       "    <tr>\n",
       "      <th>0</th>\n",
       "      <td>0</td>\n",
       "      <td>cube_2/2/2</td>\n",
       "      <td>[A, A, A, A, B, B, B, B, C, C, C, C, D, D, D, ...</td>\n",
       "      <td>[D, E, D, A, E, B, A, B, C, A, C, A, D, C, D, ...</td>\n",
       "      <td>0</td>\n",
       "      <td>{'f0': [0, 1, 19, 17, 6, 4, 7, 5, 2, 9, 3, 11,...</td>\n",
       "      <td>{'f0': (23)(2 19 21 8)(3 17 20 10)(4 6 7 5), '...</td>\n",
       "      <td>[r1, -f1]</td>\n",
       "    </tr>\n",
       "  </tbody>\n",
       "</table>\n",
       "</div>"
      ],
      "text/plain": [
       "   id puzzle_type                                     solution_state  \\\n",
       "0   0  cube_2/2/2  [A, A, A, A, B, B, B, B, C, C, C, C, D, D, D, ...   \n",
       "\n",
       "                                       initial_state  num_wildcards  \\\n",
       "0  [D, E, D, A, E, B, A, B, C, A, C, A, D, C, D, ...              0   \n",
       "\n",
       "                                       allowed_moves  \\\n",
       "0  {'f0': [0, 1, 19, 17, 6, 4, 7, 5, 2, 9, 3, 11,...   \n",
       "\n",
       "                                 allowed_moves_count      moves  \n",
       "0  {'f0': (23)(2 19 21 8)(3 17 20 10)(4 6 7 5), '...  [r1, -f1]  "
      ]
     },
     "execution_count": 7,
     "metadata": {},
     "output_type": "execute_result"
    }
   ],
   "source": [
    "info['allowed_moves_count'] = info['allowed_moves'].map(lambda x: {k: Permutation(v) for k, v in eval(x).items()})\n",
    "paths = pd.merge(path, info, how='left', on='puzzle_type')\n",
    "paths = pd.merge(paths, sub, how='left', on='id')\n",
    "paths['solution_state'] = paths['solution_state'].map(lambda x: x.split(';'))\n",
    "paths['initial_state'] = paths['initial_state'].map(lambda x: x.split(';'))\n",
    "paths['moves'] = paths['moves'].map(lambda x: x.split('.'))\n",
    "paths.head(1)"
   ]
  },
  {
   "cell_type": "code",
   "execution_count": 8,
   "id": "a77999fa",
   "metadata": {},
   "outputs": [],
   "source": [
    "#Evaluation metric for Santa 2023 - https://www.kaggle.com/code/metric/santa-2023-metric\n",
    "# modified - using combined paths & info dataframe\n",
    "\n",
    "def getMoves(puzzle_id, moves, allowed_moves, state, solution_state, num_wildcards):\n",
    "#     for m in moves:\n",
    "#         power = 1\n",
    "#         if m[0] == \"-\":\n",
    "#             m = m[1:]\n",
    "#             power = -1\n",
    "#         p = allowed_moves[m]\n",
    "#         state = (p ** power)(state)\n",
    "#     num_wrong_facelets = sum(not(s == t) for s, t in zip(solution_state, state))\n",
    "#     if num_wrong_facelets > num_wildcards:\n",
    "#         print(f\"Submitted moves do not solve {puzzle_id}.\")\n",
    "    return len(moves)\n",
    "\n",
    "def score(sol):\n",
    "    p = Pool(cpu_count()-1)\n",
    "    ret = p.starmap(getMoves, sol[['id','moves','allowed_moves_count','initial_state','solution_state','num_wildcards']].values)\n",
    "    p.close(); p.join()\n",
    "    return sum(ret)"
   ]
  },
  {
   "cell_type": "code",
   "execution_count": 9,
   "id": "62f68368",
   "metadata": {},
   "outputs": [
    {
     "name": "stdout",
     "output_type": "stream",
     "text": [
      "CPU times: total: 1.3 s\n",
      "Wall time: 5.58 s\n"
     ]
    },
    {
     "data": {
      "text/plain": [
       "1220590"
      ]
     },
     "execution_count": 9,
     "metadata": {},
     "output_type": "execute_result"
    }
   ],
   "source": [
    "%%time\n",
    "score(paths)"
   ]
  },
  {
   "cell_type": "code",
   "execution_count": 10,
   "id": "86274c95",
   "metadata": {},
   "outputs": [
    {
     "name": "stdout",
     "output_type": "stream",
     "text": [
      "allowed_moves: {'f0': Permutation(23)(2, 19, 21, 8)(3, 17, 20, 10)(4, 6, 7, 5), 'f1': Permutation(0, 18, 23, 9)(1, 16, 22, 11)(12, 13, 15, 14), 'r0': Permutation(1, 5, 21, 14)(3, 7, 23, 12)(8, 10, 11, 9), 'r1': Permutation(23)(0, 4, 20, 15)(2, 6, 22, 13)(16, 17, 19, 18), 'd0': Permutation(6, 18, 14, 10)(7, 19, 15, 11)(20, 22, 23, 21), 'd1': Permutation(23)(0, 1, 3, 2)(4, 16, 12, 8)(5, 17, 13, 9)}\n",
      "move: r1\n",
      "perm: (23)(0 4 20 15)(2 6 22 13)(16 17 19 18)\n",
      "state: ['E', 'E', 'A', 'A', 'B', 'B', 'B', 'B', 'C', 'A', 'C', 'A', 'D', 'D', 'D', 'D', 'F', 'E', 'F', 'E', 'F', 'F', 'C', 'C']\n",
      "\n",
      "        Positions                              \n",
      "\n",
      "             +--------+                               +--------+\n",
      "             | E    E |                               | A    A |\n",
      "             |   d1   |                               |   d1   |\n",
      "             | A    A |                               | A    A |\n",
      "    +--------+--------+--------+--------+    +--------+--------+--------+--------+\n",
      "    | F    E | B    B | C    A | D    D |    | E    E | B    B | C    C | D    D |\n",
      "    |   r1   |   f0   |   r0   |   f1   |    |   r1   |   f0   |   r0   |   f1   |\n",
      "    | F    E | B    B | C    A | D    D |    | E    E | B    B | C    C | D    D |\n",
      "    +--------+--------+--------+--------+    +--------+--------+--------+--------+\n",
      "             | F    F |                               | F    F |\n",
      "             |   d0   |                               |   d0   |\n",
      "             | C    C |                               | F    F |\n",
      "             +--------+                               +--------+\n",
      "    \n",
      "move: -f1\n",
      "perm: (0 18 23 9)(1 16 22 11)(12 13 15 14)\n",
      "state: ['A', 'A', 'A', 'A', 'B', 'B', 'B', 'B', 'C', 'C', 'C', 'C', 'D', 'D', 'D', 'D', 'E', 'E', 'E', 'E', 'F', 'F', 'F', 'F']\n",
      "\n",
      "        Positions                              \n",
      "\n",
      "             +--------+                               +--------+\n",
      "             | A    A |                               | A    A |\n",
      "             |   d1   |                               |   d1   |\n",
      "             | A    A |                               | A    A |\n",
      "    +--------+--------+--------+--------+    +--------+--------+--------+--------+\n",
      "    | E    E | B    B | C    C | D    D |    | E    E | B    B | C    C | D    D |\n",
      "    |   r1   |   f0   |   r0   |   f1   |    |   r1   |   f0   |   r0   |   f1   |\n",
      "    | E    E | B    B | C    C | D    D |    | E    E | B    B | C    C | D    D |\n",
      "    +--------+--------+--------+--------+    +--------+--------+--------+--------+\n",
      "             | F    F |                               | F    F |\n",
      "             |   d0   |                               |   d0   |\n",
      "             | F    F |                               | F    F |\n",
      "             +--------+                               +--------+\n",
      "    \n"
     ]
    },
    {
     "data": {
      "text/plain": [
       "2"
      ]
     },
     "execution_count": 10,
     "metadata": {},
     "output_type": "execute_result"
    }
   ],
   "source": [
    "# Visualizing Changes\n",
    "def pPositions(s):\n",
    "    o = \"\"\"\n",
    "        Positions                              \n",
    "\n",
    "             +--------+                               +--------+\n",
    "             | .0.    .1. |                               | A    A |\n",
    "             |   d1   |                               |   d1   |\n",
    "             | .2.    .3. |                               | A    A |\n",
    "    +--------+--------+--------+--------+    +--------+--------+--------+--------+\n",
    "    | .16.    .17. | .4.    .5. | .8.    .9. | .12.    .13. |    | E    E | B    B | C    C | D    D |\n",
    "    |   r1   |   f0   |   r0   |   f1   |    |   r1   |   f0   |   r0   |   f1   |\n",
    "    | .18.    .19. | .6.    .7. | .10.    .11. | .14.    .15. |    | E    E | B    B | C    C | D    D |\n",
    "    +--------+--------+--------+--------+    +--------+--------+--------+--------+\n",
    "             | .20.    .21. |                               | F    F |\n",
    "             |   d0   |                               |   d0   |\n",
    "             | .22.    .23. |                               | F    F |\n",
    "             +--------+                               +--------+\n",
    "    \"\"\"\n",
    "    for i in range(len(s)):\n",
    "        o = o.replace('.'+str(i)+'.', s[i])\n",
    "    return o\n",
    "\n",
    "def getMoves(args):\n",
    "    puzzle_id, moves, allowed_moves, state, solution_state, num_wildcards = args\n",
    "    print(f\"allowed_moves: {allowed_moves}\")\n",
    "    for m in moves:\n",
    "        print(f\"move: {m}\")\n",
    "        power = 1\n",
    "        if m[0] == \"-\":\n",
    "            m = m[1:]\n",
    "            power = -1\n",
    "        p = allowed_moves[m]\n",
    "        print(f\"perm: {p}\")\n",
    "        state = (p ** power)(state)\n",
    "        print(f\"state: {state}\")\n",
    "        print(pPositions(state))\n",
    "    \n",
    "#     num_wrong_facelets = sum(not(s == t) for s, t in zip(solution_state, state))\n",
    "#     if num_wrong_facelets > num_wildcards:\n",
    "#         print(f\"Submitted moves do not solve {puzzle_id}.\")\n",
    "    return len(moves)\n",
    "\n",
    "getMoves(paths[['id','moves','allowed_moves_count','initial_state','solution_state','num_wildcards']].values[0])"
   ]
  },
  {
   "cell_type": "code",
   "execution_count": 11,
   "id": "7dbc3116",
   "metadata": {},
   "outputs": [],
   "source": [
    "# paths['moves'] = paths['moves'].map(lambda x: '.'.join(x))\n",
    "# paths[['id','moves']].to_csv('submission.csv', index=False)"
   ]
  },
  {
   "cell_type": "markdown",
   "id": "e7cc9d02",
   "metadata": {},
   "source": [
    "# 可視化"
   ]
  },
  {
   "cell_type": "code",
   "execution_count": 12,
   "id": "b1719445",
   "metadata": {},
   "outputs": [
    {
     "data": {
      "text/plain": [
       "puzzle_type                                                   cube_2/2/2\n",
       "allowed_moves          {'f0': [0, 1, 19, 17, 6, 4, 7, 5, 2, 9, 3, 11,...\n",
       "allowed_moves_count    {'f0': (23)(2 19 21 8)(3 17 20 10)(4 6 7 5), '...\n",
       "Name: 0, dtype: object"
      ]
     },
     "execution_count": 12,
     "metadata": {},
     "output_type": "execute_result"
    }
   ],
   "source": [
    "info.loc[0]"
   ]
  },
  {
   "cell_type": "code",
   "execution_count": 13,
   "id": "9d31bbb6",
   "metadata": {},
   "outputs": [
    {
     "data": {
      "text/plain": [
       "{'f0': [0,\n",
       "  1,\n",
       "  19,\n",
       "  17,\n",
       "  6,\n",
       "  4,\n",
       "  7,\n",
       "  5,\n",
       "  2,\n",
       "  9,\n",
       "  3,\n",
       "  11,\n",
       "  12,\n",
       "  13,\n",
       "  14,\n",
       "  15,\n",
       "  16,\n",
       "  20,\n",
       "  18,\n",
       "  21,\n",
       "  10,\n",
       "  8,\n",
       "  22,\n",
       "  23],\n",
       " 'f1': [18,\n",
       "  16,\n",
       "  2,\n",
       "  3,\n",
       "  4,\n",
       "  5,\n",
       "  6,\n",
       "  7,\n",
       "  8,\n",
       "  0,\n",
       "  10,\n",
       "  1,\n",
       "  13,\n",
       "  15,\n",
       "  12,\n",
       "  14,\n",
       "  22,\n",
       "  17,\n",
       "  23,\n",
       "  19,\n",
       "  20,\n",
       "  21,\n",
       "  11,\n",
       "  9],\n",
       " 'r0': [0,\n",
       "  5,\n",
       "  2,\n",
       "  7,\n",
       "  4,\n",
       "  21,\n",
       "  6,\n",
       "  23,\n",
       "  10,\n",
       "  8,\n",
       "  11,\n",
       "  9,\n",
       "  3,\n",
       "  13,\n",
       "  1,\n",
       "  15,\n",
       "  16,\n",
       "  17,\n",
       "  18,\n",
       "  19,\n",
       "  20,\n",
       "  14,\n",
       "  22,\n",
       "  12],\n",
       " 'r1': [4,\n",
       "  1,\n",
       "  6,\n",
       "  3,\n",
       "  20,\n",
       "  5,\n",
       "  22,\n",
       "  7,\n",
       "  8,\n",
       "  9,\n",
       "  10,\n",
       "  11,\n",
       "  12,\n",
       "  2,\n",
       "  14,\n",
       "  0,\n",
       "  17,\n",
       "  19,\n",
       "  16,\n",
       "  18,\n",
       "  15,\n",
       "  21,\n",
       "  13,\n",
       "  23],\n",
       " 'd0': [0,\n",
       "  1,\n",
       "  2,\n",
       "  3,\n",
       "  4,\n",
       "  5,\n",
       "  18,\n",
       "  19,\n",
       "  8,\n",
       "  9,\n",
       "  6,\n",
       "  7,\n",
       "  12,\n",
       "  13,\n",
       "  10,\n",
       "  11,\n",
       "  16,\n",
       "  17,\n",
       "  14,\n",
       "  15,\n",
       "  22,\n",
       "  20,\n",
       "  23,\n",
       "  21],\n",
       " 'd1': [1,\n",
       "  3,\n",
       "  0,\n",
       "  2,\n",
       "  16,\n",
       "  17,\n",
       "  6,\n",
       "  7,\n",
       "  4,\n",
       "  5,\n",
       "  10,\n",
       "  11,\n",
       "  8,\n",
       "  9,\n",
       "  14,\n",
       "  15,\n",
       "  12,\n",
       "  13,\n",
       "  18,\n",
       "  19,\n",
       "  20,\n",
       "  21,\n",
       "  22,\n",
       "  23]}"
      ]
     },
     "execution_count": 13,
     "metadata": {},
     "output_type": "execute_result"
    }
   ],
   "source": [
    "allowed_moves=eval(info.at[0,\"allowed_moves\"])\n",
    "allowed_moves"
   ]
  },
  {
   "cell_type": "code",
   "execution_count": 14,
   "id": "33d37606",
   "metadata": {},
   "outputs": [
    {
     "name": "stdout",
     "output_type": "stream",
     "text": [
      "f0 24\n",
      "f1 24\n",
      "r0 24\n",
      "r1 24\n",
      "d0 24\n",
      "d1 24\n"
     ]
    }
   ],
   "source": [
    "for k,v in allowed_moves.items():\n",
    "    print(k, len(v))"
   ]
  },
  {
   "cell_type": "code",
   "execution_count": 15,
   "id": "71725c33",
   "metadata": {},
   "outputs": [
    {
     "name": "stdout",
     "output_type": "stream",
     "text": [
      "{'f0': [0, 1, 19, 17, 6, 4, 7, 5, 2, 9, 3, 11, 12, 13, 14, 15, 16, 20, 18, 21, 10, 8, 22, 23], 'f1': [18, 16, 2, 3, 4, 5, 6, 7, 8, 0, 10, 1, 13, 15, 12, 14, 22, 17, 23, 19, 20, 21, 11, 9], 'r0': [0, 5, 2, 7, 4, 21, 6, 23, 10, 8, 11, 9, 3, 13, 1, 15, 16, 17, 18, 19, 20, 14, 22, 12], 'r1': [4, 1, 6, 3, 20, 5, 22, 7, 8, 9, 10, 11, 12, 2, 14, 0, 17, 19, 16, 18, 15, 21, 13, 23], 'd0': [0, 1, 2, 3, 4, 5, 18, 19, 8, 9, 6, 7, 12, 13, 10, 11, 16, 17, 14, 15, 22, 20, 23, 21], 'd1': [1, 3, 0, 2, 16, 17, 6, 7, 4, 5, 10, 11, 8, 9, 14, 15, 12, 13, 18, 19, 20, 21, 22, 23]}\n"
     ]
    }
   ],
   "source": [
    "print(allowed_moves)"
   ]
  },
  {
   "cell_type": "code",
   "execution_count": 16,
   "id": "38630569",
   "metadata": {},
   "outputs": [
    {
     "data": {
      "text/plain": [
       "dict_keys(['f0', 'f1', 'r0', 'r1', 'd0', 'd1'])"
      ]
     },
     "execution_count": 16,
     "metadata": {},
     "output_type": "execute_result"
    }
   ],
   "source": [
    "allowed_moves.keys()"
   ]
  },
  {
   "cell_type": "code",
   "execution_count": 17,
   "id": "cfe6f517",
   "metadata": {},
   "outputs": [
    {
     "data": {
      "text/plain": [
       "0      318\n",
       "2       34\n",
       "4       14\n",
       "6       10\n",
       "8        7\n",
       "10       4\n",
       "16       3\n",
       "18       2\n",
       "42       1\n",
       "34       1\n",
       "38       1\n",
       "54       1\n",
       "176      1\n",
       "12       1\n",
       "Name: num_wildcards, dtype: int64"
      ]
     },
     "execution_count": 17,
     "metadata": {},
     "output_type": "execute_result"
    }
   ],
   "source": [
    "path[\"num_wildcards\"].value_counts()"
   ]
  },
  {
   "cell_type": "code",
   "execution_count": 18,
   "id": "746a1807",
   "metadata": {},
   "outputs": [
    {
     "data": {
      "text/plain": [
       "'A;A;A;A;B;B;B;B;C;C;C;C;D;D;D;D;E;E;E;E;F;F;F;F'"
      ]
     },
     "execution_count": 18,
     "metadata": {},
     "output_type": "execute_result"
    }
   ],
   "source": [
    "path.at[0,\"solution_state\"]"
   ]
  },
  {
   "cell_type": "code",
   "execution_count": 19,
   "id": "a8ee0436",
   "metadata": {},
   "outputs": [
    {
     "data": {
      "text/plain": [
       "'D;E;D;A;E;B;A;B;C;A;C;A;D;C;D;F;F;F;E;E;B;F;B;C'"
      ]
     },
     "execution_count": 19,
     "metadata": {},
     "output_type": "execute_result"
    }
   ],
   "source": [
    "path.at[0,\"initial_state\"]"
   ]
  },
  {
   "cell_type": "code",
   "execution_count": 45,
   "id": "170343dc",
   "metadata": {},
   "outputs": [
    {
     "data": {
      "text/plain": [
       "24"
      ]
     },
     "execution_count": 45,
     "metadata": {},
     "output_type": "execute_result"
    }
   ],
   "source": [
    "len(path.at[0,\"initial_state\"].split(\";\"))"
   ]
  },
  {
   "cell_type": "code",
   "execution_count": 44,
   "id": "b9951f97",
   "metadata": {},
   "outputs": [
    {
     "data": {
      "text/plain": [
       "24"
      ]
     },
     "execution_count": 44,
     "metadata": {},
     "output_type": "execute_result"
    }
   ],
   "source": [
    "len(path.at[0,\"solution_state\"].split(\";\"))"
   ]
  },
  {
   "cell_type": "code",
   "execution_count": 20,
   "id": "61f6015a",
   "metadata": {},
   "outputs": [
    {
     "data": {
      "text/html": [
       "<div>\n",
       "<style scoped>\n",
       "    .dataframe tbody tr th:only-of-type {\n",
       "        vertical-align: middle;\n",
       "    }\n",
       "\n",
       "    .dataframe tbody tr th {\n",
       "        vertical-align: top;\n",
       "    }\n",
       "\n",
       "    .dataframe thead th {\n",
       "        text-align: right;\n",
       "    }\n",
       "</style>\n",
       "<table border=\"1\" class=\"dataframe\">\n",
       "  <thead>\n",
       "    <tr style=\"text-align: right;\">\n",
       "      <th></th>\n",
       "      <th>id</th>\n",
       "      <th>moves</th>\n",
       "    </tr>\n",
       "  </thead>\n",
       "  <tbody>\n",
       "    <tr>\n",
       "      <th>0</th>\n",
       "      <td>0</td>\n",
       "      <td>r1.-f1</td>\n",
       "    </tr>\n",
       "    <tr>\n",
       "      <th>1</th>\n",
       "      <td>1</td>\n",
       "      <td>f1.d0.-r0.-f1.-d0.-f1.d0.-r0.f0.-f1.-r0.f1.-d1...</td>\n",
       "    </tr>\n",
       "    <tr>\n",
       "      <th>2</th>\n",
       "      <td>2</td>\n",
       "      <td>f1.d0.-d1.r0.-d1.-f0.f1.-r0.-f0.-r1.-f0.r0.-d0...</td>\n",
       "    </tr>\n",
       "    <tr>\n",
       "      <th>3</th>\n",
       "      <td>3</td>\n",
       "      <td>-f0.-r0.-f0.-d0.-f0.f1.r0.-d1.-r0.-r1.-r0.-f1....</td>\n",
       "    </tr>\n",
       "    <tr>\n",
       "      <th>4</th>\n",
       "      <td>4</td>\n",
       "      <td>d1.-f1.d1.r1.-f0.d1.-d0.-r1.d1.d1.-f1.d1.-d0.-...</td>\n",
       "    </tr>\n",
       "    <tr>\n",
       "      <th>...</th>\n",
       "      <td>...</td>\n",
       "      <td>...</td>\n",
       "    </tr>\n",
       "    <tr>\n",
       "      <th>393</th>\n",
       "      <td>393</td>\n",
       "      <td>f19.f21.-f39.f20.f2.-f5.f7.-r3.f55.-f12.f65.-f...</td>\n",
       "    </tr>\n",
       "    <tr>\n",
       "      <th>394</th>\n",
       "      <td>394</td>\n",
       "      <td>-f31.-f22.f16.-f17.-f13.-f24.-f14.f2.f21.f44.f...</td>\n",
       "    </tr>\n",
       "    <tr>\n",
       "      <th>395</th>\n",
       "      <td>395</td>\n",
       "      <td>-r0.-f42.-f8.f16.-f49.f14.-f1.f56.f26.f35.f62....</td>\n",
       "    </tr>\n",
       "    <tr>\n",
       "      <th>396</th>\n",
       "      <td>396</td>\n",
       "      <td>f25.-f29.f46.f49.-f8.f27.f26.-f20.f2.-f20.f6.f...</td>\n",
       "    </tr>\n",
       "    <tr>\n",
       "      <th>397</th>\n",
       "      <td>397</td>\n",
       "      <td>-r1.f23.-f24.-r2.f30.f30.f38.-f19.f24.f19.f18....</td>\n",
       "    </tr>\n",
       "  </tbody>\n",
       "</table>\n",
       "<p>398 rows × 2 columns</p>\n",
       "</div>"
      ],
      "text/plain": [
       "      id                                              moves\n",
       "0      0                                             r1.-f1\n",
       "1      1  f1.d0.-r0.-f1.-d0.-f1.d0.-r0.f0.-f1.-r0.f1.-d1...\n",
       "2      2  f1.d0.-d1.r0.-d1.-f0.f1.-r0.-f0.-r1.-f0.r0.-d0...\n",
       "3      3  -f0.-r0.-f0.-d0.-f0.f1.r0.-d1.-r0.-r1.-r0.-f1....\n",
       "4      4  d1.-f1.d1.r1.-f0.d1.-d0.-r1.d1.d1.-f1.d1.-d0.-...\n",
       "..   ...                                                ...\n",
       "393  393  f19.f21.-f39.f20.f2.-f5.f7.-r3.f55.-f12.f65.-f...\n",
       "394  394  -f31.-f22.f16.-f17.-f13.-f24.-f14.f2.f21.f44.f...\n",
       "395  395  -r0.-f42.-f8.f16.-f49.f14.-f1.f56.f26.f35.f62....\n",
       "396  396  f25.-f29.f46.f49.-f8.f27.f26.-f20.f2.-f20.f6.f...\n",
       "397  397  -r1.f23.-f24.-r2.f30.f30.f38.-f19.f24.f19.f18....\n",
       "\n",
       "[398 rows x 2 columns]"
      ]
     },
     "execution_count": 20,
     "metadata": {},
     "output_type": "execute_result"
    }
   ],
   "source": [
    "sub"
   ]
  },
  {
   "cell_type": "markdown",
   "id": "e9395390",
   "metadata": {},
   "source": [
    "- `allowed_moves`: 許される動き。逆動作もOK。各移動は[配列形式](https://docs.sympy.org/latest/modules/combinatorics/permutations.html)で与えられた順列。\n",
    "- `*_state`: 色の配置\n",
    "- `num_wildcards`: 間違えていい数\n",
    "- `moves`: 動作を`.`で繋ぐ。逆動作は`-`をつける"
   ]
  },
  {
   "cell_type": "markdown",
   "id": "6aba85bf",
   "metadata": {},
   "source": [
    "# permutation理解"
   ]
  },
  {
   "cell_type": "code",
   "execution_count": 21,
   "id": "c7405bad",
   "metadata": {},
   "outputs": [
    {
     "data": {
      "text/latex": [
       "$\\displaystyle \\left( 1\\; 2\\right)$"
      ],
      "text/plain": [
       "Permutation(1, 2)"
      ]
     },
     "execution_count": 21,
     "metadata": {},
     "output_type": "execute_result"
    }
   ],
   "source": [
    "p = Permutation([0, 2, 1])\n",
    "p"
   ]
  },
  {
   "cell_type": "code",
   "execution_count": 22,
   "id": "755913d4",
   "metadata": {},
   "outputs": [
    {
     "data": {
      "text/plain": [
       "[0, 2, 1]"
      ]
     },
     "execution_count": 22,
     "metadata": {},
     "output_type": "execute_result"
    }
   ],
   "source": [
    "[i^p for i in range(p.size)]"
   ]
  },
  {
   "cell_type": "code",
   "execution_count": 25,
   "id": "c6db3d5a",
   "metadata": {},
   "outputs": [
    {
     "data": {
      "text/plain": [
       "1"
      ]
     },
     "execution_count": 25,
     "metadata": {},
     "output_type": "execute_result"
    }
   ],
   "source": [
    "# mapping 2 to p[2]\n",
    "2^p"
   ]
  },
  {
   "cell_type": "code",
   "execution_count": 26,
   "id": "a97d2ebe",
   "metadata": {},
   "outputs": [
    {
     "data": {
      "text/plain": [
       "1"
      ]
     },
     "execution_count": 26,
     "metadata": {},
     "output_type": "execute_result"
    }
   ],
   "source": [
    "# mapping 2 to p[2]\n",
    "p(2)"
   ]
  },
  {
   "cell_type": "code",
   "execution_count": 27,
   "id": "9a6a08ab",
   "metadata": {},
   "outputs": [
    {
     "data": {
      "text/latex": [
       "$\\displaystyle \\left( 0\\; 1\\; 3\\right)$"
      ],
      "text/plain": [
       "Permutation(0, 1, 3)"
      ]
     },
     "execution_count": 27,
     "metadata": {},
     "output_type": "execute_result"
    }
   ],
   "source": [
    "# ループされる順序だけが表示される\n",
    "# 要素数1は表示されない\n",
    "Permutation([1, 3, 2, 0])"
   ]
  },
  {
   "cell_type": "code",
   "execution_count": 31,
   "id": "0a5a9a8a",
   "metadata": {},
   "outputs": [
    {
     "data": {
      "text/latex": [
       "$\\displaystyle \\left( 0\\; 1\\; 3\\right)$"
      ],
      "text/plain": [
       "Permutation(0, 1, 3)"
      ]
     },
     "execution_count": 31,
     "metadata": {},
     "output_type": "execute_result"
    }
   ],
   "source": [
    "Permutation(0,1,3)"
   ]
  },
  {
   "cell_type": "code",
   "execution_count": 32,
   "id": "1c00bac5",
   "metadata": {},
   "outputs": [
    {
     "data": {
      "text/latex": [
       "$\\displaystyle \\left( 1\\; 2\\right)\\left( 3\\; 5\\right)$"
      ],
      "text/plain": [
       "Permutation(1, 2)(3, 5)"
      ]
     },
     "execution_count": 32,
     "metadata": {},
     "output_type": "execute_result"
    }
   ],
   "source": [
    "Permutation(1, 2)(3, 5)"
   ]
  },
  {
   "cell_type": "code",
   "execution_count": 35,
   "id": "ffe9538a",
   "metadata": {},
   "outputs": [
    {
     "data": {
      "text/latex": [
       "$\\displaystyle \\left( 1\\; 3\\right)$"
      ],
      "text/plain": [
       "Permutation(1, 3)"
      ]
     },
     "execution_count": 35,
     "metadata": {},
     "output_type": "execute_result"
    }
   ],
   "source": [
    "Permutation(1, 2)(1, 3)(2, 3)"
   ]
  },
  {
   "cell_type": "code",
   "execution_count": 37,
   "id": "afb9af6d",
   "metadata": {},
   "outputs": [
    {
     "data": {
      "text/plain": [
       "[0, 3, 2, 1]"
      ]
     },
     "execution_count": 37,
     "metadata": {},
     "output_type": "execute_result"
    }
   ],
   "source": [
    "Permutation(1, 2)(1, 3)(2, 3).list()"
   ]
  },
  {
   "cell_type": "code",
   "execution_count": 36,
   "id": "2b6716c3",
   "metadata": {},
   "outputs": [
    {
     "data": {
      "text/latex": [
       "$\\displaystyle \\left( 1\\; 3\\right)$"
      ],
      "text/plain": [
       "Permutation(1, 3)"
      ]
     },
     "execution_count": 36,
     "metadata": {},
     "output_type": "execute_result"
    }
   ],
   "source": [
    "Permutation([0, 3, 2, 1])"
   ]
  },
  {
   "cell_type": "code",
   "execution_count": 99,
   "id": "6f4b4686",
   "metadata": {},
   "outputs": [
    {
     "data": {
      "text/plain": [
       "[1, 2, 0]"
      ]
     },
     "execution_count": 99,
     "metadata": {},
     "output_type": "execute_result"
    }
   ],
   "source": [
    "(Permutation([2, 0, 1])**-1).list()"
   ]
  },
  {
   "cell_type": "code",
   "execution_count": 100,
   "id": "ed00d461",
   "metadata": {},
   "outputs": [
    {
     "data": {
      "text/plain": [
       "[0, 3, 2, 1]"
      ]
     },
     "execution_count": 100,
     "metadata": {},
     "output_type": "execute_result"
    }
   ],
   "source": [
    "(Permutation([0, 3, 2, 1])**-1).list()"
   ]
  },
  {
   "cell_type": "code",
   "execution_count": 106,
   "id": "30d5d7c3",
   "metadata": {},
   "outputs": [
    {
     "data": {
      "text/plain": [
       "[1, 3, 0, 2]"
      ]
     },
     "execution_count": 106,
     "metadata": {},
     "output_type": "execute_result"
    }
   ],
   "source": [
    "(Permutation([2, 0,3, 1])**-1).list()"
   ]
  },
  {
   "cell_type": "code",
   "execution_count": 107,
   "id": "7cbbae6b",
   "metadata": {},
   "outputs": [
    {
     "data": {
      "text/plain": [
       "[1, 3, 0, 2]"
      ]
     },
     "execution_count": 107,
     "metadata": {},
     "output_type": "execute_result"
    }
   ],
   "source": [
    "# org=[2, 0, 1]\n",
    "org=[2, 0,3, 1]\n",
    "# org=[0, 3, 2, 1]\n",
    "inv=[0]*len(org)\n",
    "for i, o in enumerate(org):\n",
    "    inv[o]=i\n",
    "inv"
   ]
  },
  {
   "cell_type": "markdown",
   "id": "0000e145",
   "metadata": {},
   "source": [
    "# AtCoder形式へ変換"
   ]
  },
  {
   "cell_type": "code",
   "execution_count": 2,
   "id": "85814ea7",
   "metadata": {},
   "outputs": [],
   "source": [
    "import pandas as pd\n",
    "import numpy as np"
   ]
  },
  {
   "cell_type": "code",
   "execution_count": 3,
   "id": "56bf52e2",
   "metadata": {},
   "outputs": [],
   "source": [
    "p = './santa-2023/'\n",
    "puzzles = pd.read_csv(p+'puzzles.csv')\n",
    "puzzle_info = pd.read_csv(p+'puzzle_info.csv')\n",
    "sample_submission = pd.read_csv(p+'sample_submission.csv')"
   ]
  },
  {
   "cell_type": "code",
   "execution_count": 323,
   "id": "376a5b59",
   "metadata": {},
   "outputs": [
    {
     "data": {
      "text/html": [
       "<div>\n",
       "<style scoped>\n",
       "    .dataframe tbody tr th:only-of-type {\n",
       "        vertical-align: middle;\n",
       "    }\n",
       "\n",
       "    .dataframe tbody tr th {\n",
       "        vertical-align: top;\n",
       "    }\n",
       "\n",
       "    .dataframe thead th {\n",
       "        text-align: right;\n",
       "    }\n",
       "</style>\n",
       "<table border=\"1\" class=\"dataframe\">\n",
       "  <thead>\n",
       "    <tr style=\"text-align: right;\">\n",
       "      <th></th>\n",
       "      <th>id</th>\n",
       "      <th>puzzle_type</th>\n",
       "      <th>solution_state</th>\n",
       "      <th>initial_state</th>\n",
       "      <th>num_wildcards</th>\n",
       "      <th>allowed_moves</th>\n",
       "    </tr>\n",
       "  </thead>\n",
       "  <tbody>\n",
       "    <tr>\n",
       "      <th>0</th>\n",
       "      <td>0</td>\n",
       "      <td>cube_2/2/2</td>\n",
       "      <td>A;A;A;A;B;B;B;B;C;C;C;C;D;D;D;D;E;E;E;E;F;F;F;F</td>\n",
       "      <td>D;E;D;A;E;B;A;B;C;A;C;A;D;C;D;F;F;F;E;E;B;F;B;C</td>\n",
       "      <td>0</td>\n",
       "      <td>{'f0': [0, 1, 19, 17, 6, 4, 7, 5, 2, 9, 3, 11,...</td>\n",
       "    </tr>\n",
       "    <tr>\n",
       "      <th>1</th>\n",
       "      <td>1</td>\n",
       "      <td>cube_2/2/2</td>\n",
       "      <td>A;A;A;A;B;B;B;B;C;C;C;C;D;D;D;D;E;E;E;E;F;F;F;F</td>\n",
       "      <td>D;E;C;B;B;E;F;A;F;D;B;F;F;E;B;D;A;A;C;D;C;E;A;C</td>\n",
       "      <td>0</td>\n",
       "      <td>{'f0': [0, 1, 19, 17, 6, 4, 7, 5, 2, 9, 3, 11,...</td>\n",
       "    </tr>\n",
       "    <tr>\n",
       "      <th>2</th>\n",
       "      <td>2</td>\n",
       "      <td>cube_2/2/2</td>\n",
       "      <td>A;A;A;A;B;B;B;B;C;C;C;C;D;D;D;D;E;E;E;E;F;F;F;F</td>\n",
       "      <td>E;F;C;C;F;A;D;D;B;B;A;F;E;B;C;A;A;B;D;F;E;E;C;D</td>\n",
       "      <td>0</td>\n",
       "      <td>{'f0': [0, 1, 19, 17, 6, 4, 7, 5, 2, 9, 3, 11,...</td>\n",
       "    </tr>\n",
       "    <tr>\n",
       "      <th>3</th>\n",
       "      <td>3</td>\n",
       "      <td>cube_2/2/2</td>\n",
       "      <td>A;A;A;A;B;B;B;B;C;C;C;C;D;D;D;D;E;E;E;E;F;F;F;F</td>\n",
       "      <td>A;C;E;C;F;D;E;D;A;A;F;A;B;D;B;F;E;D;B;F;B;C;C;E</td>\n",
       "      <td>0</td>\n",
       "      <td>{'f0': [0, 1, 19, 17, 6, 4, 7, 5, 2, 9, 3, 11,...</td>\n",
       "    </tr>\n",
       "    <tr>\n",
       "      <th>4</th>\n",
       "      <td>4</td>\n",
       "      <td>cube_2/2/2</td>\n",
       "      <td>A;A;A;A;B;B;B;B;C;C;C;C;D;D;D;D;E;E;E;E;F;F;F;F</td>\n",
       "      <td>E;D;E;D;A;E;F;B;A;C;F;D;F;D;C;A;F;B;C;C;B;E;B;A</td>\n",
       "      <td>0</td>\n",
       "      <td>{'f0': [0, 1, 19, 17, 6, 4, 7, 5, 2, 9, 3, 11,...</td>\n",
       "    </tr>\n",
       "    <tr>\n",
       "      <th>...</th>\n",
       "      <td>...</td>\n",
       "      <td>...</td>\n",
       "      <td>...</td>\n",
       "      <td>...</td>\n",
       "      <td>...</td>\n",
       "      <td>...</td>\n",
       "    </tr>\n",
       "    <tr>\n",
       "      <th>393</th>\n",
       "      <td>393</td>\n",
       "      <td>globe_3/33</td>\n",
       "      <td>A;A;A;A;A;A;C;C;C;C;C;C;E;E;E;E;E;E;G;G;G;G;G;...</td>\n",
       "      <td>D;D;L;A;P;E;R;U;U;C;S;R;J;B;E;G;O;J;F;Q;R;E;D;...</td>\n",
       "      <td>0</td>\n",
       "      <td>{'r0': [1, 2, 3, 4, 5, 6, 7, 8, 9, 10, 11, 12,...</td>\n",
       "    </tr>\n",
       "    <tr>\n",
       "      <th>394</th>\n",
       "      <td>394</td>\n",
       "      <td>globe_3/33</td>\n",
       "      <td>A;A;A;A;A;A;C;C;C;C;C;C;E;E;E;E;E;E;G;G;G;G;G;...</td>\n",
       "      <td>V;L;N;G;B;V;R;E;H;A;K;S;I;N;G;E;V;C;L;G;S;M;P;...</td>\n",
       "      <td>0</td>\n",
       "      <td>{'r0': [1, 2, 3, 4, 5, 6, 7, 8, 9, 10, 11, 12,...</td>\n",
       "    </tr>\n",
       "    <tr>\n",
       "      <th>395</th>\n",
       "      <td>395</td>\n",
       "      <td>globe_3/33</td>\n",
       "      <td>N0;N1;N2;N3;N4;N5;N6;N7;N8;N9;N10;N11;N12;N13;...</td>\n",
       "      <td>N12;N219;N227;N198;N4;N208;N214;N245;N56;N55;N...</td>\n",
       "      <td>0</td>\n",
       "      <td>{'r0': [1, 2, 3, 4, 5, 6, 7, 8, 9, 10, 11, 12,...</td>\n",
       "    </tr>\n",
       "    <tr>\n",
       "      <th>396</th>\n",
       "      <td>396</td>\n",
       "      <td>globe_8/25</td>\n",
       "      <td>A;A;A;A;A;D;D;D;D;D;G;G;G;G;G;J;J;J;J;J;M;M;M;...</td>\n",
       "      <td>V;P;F;L;P;X;O;A;J;b;V;Y;D;Y;C;X;J;F;U;G;d;L;b;...</td>\n",
       "      <td>0</td>\n",
       "      <td>{'r0': [1, 2, 3, 4, 5, 6, 7, 8, 9, 10, 11, 12,...</td>\n",
       "    </tr>\n",
       "    <tr>\n",
       "      <th>397</th>\n",
       "      <td>397</td>\n",
       "      <td>globe_8/25</td>\n",
       "      <td>A;A;A;A;A;D;D;D;D;D;G;G;G;G;G;J;J;J;J;J;M;M;M;...</td>\n",
       "      <td>V;O;a;I;a;F;C;D;C;d;I;O;U;F;F;G;L;I;Y;Y;X;X;a;...</td>\n",
       "      <td>0</td>\n",
       "      <td>{'r0': [1, 2, 3, 4, 5, 6, 7, 8, 9, 10, 11, 12,...</td>\n",
       "    </tr>\n",
       "  </tbody>\n",
       "</table>\n",
       "<p>398 rows × 6 columns</p>\n",
       "</div>"
      ],
      "text/plain": [
       "      id puzzle_type                                     solution_state  \\\n",
       "0      0  cube_2/2/2    A;A;A;A;B;B;B;B;C;C;C;C;D;D;D;D;E;E;E;E;F;F;F;F   \n",
       "1      1  cube_2/2/2    A;A;A;A;B;B;B;B;C;C;C;C;D;D;D;D;E;E;E;E;F;F;F;F   \n",
       "2      2  cube_2/2/2    A;A;A;A;B;B;B;B;C;C;C;C;D;D;D;D;E;E;E;E;F;F;F;F   \n",
       "3      3  cube_2/2/2    A;A;A;A;B;B;B;B;C;C;C;C;D;D;D;D;E;E;E;E;F;F;F;F   \n",
       "4      4  cube_2/2/2    A;A;A;A;B;B;B;B;C;C;C;C;D;D;D;D;E;E;E;E;F;F;F;F   \n",
       "..   ...         ...                                                ...   \n",
       "393  393  globe_3/33  A;A;A;A;A;A;C;C;C;C;C;C;E;E;E;E;E;E;G;G;G;G;G;...   \n",
       "394  394  globe_3/33  A;A;A;A;A;A;C;C;C;C;C;C;E;E;E;E;E;E;G;G;G;G;G;...   \n",
       "395  395  globe_3/33  N0;N1;N2;N3;N4;N5;N6;N7;N8;N9;N10;N11;N12;N13;...   \n",
       "396  396  globe_8/25  A;A;A;A;A;D;D;D;D;D;G;G;G;G;G;J;J;J;J;J;M;M;M;...   \n",
       "397  397  globe_8/25  A;A;A;A;A;D;D;D;D;D;G;G;G;G;G;J;J;J;J;J;M;M;M;...   \n",
       "\n",
       "                                         initial_state  num_wildcards  \\\n",
       "0      D;E;D;A;E;B;A;B;C;A;C;A;D;C;D;F;F;F;E;E;B;F;B;C              0   \n",
       "1      D;E;C;B;B;E;F;A;F;D;B;F;F;E;B;D;A;A;C;D;C;E;A;C              0   \n",
       "2      E;F;C;C;F;A;D;D;B;B;A;F;E;B;C;A;A;B;D;F;E;E;C;D              0   \n",
       "3      A;C;E;C;F;D;E;D;A;A;F;A;B;D;B;F;E;D;B;F;B;C;C;E              0   \n",
       "4      E;D;E;D;A;E;F;B;A;C;F;D;F;D;C;A;F;B;C;C;B;E;B;A              0   \n",
       "..                                                 ...            ...   \n",
       "393  D;D;L;A;P;E;R;U;U;C;S;R;J;B;E;G;O;J;F;Q;R;E;D;...              0   \n",
       "394  V;L;N;G;B;V;R;E;H;A;K;S;I;N;G;E;V;C;L;G;S;M;P;...              0   \n",
       "395  N12;N219;N227;N198;N4;N208;N214;N245;N56;N55;N...              0   \n",
       "396  V;P;F;L;P;X;O;A;J;b;V;Y;D;Y;C;X;J;F;U;G;d;L;b;...              0   \n",
       "397  V;O;a;I;a;F;C;D;C;d;I;O;U;F;F;G;L;I;Y;Y;X;X;a;...              0   \n",
       "\n",
       "                                         allowed_moves  \n",
       "0    {'f0': [0, 1, 19, 17, 6, 4, 7, 5, 2, 9, 3, 11,...  \n",
       "1    {'f0': [0, 1, 19, 17, 6, 4, 7, 5, 2, 9, 3, 11,...  \n",
       "2    {'f0': [0, 1, 19, 17, 6, 4, 7, 5, 2, 9, 3, 11,...  \n",
       "3    {'f0': [0, 1, 19, 17, 6, 4, 7, 5, 2, 9, 3, 11,...  \n",
       "4    {'f0': [0, 1, 19, 17, 6, 4, 7, 5, 2, 9, 3, 11,...  \n",
       "..                                                 ...  \n",
       "393  {'r0': [1, 2, 3, 4, 5, 6, 7, 8, 9, 10, 11, 12,...  \n",
       "394  {'r0': [1, 2, 3, 4, 5, 6, 7, 8, 9, 10, 11, 12,...  \n",
       "395  {'r0': [1, 2, 3, 4, 5, 6, 7, 8, 9, 10, 11, 12,...  \n",
       "396  {'r0': [1, 2, 3, 4, 5, 6, 7, 8, 9, 10, 11, 12,...  \n",
       "397  {'r0': [1, 2, 3, 4, 5, 6, 7, 8, 9, 10, 11, 12,...  \n",
       "\n",
       "[398 rows x 6 columns]"
      ]
     },
     "execution_count": 323,
     "metadata": {},
     "output_type": "execute_result"
    }
   ],
   "source": [
    "df=puzzles.merge(puzzle_info, on=\"puzzle_type\")\n",
    "df"
   ]
  },
  {
   "cell_type": "code",
   "execution_count": 324,
   "id": "945eec64",
   "metadata": {},
   "outputs": [],
   "source": [
    "df[\"initial_state\"]=df[\"initial_state\"].str.split(\";\")"
   ]
  },
  {
   "cell_type": "code",
   "execution_count": 325,
   "id": "ab935f45",
   "metadata": {},
   "outputs": [],
   "source": [
    "df[\"solution_state\"]=df[\"solution_state\"].str.split(\";\")"
   ]
  },
  {
   "cell_type": "code",
   "execution_count": 326,
   "id": "33878210",
   "metadata": {},
   "outputs": [],
   "source": [
    "df[\"state_length\"]=df[\"solution_state\"].map(len)"
   ]
  },
  {
   "cell_type": "code",
   "execution_count": 327,
   "id": "af5d23ee",
   "metadata": {},
   "outputs": [],
   "source": [
    "df[\"allowed_moves\"]=df[\"allowed_moves\"].map(eval)"
   ]
  },
  {
   "cell_type": "code",
   "execution_count": 328,
   "id": "1d2f60e8",
   "metadata": {},
   "outputs": [],
   "source": [
    "df[\"allowed_action_num\"]=df[\"allowed_moves\"].map(len)"
   ]
  },
  {
   "cell_type": "code",
   "execution_count": 329,
   "id": "175dfc73",
   "metadata": {},
   "outputs": [],
   "source": [
    "df[\"perm_length\"]=df[\"allowed_moves\"].map(lambda x: len(list(x.values())[0]))"
   ]
  },
  {
   "cell_type": "code",
   "execution_count": 330,
   "id": "fa19dafd",
   "metadata": {},
   "outputs": [],
   "source": [
    "assert (df[\"state_length\"]==df[\"perm_length\"]).all()"
   ]
  },
  {
   "cell_type": "code",
   "execution_count": 331,
   "id": "15ca1864",
   "metadata": {},
   "outputs": [],
   "source": [
    "from pathlib import Path\n",
    "output_dir = Path(f\"./data\")\n",
    "output_dir.mkdir(parents=True, exist_ok=True)\n",
    "for i, row in df.iterrows():\n",
    "    with open(output_dir / f\"{row['id']}.txt\", \"w\") as f:\n",
    "        f.write(f'{row[\"puzzle_type\"]}\\n')\n",
    "        f.write(f'{row[\"state_length\"]}\\n')\n",
    "        f.write(f'{\" \".join(row[\"initial_state\"])}\\n')\n",
    "        f.write(f'{\" \".join(row[\"solution_state\"])}\\n')\n",
    "        f.write(f'{row[\"allowed_action_num\"]}\\n')\n",
    "        for k,v in row[\"allowed_moves\"].items():\n",
    "            f.write(f\"{k} {' '.join(map(str,v))}\\n\")\n",
    "        f.write(f'{row[\"num_wildcards\"]}\\n')"
   ]
  },
  {
   "cell_type": "markdown",
   "id": "14d35e37",
   "metadata": {},
   "source": [
    "# sample_submittionを分割"
   ]
  },
  {
   "cell_type": "code",
   "execution_count": 154,
   "id": "5d75f91f",
   "metadata": {},
   "outputs": [],
   "source": [
    "for i, row in submit.iterrows():\n",
    "# for i, row in sample_submission.iterrows():\n",
    "    filename=f\"output/{i}.txt\"\n",
    "    with open(filename, \"w\") as f:\n",
    "        f.write(row[\"moves\"])"
   ]
  },
  {
   "cell_type": "markdown",
   "id": "6367212d",
   "metadata": {},
   "source": [
    "# デコード"
   ]
  },
  {
   "cell_type": "code",
   "execution_count": 15,
   "id": "1ff7688c",
   "metadata": {},
   "outputs": [],
   "source": [
    "import os\n",
    "p = './santa-2023/'\n",
    "sample_submission = pd.read_csv(p+'sample_submission.csv')\n",
    "\n",
    "# https://www.kaggle.com/code/dinhttrandrise/bidirectional-brute-force-w-wildcards/notebook\n",
    "# sample_submission = pd.read_csv('Bidirectional_Brute_Force_w_Wildcards.csv')\n",
    "\n",
    "# https://www.kaggle.com/code/wrrosa/santa-2023-kociemba-s-two-phase-algo-1-116-550/output\n",
    "# sample_submission = pd.read_csv('Kociemba_two_phase_algo.csv')\n",
    "\n",
    "# https://www.kaggle.com/code/yunsuxiaozi/k-step-optimal-solution-santa/output?select=submission.csv\n",
    "# sample_submission = pd.read_csv('K_step_optimal_solution.csv')\n",
    "\n",
    "# https://www.kaggle.com/code/paulorzp/magic-cube-utilities/output\n",
    "# sample_submission = pd.read_csv('Magic_Cube_Utilities.csv')\n",
    "# →変化なし\n",
    "\n",
    "# https://www.kaggle.com/code/seanbearden/kociemba-w-greedy-all-3x3x3-ensemble/output\n",
    "# sample_submission = pd.read_csv('Kociemba_w_Greedy.csv')\n",
    "\n",
    "# sample_submission = pd.read_csv('solver_submit.csv')\n",
    "# sample_submission = pd.read_csv('submission.csv')\n"
   ]
  },
  {
   "cell_type": "code",
   "execution_count": 16,
   "id": "e30407fa",
   "metadata": {},
   "outputs": [],
   "source": [
    "case_num=398"
   ]
  },
  {
   "cell_type": "code",
   "execution_count": 27,
   "id": "85940ec8",
   "metadata": {},
   "outputs": [],
   "source": [
    "submit=sample_submission.copy()\n",
    "for i in range(case_num):\n",
    "    filename=f\"output/{i}.txt\"\n",
    "    with open(filename) as f:\n",
    "        ans=f.readline()\n",
    "        if len(ans.split(\".\"))<=len(submit.at[i, \"moves\"].split(\".\")):\n",
    "            submit.at[i, \"moves\"]=ans"
   ]
  },
  {
   "cell_type": "code",
   "execution_count": 28,
   "id": "359661ff",
   "metadata": {},
   "outputs": [],
   "source": [
    "submit.to_csv(\"submission.csv\", index=False)"
   ]
  },
  {
   "cell_type": "code",
   "execution_count": 29,
   "id": "29f95fdf",
   "metadata": {},
   "outputs": [
    {
     "data": {
      "text/plain": [
       "819038"
      ]
     },
     "execution_count": 29,
     "metadata": {},
     "output_type": "execute_result"
    }
   ],
   "source": [
    "score=submit[\"moves\"].str.split(\".\").map(len).sum()\n",
    "score"
   ]
  },
  {
   "cell_type": "code",
   "execution_count": 31,
   "id": "5b7cc44a",
   "metadata": {},
   "outputs": [
    {
     "data": {
      "text/plain": [
       "819038"
      ]
     },
     "execution_count": 31,
     "metadata": {},
     "output_type": "execute_result"
    }
   ],
   "source": [
    "819038"
   ]
  },
  {
   "cell_type": "code",
   "execution_count": null,
   "id": "7211922e",
   "metadata": {},
   "outputs": [],
   "source": []
  },
  {
   "cell_type": "code",
   "execution_count": 19,
   "id": "3fefc1bf",
   "metadata": {},
   "outputs": [],
   "source": [
    "p = './santa-2023/'\n",
    "puzzles = pd.read_csv(p+'puzzles.csv')\n",
    "puzzles=puzzles.merge(submit,on=\"id\", how=\"left\")"
   ]
  },
  {
   "cell_type": "code",
   "execution_count": 20,
   "id": "88af40a8",
   "metadata": {},
   "outputs": [],
   "source": [
    "puzzles[\"length\"]=puzzles[\"moves\"].str.split(\".\").map(len)"
   ]
  },
  {
   "cell_type": "code",
   "execution_count": 21,
   "id": "e5aafdcd",
   "metadata": {},
   "outputs": [
    {
     "data": {
      "text/plain": [
       "<AxesSubplot: xlabel='id'>"
      ]
     },
     "execution_count": 21,
     "metadata": {},
     "output_type": "execute_result"
    },
    {
     "data": {
      "image/png": "[encoded data removed]",
      "text/plain": [
       "<Figure size 640x480 with 1 Axes>"
      ]
     },
     "metadata": {},
     "output_type": "display_data"
    }
   ],
   "source": [
    "puzzles.set_index(\"id\")[\"length\"].plot()#.plot(kind=\"bar\")"
   ]
  },
  {
   "cell_type": "code",
   "execution_count": 22,
   "id": "87bdb3bb",
   "metadata": {},
   "outputs": [
    {
     "data": {
      "text/html": [
       "<div>\n",
       "<style scoped>\n",
       "    .dataframe tbody tr th:only-of-type {\n",
       "        vertical-align: middle;\n",
       "    }\n",
       "\n",
       "    .dataframe tbody tr th {\n",
       "        vertical-align: top;\n",
       "    }\n",
       "\n",
       "    .dataframe thead th {\n",
       "        text-align: right;\n",
       "    }\n",
       "</style>\n",
       "<table border=\"1\" class=\"dataframe\">\n",
       "  <thead>\n",
       "    <tr style=\"text-align: right;\">\n",
       "      <th></th>\n",
       "      <th>id</th>\n",
       "      <th>puzzle_type</th>\n",
       "      <th>solution_state</th>\n",
       "      <th>initial_state</th>\n",
       "      <th>num_wildcards</th>\n",
       "      <th>moves</th>\n",
       "      <th>length</th>\n",
       "    </tr>\n",
       "  </thead>\n",
       "  <tbody>\n",
       "    <tr>\n",
       "      <th>396</th>\n",
       "      <td>396</td>\n",
       "      <td>globe_8/25</td>\n",
       "      <td>A;A;A;A;A;D;D;D;D;D;G;G;G;G;G;J;J;J;J;J;M;M;M;...</td>\n",
       "      <td>V;P;F;L;P;X;O;A;J;b;V;Y;D;Y;C;X;J;F;U;G;d;L;b;...</td>\n",
       "      <td>0</td>\n",
       "      <td>f25.-f29.f46.f49.-f8.f27.f26.-f20.f2.-f20.f6.f...</td>\n",
       "      <td>26362</td>\n",
       "    </tr>\n",
       "    <tr>\n",
       "      <th>388</th>\n",
       "      <td>388</td>\n",
       "      <td>globe_3/33</td>\n",
       "      <td>A;A;A;A;A;A;C;C;C;C;C;C;E;E;E;E;E;E;G;G;G;G;G;...</td>\n",
       "      <td>G;Q;G;D;E;T;E;N;U;H;H;U;O;F;T;B;S;M;A;N;D;V;V;...</td>\n",
       "      <td>6</td>\n",
       "      <td>-f14.f23.-r1.f10.-f22.-f43.f4.f38.f22.f52.-f14...</td>\n",
       "      <td>26592</td>\n",
       "    </tr>\n",
       "    <tr>\n",
       "      <th>394</th>\n",
       "      <td>394</td>\n",
       "      <td>globe_3/33</td>\n",
       "      <td>A;A;A;A;A;A;C;C;C;C;C;C;E;E;E;E;E;E;G;G;G;G;G;...</td>\n",
       "      <td>V;L;N;G;B;V;R;E;H;A;K;S;I;N;G;E;V;C;L;G;S;M;P;...</td>\n",
       "      <td>0</td>\n",
       "      <td>-f31.-f22.f16.-f17.-f13.-f24.-f14.f2.f21.f44.f...</td>\n",
       "      <td>28659</td>\n",
       "    </tr>\n",
       "    <tr>\n",
       "      <th>395</th>\n",
       "      <td>395</td>\n",
       "      <td>globe_3/33</td>\n",
       "      <td>N0;N1;N2;N3;N4;N5;N6;N7;N8;N9;N10;N11;N12;N13;...</td>\n",
       "      <td>N12;N219;N227;N198;N4;N208;N214;N245;N56;N55;N...</td>\n",
       "      <td>0</td>\n",
       "      <td>-r0.-f42.-f8.f16.-f49.f14.-f1.f56.f26.f35.f62....</td>\n",
       "      <td>28758</td>\n",
       "    </tr>\n",
       "    <tr>\n",
       "      <th>393</th>\n",
       "      <td>393</td>\n",
       "      <td>globe_3/33</td>\n",
       "      <td>A;A;A;A;A;A;C;C;C;C;C;C;E;E;E;E;E;E;G;G;G;G;G;...</td>\n",
       "      <td>D;D;L;A;P;E;R;U;U;C;S;R;J;B;E;G;O;J;F;Q;R;E;D;...</td>\n",
       "      <td>0</td>\n",
       "      <td>-f19.-f21.-f39.-f20.-f2.-f5.-f7.-r3.-f55.-f12....</td>\n",
       "      <td>29804</td>\n",
       "    </tr>\n",
       "    <tr>\n",
       "      <th>391</th>\n",
       "      <td>391</td>\n",
       "      <td>globe_3/33</td>\n",
       "      <td>N0;N1;N2;N3;N4;N5;N6;N7;N8;N9;N10;N11;N12;N13;...</td>\n",
       "      <td>N237;N257;N199;N215;N54;N261;N50;N6;N57;N32;N2...</td>\n",
       "      <td>0</td>\n",
       "      <td>-f40.-f19.-f9.-f20.-f16.-f5.-f45.-f52.-f4.-f30...</td>\n",
       "      <td>29859</td>\n",
       "    </tr>\n",
       "    <tr>\n",
       "      <th>389</th>\n",
       "      <td>389</td>\n",
       "      <td>globe_3/33</td>\n",
       "      <td>A;A;A;A;A;A;C;C;C;C;C;C;E;E;E;E;E;E;G;G;G;G;G;...</td>\n",
       "      <td>H;A;P;K;G;N;U;G;D;V;E;L;D;O;E;Q;D;A;A;H;L;J;A;...</td>\n",
       "      <td>0</td>\n",
       "      <td>f51.f11.-f1.-f42.f47.f10.-f49.-r3.-f51.f11.-f1...</td>\n",
       "      <td>32410</td>\n",
       "    </tr>\n",
       "    <tr>\n",
       "      <th>281</th>\n",
       "      <td>281</td>\n",
       "      <td>cube_33/33/33</td>\n",
       "      <td>A;A;A;A;A;A;A;A;A;A;A;A;A;A;A;A;A;A;A;A;A;A;A;...</td>\n",
       "      <td>B;F;C;B;E;F;A;F;F;C;B;A;F;A;D;C;C;B;E;E;C;D;B;...</td>\n",
       "      <td>0</td>\n",
       "      <td>f0.f1.f2.f3.f4.f5.f6.f7.f8.f9.f10.f11.f12.f13....</td>\n",
       "      <td>82665</td>\n",
       "    </tr>\n",
       "    <tr>\n",
       "      <th>283</th>\n",
       "      <td>283</td>\n",
       "      <td>cube_33/33/33</td>\n",
       "      <td>N0;N1;N2;N3;N4;N5;N6;N7;N8;N9;N10;N11;N12;N13;...</td>\n",
       "      <td>N1056;N4357;N3264;N3270;N924;N2183;N1095;N6526...</td>\n",
       "      <td>0</td>\n",
       "      <td>f11.-d15.-r13.d0.-f0.f11.-r12.r29.-d4.-r28.-r2...</td>\n",
       "      <td>108592</td>\n",
       "    </tr>\n",
       "    <tr>\n",
       "      <th>282</th>\n",
       "      <td>282</td>\n",
       "      <td>cube_33/33/33</td>\n",
       "      <td>A;B;A;B;A;B;A;B;A;B;A;B;A;B;A;B;A;B;A;B;A;B;A;...</td>\n",
       "      <td>F;B;A;F;A;C;B;B;C;B;B;A;E;F;A;E;E;E;B;E;B;F;E;...</td>\n",
       "      <td>0</td>\n",
       "      <td>f7.-d1.r3.r25.-r2.r12.-f1.-r4.f25.r28.d7.f3.d8...</td>\n",
       "      <td>139545</td>\n",
       "    </tr>\n",
       "  </tbody>\n",
       "</table>\n",
       "</div>"
      ],
      "text/plain": [
       "      id    puzzle_type                                     solution_state  \\\n",
       "396  396     globe_8/25  A;A;A;A;A;D;D;D;D;D;G;G;G;G;G;J;J;J;J;J;M;M;M;...   \n",
       "388  388     globe_3/33  A;A;A;A;A;A;C;C;C;C;C;C;E;E;E;E;E;E;G;G;G;G;G;...   \n",
       "394  394     globe_3/33  A;A;A;A;A;A;C;C;C;C;C;C;E;E;E;E;E;E;G;G;G;G;G;...   \n",
       "395  395     globe_3/33  N0;N1;N2;N3;N4;N5;N6;N7;N8;N9;N10;N11;N12;N13;...   \n",
       "393  393     globe_3/33  A;A;A;A;A;A;C;C;C;C;C;C;E;E;E;E;E;E;G;G;G;G;G;...   \n",
       "391  391     globe_3/33  N0;N1;N2;N3;N4;N5;N6;N7;N8;N9;N10;N11;N12;N13;...   \n",
       "389  389     globe_3/33  A;A;A;A;A;A;C;C;C;C;C;C;E;E;E;E;E;E;G;G;G;G;G;...   \n",
       "281  281  cube_33/33/33  A;A;A;A;A;A;A;A;A;A;A;A;A;A;A;A;A;A;A;A;A;A;A;...   \n",
       "283  283  cube_33/33/33  N0;N1;N2;N3;N4;N5;N6;N7;N8;N9;N10;N11;N12;N13;...   \n",
       "282  282  cube_33/33/33  A;B;A;B;A;B;A;B;A;B;A;B;A;B;A;B;A;B;A;B;A;B;A;...   \n",
       "\n",
       "                                         initial_state  num_wildcards  \\\n",
       "396  V;P;F;L;P;X;O;A;J;b;V;Y;D;Y;C;X;J;F;U;G;d;L;b;...              0   \n",
       "388  G;Q;G;D;E;T;E;N;U;H;H;U;O;F;T;B;S;M;A;N;D;V;V;...              6   \n",
       "394  V;L;N;G;B;V;R;E;H;A;K;S;I;N;G;E;V;C;L;G;S;M;P;...              0   \n",
       "395  N12;N219;N227;N198;N4;N208;N214;N245;N56;N55;N...              0   \n",
       "393  D;D;L;A;P;E;R;U;U;C;S;R;J;B;E;G;O;J;F;Q;R;E;D;...              0   \n",
       "391  N237;N257;N199;N215;N54;N261;N50;N6;N57;N32;N2...              0   \n",
       "389  H;A;P;K;G;N;U;G;D;V;E;L;D;O;E;Q;D;A;A;H;L;J;A;...              0   \n",
       "281  B;F;C;B;E;F;A;F;F;C;B;A;F;A;D;C;C;B;E;E;C;D;B;...              0   \n",
       "283  N1056;N4357;N3264;N3270;N924;N2183;N1095;N6526...              0   \n",
       "282  F;B;A;F;A;C;B;B;C;B;B;A;E;F;A;E;E;E;B;E;B;F;E;...              0   \n",
       "\n",
       "                                                 moves  length  \n",
       "396  f25.-f29.f46.f49.-f8.f27.f26.-f20.f2.-f20.f6.f...   26362  \n",
       "388  -f14.f23.-r1.f10.-f22.-f43.f4.f38.f22.f52.-f14...   26592  \n",
       "394  -f31.-f22.f16.-f17.-f13.-f24.-f14.f2.f21.f44.f...   28659  \n",
       "395  -r0.-f42.-f8.f16.-f49.f14.-f1.f56.f26.f35.f62....   28758  \n",
       "393  -f19.-f21.-f39.-f20.-f2.-f5.-f7.-r3.-f55.-f12....   29804  \n",
       "391  -f40.-f19.-f9.-f20.-f16.-f5.-f45.-f52.-f4.-f30...   29859  \n",
       "389  f51.f11.-f1.-f42.f47.f10.-f49.-r3.-f51.f11.-f1...   32410  \n",
       "281  f0.f1.f2.f3.f4.f5.f6.f7.f8.f9.f10.f11.f12.f13....   82665  \n",
       "283  f11.-d15.-r13.d0.-f0.f11.-r12.r29.-d4.-r28.-r2...  108592  \n",
       "282  f7.-d1.r3.r25.-r2.r12.-f1.-r4.f25.r28.d7.f3.d8...  139545  "
      ]
     },
     "execution_count": 22,
     "metadata": {},
     "output_type": "execute_result"
    }
   ],
   "source": [
    "puzzles.sort_values(\"length\").tail(10)"
   ]
  },
  {
   "cell_type": "code",
   "execution_count": 25,
   "id": "d5fa33d0",
   "metadata": {},
   "outputs": [
    {
     "data": {
      "text/html": [
       "<div>\n",
       "<style scoped>\n",
       "    .dataframe tbody tr th:only-of-type {\n",
       "        vertical-align: middle;\n",
       "    }\n",
       "\n",
       "    .dataframe tbody tr th {\n",
       "        vertical-align: top;\n",
       "    }\n",
       "\n",
       "    .dataframe thead th {\n",
       "        text-align: right;\n",
       "    }\n",
       "</style>\n",
       "<table border=\"1\" class=\"dataframe\">\n",
       "  <thead>\n",
       "    <tr style=\"text-align: right;\">\n",
       "      <th></th>\n",
       "      <th>count</th>\n",
       "      <th>mean</th>\n",
       "      <th>std</th>\n",
       "      <th>min</th>\n",
       "      <th>25%</th>\n",
       "      <th>50%</th>\n",
       "      <th>75%</th>\n",
       "      <th>max</th>\n",
       "    </tr>\n",
       "    <tr>\n",
       "      <th>puzzle_type</th>\n",
       "      <th></th>\n",
       "      <th></th>\n",
       "      <th></th>\n",
       "      <th></th>\n",
       "      <th></th>\n",
       "      <th></th>\n",
       "      <th></th>\n",
       "      <th></th>\n",
       "    </tr>\n",
       "  </thead>\n",
       "  <tbody>\n",
       "    <tr>\n",
       "      <th>cube_10/10/10</th>\n",
       "      <td>5.0</td>\n",
       "      <td>2034.200000</td>\n",
       "      <td>57.798789</td>\n",
       "      <td>1958.0</td>\n",
       "      <td>2021.00</td>\n",
       "      <td>2027.0</td>\n",
       "      <td>2046.00</td>\n",
       "      <td>2119.0</td>\n",
       "    </tr>\n",
       "    <tr>\n",
       "      <th>cube_19/19/19</th>\n",
       "      <td>4.0</td>\n",
       "      <td>14967.750000</td>\n",
       "      <td>290.610134</td>\n",
       "      <td>14639.0</td>\n",
       "      <td>14765.75</td>\n",
       "      <td>15002.5</td>\n",
       "      <td>15204.50</td>\n",
       "      <td>15227.0</td>\n",
       "    </tr>\n",
       "    <tr>\n",
       "      <th>cube_2/2/2</th>\n",
       "      <td>30.0</td>\n",
       "      <td>10.500000</td>\n",
       "      <td>1.907336</td>\n",
       "      <td>2.0</td>\n",
       "      <td>10.00</td>\n",
       "      <td>11.0</td>\n",
       "      <td>11.75</td>\n",
       "      <td>13.0</td>\n",
       "    </tr>\n",
       "    <tr>\n",
       "      <th>cube_3/3/3</th>\n",
       "      <td>120.0</td>\n",
       "      <td>35.275000</td>\n",
       "      <td>4.695720</td>\n",
       "      <td>20.0</td>\n",
       "      <td>32.00</td>\n",
       "      <td>35.0</td>\n",
       "      <td>38.25</td>\n",
       "      <td>46.0</td>\n",
       "    </tr>\n",
       "    <tr>\n",
       "      <th>cube_33/33/33</th>\n",
       "      <td>3.0</td>\n",
       "      <td>110267.333333</td>\n",
       "      <td>28476.984678</td>\n",
       "      <td>82665.0</td>\n",
       "      <td>95628.50</td>\n",
       "      <td>108592.0</td>\n",
       "      <td>124068.50</td>\n",
       "      <td>139545.0</td>\n",
       "    </tr>\n",
       "    <tr>\n",
       "      <th>cube_4/4/4</th>\n",
       "      <td>60.0</td>\n",
       "      <td>163.266667</td>\n",
       "      <td>158.416301</td>\n",
       "      <td>76.0</td>\n",
       "      <td>91.00</td>\n",
       "      <td>97.0</td>\n",
       "      <td>101.25</td>\n",
       "      <td>605.0</td>\n",
       "    </tr>\n",
       "    <tr>\n",
       "      <th>cube_5/5/5</th>\n",
       "      <td>35.0</td>\n",
       "      <td>550.914286</td>\n",
       "      <td>616.749514</td>\n",
       "      <td>150.0</td>\n",
       "      <td>171.00</td>\n",
       "      <td>177.0</td>\n",
       "      <td>1166.00</td>\n",
       "      <td>1884.0</td>\n",
       "    </tr>\n",
       "    <tr>\n",
       "      <th>cube_6/6/6</th>\n",
       "      <td>12.0</td>\n",
       "      <td>786.666667</td>\n",
       "      <td>1044.743756</td>\n",
       "      <td>319.0</td>\n",
       "      <td>338.00</td>\n",
       "      <td>345.0</td>\n",
       "      <td>354.25</td>\n",
       "      <td>3289.0</td>\n",
       "    </tr>\n",
       "    <tr>\n",
       "      <th>cube_7/7/7</th>\n",
       "      <td>5.0</td>\n",
       "      <td>562.400000</td>\n",
       "      <td>34.558646</td>\n",
       "      <td>506.0</td>\n",
       "      <td>553.00</td>\n",
       "      <td>578.0</td>\n",
       "      <td>586.00</td>\n",
       "      <td>589.0</td>\n",
       "    </tr>\n",
       "    <tr>\n",
       "      <th>cube_8/8/8</th>\n",
       "      <td>5.0</td>\n",
       "      <td>963.000000</td>\n",
       "      <td>10.368221</td>\n",
       "      <td>945.0</td>\n",
       "      <td>964.00</td>\n",
       "      <td>967.0</td>\n",
       "      <td>968.00</td>\n",
       "      <td>971.0</td>\n",
       "    </tr>\n",
       "    <tr>\n",
       "      <th>cube_9/9/9</th>\n",
       "      <td>5.0</td>\n",
       "      <td>1342.600000</td>\n",
       "      <td>10.737784</td>\n",
       "      <td>1333.0</td>\n",
       "      <td>1338.00</td>\n",
       "      <td>1340.0</td>\n",
       "      <td>1341.00</td>\n",
       "      <td>1361.0</td>\n",
       "    </tr>\n",
       "    <tr>\n",
       "      <th>globe_1/16</th>\n",
       "      <td>5.0</td>\n",
       "      <td>448.200000</td>\n",
       "      <td>31.704889</td>\n",
       "      <td>396.0</td>\n",
       "      <td>440.00</td>\n",
       "      <td>466.0</td>\n",
       "      <td>468.00</td>\n",
       "      <td>471.0</td>\n",
       "    </tr>\n",
       "    <tr>\n",
       "      <th>globe_1/8</th>\n",
       "      <td>10.0</td>\n",
       "      <td>208.300000</td>\n",
       "      <td>36.264614</td>\n",
       "      <td>175.0</td>\n",
       "      <td>187.50</td>\n",
       "      <td>199.5</td>\n",
       "      <td>205.25</td>\n",
       "      <td>300.0</td>\n",
       "    </tr>\n",
       "    <tr>\n",
       "      <th>globe_2/6</th>\n",
       "      <td>5.0</td>\n",
       "      <td>368.400000</td>\n",
       "      <td>52.476661</td>\n",
       "      <td>295.0</td>\n",
       "      <td>337.00</td>\n",
       "      <td>378.0</td>\n",
       "      <td>413.00</td>\n",
       "      <td>419.0</td>\n",
       "    </tr>\n",
       "    <tr>\n",
       "      <th>globe_3/33</th>\n",
       "      <td>8.0</td>\n",
       "      <td>27909.000000</td>\n",
       "      <td>3189.017314</td>\n",
       "      <td>22311.0</td>\n",
       "      <td>26163.75</td>\n",
       "      <td>28708.5</td>\n",
       "      <td>29817.75</td>\n",
       "      <td>32410.0</td>\n",
       "    </tr>\n",
       "    <tr>\n",
       "      <th>globe_3/4</th>\n",
       "      <td>15.0</td>\n",
       "      <td>1643.400000</td>\n",
       "      <td>1918.054289</td>\n",
       "      <td>324.0</td>\n",
       "      <td>354.00</td>\n",
       "      <td>393.0</td>\n",
       "      <td>3452.50</td>\n",
       "      <td>5551.0</td>\n",
       "    </tr>\n",
       "    <tr>\n",
       "      <th>globe_6/10</th>\n",
       "      <td>5.0</td>\n",
       "      <td>2826.600000</td>\n",
       "      <td>508.287615</td>\n",
       "      <td>2242.0</td>\n",
       "      <td>2567.00</td>\n",
       "      <td>2606.0</td>\n",
       "      <td>3293.00</td>\n",
       "      <td>3425.0</td>\n",
       "    </tr>\n",
       "    <tr>\n",
       "      <th>globe_6/4</th>\n",
       "      <td>5.0</td>\n",
       "      <td>2736.000000</td>\n",
       "      <td>458.112977</td>\n",
       "      <td>2225.0</td>\n",
       "      <td>2376.00</td>\n",
       "      <td>2674.0</td>\n",
       "      <td>3133.00</td>\n",
       "      <td>3272.0</td>\n",
       "    </tr>\n",
       "    <tr>\n",
       "      <th>globe_6/8</th>\n",
       "      <td>5.0</td>\n",
       "      <td>2849.000000</td>\n",
       "      <td>141.918991</td>\n",
       "      <td>2704.0</td>\n",
       "      <td>2782.00</td>\n",
       "      <td>2794.0</td>\n",
       "      <td>2892.00</td>\n",
       "      <td>3073.0</td>\n",
       "    </tr>\n",
       "    <tr>\n",
       "      <th>globe_8/25</th>\n",
       "      <td>2.0</td>\n",
       "      <td>23525.500000</td>\n",
       "      <td>4011.416770</td>\n",
       "      <td>20689.0</td>\n",
       "      <td>22107.25</td>\n",
       "      <td>23525.5</td>\n",
       "      <td>24943.75</td>\n",
       "      <td>26362.0</td>\n",
       "    </tr>\n",
       "    <tr>\n",
       "      <th>wreath_100/100</th>\n",
       "      <td>1.0</td>\n",
       "      <td>15988.000000</td>\n",
       "      <td>NaN</td>\n",
       "      <td>15988.0</td>\n",
       "      <td>15988.00</td>\n",
       "      <td>15988.0</td>\n",
       "      <td>15988.00</td>\n",
       "      <td>15988.0</td>\n",
       "    </tr>\n",
       "    <tr>\n",
       "      <th>wreath_12/12</th>\n",
       "      <td>10.0</td>\n",
       "      <td>17.300000</td>\n",
       "      <td>2.311805</td>\n",
       "      <td>14.0</td>\n",
       "      <td>15.25</td>\n",
       "      <td>17.5</td>\n",
       "      <td>18.75</td>\n",
       "      <td>21.0</td>\n",
       "    </tr>\n",
       "    <tr>\n",
       "      <th>wreath_21/21</th>\n",
       "      <td>5.0</td>\n",
       "      <td>39.600000</td>\n",
       "      <td>6.348228</td>\n",
       "      <td>29.0</td>\n",
       "      <td>40.00</td>\n",
       "      <td>41.0</td>\n",
       "      <td>42.00</td>\n",
       "      <td>46.0</td>\n",
       "    </tr>\n",
       "    <tr>\n",
       "      <th>wreath_33/33</th>\n",
       "      <td>3.0</td>\n",
       "      <td>317.666667</td>\n",
       "      <td>255.580385</td>\n",
       "      <td>37.0</td>\n",
       "      <td>208.00</td>\n",
       "      <td>379.0</td>\n",
       "      <td>458.00</td>\n",
       "      <td>537.0</td>\n",
       "    </tr>\n",
       "    <tr>\n",
       "      <th>wreath_6/6</th>\n",
       "      <td>20.0</td>\n",
       "      <td>7.500000</td>\n",
       "      <td>2.481511</td>\n",
       "      <td>2.0</td>\n",
       "      <td>5.75</td>\n",
       "      <td>8.0</td>\n",
       "      <td>9.25</td>\n",
       "      <td>11.0</td>\n",
       "    </tr>\n",
       "    <tr>\n",
       "      <th>wreath_7/7</th>\n",
       "      <td>15.0</td>\n",
       "      <td>8.533333</td>\n",
       "      <td>2.065591</td>\n",
       "      <td>3.0</td>\n",
       "      <td>8.00</td>\n",
       "      <td>9.0</td>\n",
       "      <td>10.00</td>\n",
       "      <td>10.0</td>\n",
       "    </tr>\n",
       "  </tbody>\n",
       "</table>\n",
       "</div>"
      ],
      "text/plain": [
       "                count           mean           std      min       25%  \\\n",
       "puzzle_type                                                             \n",
       "cube_10/10/10     5.0    2034.200000     57.798789   1958.0   2021.00   \n",
       "cube_19/19/19     4.0   14967.750000    290.610134  14639.0  14765.75   \n",
       "cube_2/2/2       30.0      10.500000      1.907336      2.0     10.00   \n",
       "cube_3/3/3      120.0      35.275000      4.695720     20.0     32.00   \n",
       "cube_33/33/33     3.0  110267.333333  28476.984678  82665.0  95628.50   \n",
       "cube_4/4/4       60.0     163.266667    158.416301     76.0     91.00   \n",
       "cube_5/5/5       35.0     550.914286    616.749514    150.0    171.00   \n",
       "cube_6/6/6       12.0     786.666667   1044.743756    319.0    338.00   \n",
       "cube_7/7/7        5.0     562.400000     34.558646    506.0    553.00   \n",
       "cube_8/8/8        5.0     963.000000     10.368221    945.0    964.00   \n",
       "cube_9/9/9        5.0    1342.600000     10.737784   1333.0   1338.00   \n",
       "globe_1/16        5.0     448.200000     31.704889    396.0    440.00   \n",
       "globe_1/8        10.0     208.300000     36.264614    175.0    187.50   \n",
       "globe_2/6         5.0     368.400000     52.476661    295.0    337.00   \n",
       "globe_3/33        8.0   27909.000000   3189.017314  22311.0  26163.75   \n",
       "globe_3/4        15.0    1643.400000   1918.054289    324.0    354.00   \n",
       "globe_6/10        5.0    2826.600000    508.287615   2242.0   2567.00   \n",
       "globe_6/4         5.0    2736.000000    458.112977   2225.0   2376.00   \n",
       "globe_6/8         5.0    2849.000000    141.918991   2704.0   2782.00   \n",
       "globe_8/25        2.0   23525.500000   4011.416770  20689.0  22107.25   \n",
       "wreath_100/100    1.0   15988.000000           NaN  15988.0  15988.00   \n",
       "wreath_12/12     10.0      17.300000      2.311805     14.0     15.25   \n",
       "wreath_21/21      5.0      39.600000      6.348228     29.0     40.00   \n",
       "wreath_33/33      3.0     317.666667    255.580385     37.0    208.00   \n",
       "wreath_6/6       20.0       7.500000      2.481511      2.0      5.75   \n",
       "wreath_7/7       15.0       8.533333      2.065591      3.0      8.00   \n",
       "\n",
       "                     50%        75%       max  \n",
       "puzzle_type                                    \n",
       "cube_10/10/10     2027.0    2046.00    2119.0  \n",
       "cube_19/19/19    15002.5   15204.50   15227.0  \n",
       "cube_2/2/2          11.0      11.75      13.0  \n",
       "cube_3/3/3          35.0      38.25      46.0  \n",
       "cube_33/33/33   108592.0  124068.50  139545.0  \n",
       "cube_4/4/4          97.0     101.25     605.0  \n",
       "cube_5/5/5         177.0    1166.00    1884.0  \n",
       "cube_6/6/6         345.0     354.25    3289.0  \n",
       "cube_7/7/7         578.0     586.00     589.0  \n",
       "cube_8/8/8         967.0     968.00     971.0  \n",
       "cube_9/9/9        1340.0    1341.00    1361.0  \n",
       "globe_1/16         466.0     468.00     471.0  \n",
       "globe_1/8          199.5     205.25     300.0  \n",
       "globe_2/6          378.0     413.00     419.0  \n",
       "globe_3/33       28708.5   29817.75   32410.0  \n",
       "globe_3/4          393.0    3452.50    5551.0  \n",
       "globe_6/10        2606.0    3293.00    3425.0  \n",
       "globe_6/4         2674.0    3133.00    3272.0  \n",
       "globe_6/8         2794.0    2892.00    3073.0  \n",
       "globe_8/25       23525.5   24943.75   26362.0  \n",
       "wreath_100/100   15988.0   15988.00   15988.0  \n",
       "wreath_12/12        17.5      18.75      21.0  \n",
       "wreath_21/21        41.0      42.00      46.0  \n",
       "wreath_33/33       379.0     458.00     537.0  \n",
       "wreath_6/6           8.0       9.25      11.0  \n",
       "wreath_7/7           9.0      10.00      10.0  "
      ]
     },
     "execution_count": 25,
     "metadata": {},
     "output_type": "execute_result"
    }
   ],
   "source": [
    "puzzles.groupby(\"puzzle_type\")[\"length\"].describe()"
   ]
  },
  {
   "cell_type": "code",
   "execution_count": 24,
   "id": "541d047e",
   "metadata": {},
   "outputs": [
    {
     "data": {
      "text/html": [
       "<div>\n",
       "<style scoped>\n",
       "    .dataframe tbody tr th:only-of-type {\n",
       "        vertical-align: middle;\n",
       "    }\n",
       "\n",
       "    .dataframe tbody tr th {\n",
       "        vertical-align: top;\n",
       "    }\n",
       "\n",
       "    .dataframe thead th {\n",
       "        text-align: right;\n",
       "    }\n",
       "</style>\n",
       "<table border=\"1\" class=\"dataframe\">\n",
       "  <thead>\n",
       "    <tr style=\"text-align: right;\">\n",
       "      <th></th>\n",
       "      <th>id</th>\n",
       "      <th>puzzle_type</th>\n",
       "      <th>solution_state</th>\n",
       "      <th>initial_state</th>\n",
       "      <th>num_wildcards</th>\n",
       "      <th>moves</th>\n",
       "      <th>length</th>\n",
       "    </tr>\n",
       "  </thead>\n",
       "  <tbody>\n",
       "    <tr>\n",
       "      <th>30</th>\n",
       "      <td>30</td>\n",
       "      <td>cube_3/3/3</td>\n",
       "      <td>A;A;A;A;A;A;A;A;A;B;B;B;B;B;B;B;B;B;C;C;C;C;C;...</td>\n",
       "      <td>A;A;E;C;F;F;C;C;C;D;B;D;D;B;A;B;F;F;A;E;B;D;E;...</td>\n",
       "      <td>0</td>\n",
       "      <td>d0.d2.f2.-r2.f2.-d2.-d2.r0.d2.-r2.f0.-d2.-r2.-...</td>\n",
       "      <td>30</td>\n",
       "    </tr>\n",
       "    <tr>\n",
       "      <th>130</th>\n",
       "      <td>130</td>\n",
       "      <td>cube_3/3/3</td>\n",
       "      <td>A;B;A;B;A;B;A;B;A;B;C;B;C;B;C;B;C;B;C;D;C;D;C;...</td>\n",
       "      <td>C;B;D;B;B;C;F;E;A;B;D;D;B;C;A;A;E;B;E;F;A;F;A;...</td>\n",
       "      <td>0</td>\n",
       "      <td>d2.f2.-d2.f2.d2.f0.d2.r2.d0.-f2.-f2.r0.d2.-r2....</td>\n",
       "      <td>34</td>\n",
       "    </tr>\n",
       "    <tr>\n",
       "      <th>140</th>\n",
       "      <td>140</td>\n",
       "      <td>cube_3/3/3</td>\n",
       "      <td>N0;N1;N2;N3;N4;N5;N6;N7;N8;N9;N10;N11;N12;N13;...</td>\n",
       "      <td>N33;N7;N42;N19;N4;N52;N9;N48;N0;N38;N43;N29;N2...</td>\n",
       "      <td>6</td>\n",
       "      <td>-d2.-d2.-f0.-d2.f2.-r2.-d2.-r2.f0.f0.-f2.d0.-f...</td>\n",
       "      <td>33</td>\n",
       "    </tr>\n",
       "  </tbody>\n",
       "</table>\n",
       "</div>"
      ],
      "text/plain": [
       "      id puzzle_type                                     solution_state  \\\n",
       "30    30  cube_3/3/3  A;A;A;A;A;A;A;A;A;B;B;B;B;B;B;B;B;B;C;C;C;C;C;...   \n",
       "130  130  cube_3/3/3  A;B;A;B;A;B;A;B;A;B;C;B;C;B;C;B;C;B;C;D;C;D;C;...   \n",
       "140  140  cube_3/3/3  N0;N1;N2;N3;N4;N5;N6;N7;N8;N9;N10;N11;N12;N13;...   \n",
       "\n",
       "                                         initial_state  num_wildcards  \\\n",
       "30   A;A;E;C;F;F;C;C;C;D;B;D;D;B;A;B;F;F;A;E;B;D;E;...              0   \n",
       "130  C;B;D;B;B;C;F;E;A;B;D;D;B;C;A;A;E;B;E;F;A;F;A;...              0   \n",
       "140  N33;N7;N42;N19;N4;N52;N9;N48;N0;N38;N43;N29;N2...              6   \n",
       "\n",
       "                                                 moves  length  \n",
       "30   d0.d2.f2.-r2.f2.-d2.-d2.r0.d2.-r2.f0.-d2.-r2.-...      30  \n",
       "130  d2.f2.-d2.f2.d2.f0.d2.r2.d0.-f2.-f2.r0.d2.-r2....      34  \n",
       "140  -d2.-d2.-f0.-d2.f2.-r2.-d2.-r2.f0.f0.-f2.d0.-f...      33  "
      ]
     },
     "execution_count": 24,
     "metadata": {},
     "output_type": "execute_result"
    }
   ],
   "source": [
    "puzzles[puzzles[\"puzzle_type\"]==\"cube_3/3/3\"].drop_duplicates(subset=\"solution_state\")"
   ]
  },
  {
   "cell_type": "code",
   "execution_count": 26,
   "id": "7ae23cc7",
   "metadata": {},
   "outputs": [
    {
     "data": {
      "text/html": [
       "<div>\n",
       "<style scoped>\n",
       "    .dataframe tbody tr th:only-of-type {\n",
       "        vertical-align: middle;\n",
       "    }\n",
       "\n",
       "    .dataframe tbody tr th {\n",
       "        vertical-align: top;\n",
       "    }\n",
       "\n",
       "    .dataframe thead th {\n",
       "        text-align: right;\n",
       "    }\n",
       "</style>\n",
       "<table border=\"1\" class=\"dataframe\">\n",
       "  <thead>\n",
       "    <tr style=\"text-align: right;\">\n",
       "      <th></th>\n",
       "      <th>id</th>\n",
       "      <th>puzzle_type</th>\n",
       "      <th>solution_state</th>\n",
       "      <th>initial_state</th>\n",
       "      <th>num_wildcards</th>\n",
       "      <th>moves</th>\n",
       "      <th>length</th>\n",
       "    </tr>\n",
       "  </thead>\n",
       "  <tbody>\n",
       "    <tr>\n",
       "      <th>284</th>\n",
       "      <td>284</td>\n",
       "      <td>wreath_6/6</td>\n",
       "      <td>C;A;C;A;A;A;B;B;B;B</td>\n",
       "      <td>A;A;A;A;B;C;B;C;B;B</td>\n",
       "      <td>0</td>\n",
       "      <td>-r.-l.r.-l.-r.-l.-l</td>\n",
       "      <td>7</td>\n",
       "    </tr>\n",
       "    <tr>\n",
       "      <th>304</th>\n",
       "      <td>304</td>\n",
       "      <td>wreath_7/7</td>\n",
       "      <td>C;A;C;A;A;A;A;B;B;B;B;B</td>\n",
       "      <td>A;B;B;B;C;A;A;B;C;B;A;A</td>\n",
       "      <td>0</td>\n",
       "      <td>l.-r.-l.-r.-l.r.l.l.-r.l</td>\n",
       "      <td>10</td>\n",
       "    </tr>\n",
       "    <tr>\n",
       "      <th>319</th>\n",
       "      <td>319</td>\n",
       "      <td>wreath_12/12</td>\n",
       "      <td>C;A;A;C;A;A;A;A;A;A;A;A;B;B;B;B;B;B;B;B;B;B</td>\n",
       "      <td>A;B;A;B;B;B;B;A;A;B;B;A;B;B;A;B;C;C;A;A;A;A</td>\n",
       "      <td>2</td>\n",
       "      <td>l.-r.l.l.-r.l.r.l.-r.-l.-r.l.l.-r.-r.l</td>\n",
       "      <td>16</td>\n",
       "    </tr>\n",
       "    <tr>\n",
       "      <th>329</th>\n",
       "      <td>329</td>\n",
       "      <td>wreath_21/21</td>\n",
       "      <td>C;A;A;A;A;A;C;A;A;A;A;A;A;A;A;A;A;A;A;A;A;B;B;...</td>\n",
       "      <td>B;B;A;B;A;A;A;B;A;B;A;B;B;A;A;B;A;B;A;A;B;A;C;...</td>\n",
       "      <td>0</td>\n",
       "      <td>-l.-r.-r.l.r.l.-r.-r.-r.l.l.-r.-r.-r.l.l.l.-r....</td>\n",
       "      <td>29</td>\n",
       "    </tr>\n",
       "    <tr>\n",
       "      <th>334</th>\n",
       "      <td>334</td>\n",
       "      <td>wreath_33/33</td>\n",
       "      <td>C;A;A;A;A;A;A;A;A;C;A;A;A;A;A;A;A;A;A;A;A;A;A;...</td>\n",
       "      <td>B;B;A;A;B;B;B;B;A;A;B;A;B;A;A;B;A;A;B;B;A;A;C;...</td>\n",
       "      <td>0</td>\n",
       "      <td>l.-r.-l.-l.-l.-l.-l.-r.-l.-r.-l.-l.-l.-l.-r.-r...</td>\n",
       "      <td>537</td>\n",
       "    </tr>\n",
       "    <tr>\n",
       "      <th>337</th>\n",
       "      <td>337</td>\n",
       "      <td>wreath_100/100</td>\n",
       "      <td>C;A;A;A;A;A;A;A;A;A;A;A;A;A;A;A;A;A;A;A;A;A;A;...</td>\n",
       "      <td>A;A;B;B;B;A;B;B;A;B;A;B;B;B;B;B;A;A;A;A;B;B;B;...</td>\n",
       "      <td>8</td>\n",
       "      <td>r.-l.r.-l.-l.r.-l.r.r.l.-r.-l.-r.-r.l.-r.-r.-l...</td>\n",
       "      <td>15988</td>\n",
       "    </tr>\n",
       "  </tbody>\n",
       "</table>\n",
       "</div>"
      ],
      "text/plain": [
       "      id     puzzle_type                                     solution_state  \\\n",
       "284  284      wreath_6/6                                C;A;C;A;A;A;B;B;B;B   \n",
       "304  304      wreath_7/7                            C;A;C;A;A;A;A;B;B;B;B;B   \n",
       "319  319    wreath_12/12        C;A;A;C;A;A;A;A;A;A;A;A;B;B;B;B;B;B;B;B;B;B   \n",
       "329  329    wreath_21/21  C;A;A;A;A;A;C;A;A;A;A;A;A;A;A;A;A;A;A;A;A;B;B;...   \n",
       "334  334    wreath_33/33  C;A;A;A;A;A;A;A;A;C;A;A;A;A;A;A;A;A;A;A;A;A;A;...   \n",
       "337  337  wreath_100/100  C;A;A;A;A;A;A;A;A;A;A;A;A;A;A;A;A;A;A;A;A;A;A;...   \n",
       "\n",
       "                                         initial_state  num_wildcards  \\\n",
       "284                                A;A;A;A;B;C;B;C;B;B              0   \n",
       "304                            A;B;B;B;C;A;A;B;C;B;A;A              0   \n",
       "319        A;B;A;B;B;B;B;A;A;B;B;A;B;B;A;B;C;C;A;A;A;A              2   \n",
       "329  B;B;A;B;A;A;A;B;A;B;A;B;B;A;A;B;A;B;A;A;B;A;C;...              0   \n",
       "334  B;B;A;A;B;B;B;B;A;A;B;A;B;A;A;B;A;A;B;B;A;A;C;...              0   \n",
       "337  A;A;B;B;B;A;B;B;A;B;A;B;B;B;B;B;A;A;A;A;B;B;B;...              8   \n",
       "\n",
       "                                                 moves  length  \n",
       "284                                -r.-l.r.-l.-r.-l.-l       7  \n",
       "304                           l.-r.-l.-r.-l.r.l.l.-r.l      10  \n",
       "319             l.-r.l.l.-r.l.r.l.-r.-l.-r.l.l.-r.-r.l      16  \n",
       "329  -l.-r.-r.l.r.l.-r.-r.-r.l.l.-r.-r.-r.l.l.l.-r....      29  \n",
       "334  l.-r.-l.-l.-l.-l.-l.-r.-l.-r.-l.-l.-l.-l.-r.-r...     537  \n",
       "337  r.-l.r.-l.-l.r.-l.r.r.l.-r.-l.-r.-r.l.-r.-r.-l...   15988  "
      ]
     },
     "execution_count": 26,
     "metadata": {},
     "output_type": "execute_result"
    }
   ],
   "source": [
    "puzzles[puzzles[\"puzzle_type\"].str.startswith(\"wreath\")].drop_duplicates(subset=\"solution_state\")"
   ]
  },
  {
   "cell_type": "markdown",
   "id": "2a090676",
   "metadata": {},
   "source": [
    "- これをさらに解ける可能性"
   ]
  },
  {
   "cell_type": "markdown",
   "id": "f152e6be",
   "metadata": {},
   "source": [
    "# ソルバー\n",
    "- http://kociemba.org/cube.htm"
   ]
  },
  {
   "cell_type": "code",
   "execution_count": 28,
   "id": "2192579e",
   "metadata": {},
   "outputs": [],
   "source": [
    "# import optimal.solver as sv\n",
    "# import twophase.solver as tsv"
   ]
  },
  {
   "cell_type": "code",
   "execution_count": 29,
   "id": "86994ba2",
   "metadata": {},
   "outputs": [],
   "source": [
    "# import pandas as pd\n",
    "# import numpy as np\n",
    "# from sympy.combinatorics import Permutation\n",
    "\n",
    "# p = 'santa-2023/'\n",
    "# path = pd.read_csv(p + 'puzzles.csv')\n",
    "# info = pd.read_csv(p + 'puzzle_info.csv')\n",
    "# sub = pd.read_csv(p+'sample_submission.csv')\n",
    "\n",
    "# info['allowed_moves_count'] = info['allowed_moves'].map(lambda x: {k: Permutation(v) for k, v in eval(x).items()})\n",
    "# paths = pd.merge(path, info, how='left', on='puzzle_type')\n",
    "# paths = pd.merge(paths, sub, how='left', on='id')"
   ]
  },
  {
   "cell_type": "code",
   "execution_count": 207,
   "id": "35ccb3ba",
   "metadata": {},
   "outputs": [],
   "source": [
    "# # https://www.kaggle.com/code/wrrosa/santa-2023-kociemba-s-two-phase-algo-1-116-550\n",
    "# U = ['U', 'F', 'R', 'B', 'L', 'D']\n",
    "# def state2ubl(state):\n",
    "#     dct = {}\n",
    "#     for u in range(len(U)):\n",
    "#         dct[state.split(';')[4+u*9]] = U[u]\n",
    "#     s = ''.join([dct[f] for f in state.split(';')])\n",
    "#     return s[:9] + s[18:27] + s[9:18] + s[45:] + s[36:45] + s[27:36]"
   ]
  },
  {
   "cell_type": "code",
   "execution_count": 208,
   "id": "d97edfbf",
   "metadata": {},
   "outputs": [],
   "source": [
    "# moves = eval(info.loc[info['puzzle_type'] == 'cube_3/3/3']['allowed_moves'].values[0])\n",
    "# for move in list(moves):\n",
    "#     moves['-'+move] = np.argsort(moves[move]).tolist()\n",
    "\n",
    "# M = {}\n",
    "# M[\"U\"] = '-d2'\n",
    "# M[\"R\"] = \"r0\"\n",
    "# M[\"B\"] = \"-f2\"\n",
    "# M[\"F\"] = \"f0\"\n",
    "# M[\"L\"] = \"-r2\"\n",
    "# M[\"D\"] = \"d0\"\n",
    "# for m in list(M):\n",
    "#     M[m+\"2\"] = M[m] + '.' + M[m]\n",
    "#     if \"-\" in M[m]:\n",
    "#         M[m+\"'\"] = M[m].replace(\"-\",\"\")\n",
    "#     else:\n",
    "#         M[m+\"'\"] = \"-\"+M[m]"
   ]
  },
  {
   "cell_type": "code",
   "execution_count": 30,
   "id": "f4e4e971",
   "metadata": {
    "scrolled": true
   },
   "outputs": [],
   "source": [
    "# for i in paths.loc[paths['puzzle_type'] == 'cube_3/3/3'].iterrows():\n",
    "#     try:\n",
    "#         id = i[1]['id']\n",
    "#         cur_state = i[1]['initial_state']\n",
    "        \n",
    "#         sol = sv.solve(state2ubl(cur_state))\n",
    "\n",
    "#         new_state = cur_state\n",
    "#         mmoves = '.'.join([M[m] for m in sol.split(' ')])\n",
    "\n",
    "#         for move in mmoves.split('.'):\n",
    "#             new_state = ';'.join(list(np.asarray(new_state.split(';'))[np.array(moves[move])]))\n",
    "#         I = ['r0.r1.r2','d0.d1.d2','f0.f1.f2']\n",
    "#         for init_moves in [''] + I + [i1 + '.' + i2 for i1 in I for i2 in I]+ [i1 + '.' + i2+ '.' + i3 for i1 in I for i2 in I for i3 in I]+ [i1 + '.' + i2+ '.' + i3 + '.' + i4 for i1 in I for i2 in I for i3 in I for i4 in I]:\n",
    "#             temp_state = new_state\n",
    "#             if len(init_moves) > 0:\n",
    "#                 for move in init_moves.split('.'):\n",
    "#                     temp_state = ';'.join(list(np.asarray(temp_state.split(';'))[np.array(moves[move])]))\n",
    "\n",
    "#             if temp_state == i[1]['solution_state']:\n",
    "#                 print(f'solved id: {id}')\n",
    "#                 if len(init_moves) > 0:\n",
    "#                     mmoves += '.' + init_moves\n",
    "#                 if len(paths.iloc[id,7].split('.')) > len(mmoves.split('.')):\n",
    "#                     print(f\"improved: new length {len(mmoves.split('.'))} vs current length {len(paths.iloc[id,7].split('.'))}\")\n",
    "#                     paths.iloc[id,7] = mmoves\n",
    "#                 break\n",
    "#     except:\n",
    "#         pass"
   ]
  },
  {
   "cell_type": "code",
   "execution_count": 31,
   "id": "632c495b",
   "metadata": {},
   "outputs": [],
   "source": [
    "# class ParticipantVisibleError(Exception):\n",
    "#     pass\n",
    "\n",
    "# def score(sol) -> float:\n",
    "#     total_num_moves = 0\n",
    "#     for i in range(len(sol)):\n",
    "#         puzzle_id=sol['id'][i]\n",
    "#         moves = sol.moves[i].split('.')\n",
    "#         allowed_moves=sol.allowed_moves_count[i]\n",
    "#         state = sol.initial_state[i].split(';')\n",
    "#         solution_state=sol.solution_state[i].split(';')\n",
    "#         num_wildcards=sol.num_wildcards[i]\n",
    "#         for m in moves:\n",
    "#             power = 1\n",
    "#             if m[0] == \"-\":\n",
    "#                 m = m[1:]\n",
    "#                 power = -1\n",
    "#             try:\n",
    "#                 p = allowed_moves[m]\n",
    "#             except KeyError:\n",
    "#                 raise ParticipantVisibleError(f\"{m} is not an allowed move for {puzzle_id}.\")\n",
    "#             state = (p ** power)(state)\n",
    "#         num_wrong_facelets = sum(not(s == t) for s, t in zip(solution_state, state))\n",
    "#         if num_wrong_facelets > num_wildcards:\n",
    "#             print(puzzle_id, num_wrong_facelets, puzzle.num_wildcards)\n",
    "#             raise ParticipantVisibleError(f\"Submitted moves do not solve {puzzle_id}.\")\n",
    "#         total_num_moves += len(moves)\n",
    "#     return total_num_moves"
   ]
  },
  {
   "cell_type": "code",
   "execution_count": null,
   "id": "21d57689",
   "metadata": {},
   "outputs": [],
   "source": [
    "# %%time\n",
    "# score(paths)"
   ]
  },
  {
   "cell_type": "code",
   "execution_count": 32,
   "id": "5f16e880",
   "metadata": {},
   "outputs": [],
   "source": [
    "# paths[['id','moves']].to_csv('solver_result.csv', index=False)"
   ]
  },
  {
   "cell_type": "code",
   "execution_count": null,
   "id": "d46096d9",
   "metadata": {},
   "outputs": [],
   "source": []
  },
  {
   "cell_type": "code",
   "execution_count": null,
   "id": "6c6dc18e",
   "metadata": {},
   "outputs": [],
   "source": []
  },
  {
   "cell_type": "code",
   "execution_count": null,
   "id": "0a41a67d",
   "metadata": {},
   "outputs": [],
   "source": []
  },
  {
   "cell_type": "code",
   "execution_count": null,
   "id": "533821d0",
   "metadata": {},
   "outputs": [],
   "source": []
  },
  {
   "cell_type": "code",
   "execution_count": null,
   "id": "55971f58",
   "metadata": {},
   "outputs": [],
   "source": []
  },
  {
   "cell_type": "code",
   "execution_count": 168,
   "id": "ed2e120d",
   "metadata": {},
   "outputs": [
    {
     "data": {
      "text/plain": [
       "'(0f)'"
      ]
     },
     "execution_count": 168,
     "metadata": {},
     "output_type": "execute_result"
    }
   ],
   "source": [
    "cubestring=\"UUUUUUUUURRRRRRRRRFFFFFFFFFDDDDDDDDDLLLLLLLLLBBBBBBBBB\"\n",
    "tsv.solve(cubestring)"
   ]
  },
  {
   "cell_type": "code",
   "execution_count": 171,
   "id": "a602759b",
   "metadata": {},
   "outputs": [
    {
     "data": {
      "text/plain": [
       "'UUUUUUUUUFFFFFFFFFRRRRRRRRRBBBBBBBBBLLLLLLLLLDDDDDDDDD'"
      ]
     },
     "execution_count": 171,
     "metadata": {},
     "output_type": "execute_result"
    }
   ],
   "source": [
    "solver_input.at[30,\"solution_state\"]"
   ]
  },
  {
   "cell_type": "code",
   "execution_count": 169,
   "id": "99fa0fda",
   "metadata": {},
   "outputs": [
    {
     "data": {
      "text/plain": [
       "'(0f)'"
      ]
     },
     "execution_count": 169,
     "metadata": {},
     "output_type": "execute_result"
    }
   ],
   "source": [
    "cubestring=\"UUUUUUUUURRRRRRRRRFFFFFFFFFDDDDDDDDDLLLLLLLLLBBBBBBBBB\"\n",
    "tsv.solve(cubestring)"
   ]
  },
  {
   "cell_type": "code",
   "execution_count": 139,
   "id": "a721d952",
   "metadata": {},
   "outputs": [],
   "source": [
    "p = './santa-2023/'\n",
    "puzzles = pd.read_csv(p+'puzzles.csv')\n",
    "puzzle_info = pd.read_csv(p+'puzzle_info.csv')"
   ]
  },
  {
   "cell_type": "code",
   "execution_count": 140,
   "id": "add340ed",
   "metadata": {},
   "outputs": [
    {
     "data": {
      "text/html": [
       "<div>\n",
       "<style scoped>\n",
       "    .dataframe tbody tr th:only-of-type {\n",
       "        vertical-align: middle;\n",
       "    }\n",
       "\n",
       "    .dataframe tbody tr th {\n",
       "        vertical-align: top;\n",
       "    }\n",
       "\n",
       "    .dataframe thead th {\n",
       "        text-align: right;\n",
       "    }\n",
       "</style>\n",
       "<table border=\"1\" class=\"dataframe\">\n",
       "  <thead>\n",
       "    <tr style=\"text-align: right;\">\n",
       "      <th></th>\n",
       "      <th>id</th>\n",
       "      <th>puzzle_type</th>\n",
       "      <th>solution_state</th>\n",
       "      <th>initial_state</th>\n",
       "      <th>num_wildcards</th>\n",
       "    </tr>\n",
       "  </thead>\n",
       "  <tbody>\n",
       "    <tr>\n",
       "      <th>30</th>\n",
       "      <td>30</td>\n",
       "      <td>cube_3/3/3</td>\n",
       "      <td>A;A;A;A;A;A;A;A;A;B;B;B;B;B;B;B;B;B;C;C;C;C;C;...</td>\n",
       "      <td>A;A;E;C;F;F;C;C;C;D;B;D;D;B;A;B;F;F;A;E;B;D;E;...</td>\n",
       "      <td>0</td>\n",
       "    </tr>\n",
       "    <tr>\n",
       "      <th>130</th>\n",
       "      <td>130</td>\n",
       "      <td>cube_3/3/3</td>\n",
       "      <td>A;B;A;B;A;B;A;B;A;B;C;B;C;B;C;B;C;B;C;D;C;D;C;...</td>\n",
       "      <td>C;B;D;B;B;C;F;E;A;B;D;D;B;C;A;A;E;B;E;F;A;F;A;...</td>\n",
       "      <td>0</td>\n",
       "    </tr>\n",
       "    <tr>\n",
       "      <th>140</th>\n",
       "      <td>140</td>\n",
       "      <td>cube_3/3/3</td>\n",
       "      <td>N0;N1;N2;N3;N4;N5;N6;N7;N8;N9;N10;N11;N12;N13;...</td>\n",
       "      <td>N33;N7;N42;N19;N4;N52;N9;N48;N0;N38;N43;N29;N2...</td>\n",
       "      <td>6</td>\n",
       "    </tr>\n",
       "  </tbody>\n",
       "</table>\n",
       "</div>"
      ],
      "text/plain": [
       "      id puzzle_type                                     solution_state  \\\n",
       "30    30  cube_3/3/3  A;A;A;A;A;A;A;A;A;B;B;B;B;B;B;B;B;B;C;C;C;C;C;...   \n",
       "130  130  cube_3/3/3  A;B;A;B;A;B;A;B;A;B;C;B;C;B;C;B;C;B;C;D;C;D;C;...   \n",
       "140  140  cube_3/3/3  N0;N1;N2;N3;N4;N5;N6;N7;N8;N9;N10;N11;N12;N13;...   \n",
       "\n",
       "                                         initial_state  num_wildcards  \n",
       "30   A;A;E;C;F;F;C;C;C;D;B;D;D;B;A;B;F;F;A;E;B;D;E;...              0  \n",
       "130  C;B;D;B;B;C;F;E;A;B;D;D;B;C;A;A;E;B;E;F;A;F;A;...              0  \n",
       "140  N33;N7;N42;N19;N4;N52;N9;N48;N0;N38;N43;N29;N2...              6  "
      ]
     },
     "execution_count": 140,
     "metadata": {},
     "output_type": "execute_result"
    }
   ],
   "source": [
    "puzzles.loc[puzzles[\"puzzle_type\"]==\"cube_3/3/3\"].drop_duplicates(subset=[\"solution_state\"])"
   ]
  },
  {
   "cell_type": "code",
   "execution_count": 146,
   "id": "cb7c0b00",
   "metadata": {},
   "outputs": [
    {
     "data": {
      "text/plain": [
       "Counter({'A': 9, ';': 53, 'E': 9, 'C': 9, 'F': 9, 'D': 9, 'B': 9})"
      ]
     },
     "execution_count": 146,
     "metadata": {},
     "output_type": "execute_result"
    }
   ],
   "source": [
    "from collections import Counter\n",
    "Counter(puzzles.at[30,\"initial_state\"])"
   ]
  },
  {
   "cell_type": "code",
   "execution_count": 141,
   "id": "621f09fe",
   "metadata": {},
   "outputs": [
    {
     "data": {
      "text/plain": [
       "'A;A;A;A;A;A;A;A;A;B;B;B;B;B;B;B;B;B;C;C;C;C;C;C;C;C;C;D;D;D;D;D;D;D;D;D;E;E;E;E;E;E;E;E;E;F;F;F;F;F;F;F;F;F'"
      ]
     },
     "execution_count": 141,
     "metadata": {},
     "output_type": "execute_result"
    }
   ],
   "source": [
    "# puzzles.at[30, \"solution_state\"].replace(\";\",\"\")\n",
    "puzzles.at[30, \"solution_state\"]"
   ]
  },
  {
   "cell_type": "code",
   "execution_count": 124,
   "id": "93086e33",
   "metadata": {},
   "outputs": [],
   "source": [
    "# AAAAAAAAABBBBBBBBBCCCCCCCCCDDDDDDDDDEEEEEEEEEFFFFFFFFF\n",
    "tb = [['A','y','u'],\n",
    "      ['B','g','f'],\n",
    "      ['C','o','r'],\n",
    "      ['D','b','b'],\n",
    "      ['E','r','l'],\n",
    "      ['F','w','d']]\n"
   ]
  },
  {
   "cell_type": "code",
   "execution_count": 157,
   "id": "5d6f59b0",
   "metadata": {},
   "outputs": [],
   "source": [
    "mapping={\n",
    "    \"A\":\"U\",\n",
    "    \"B\":\"F\",\n",
    "    \"C\":\"R\",\n",
    "    \"D\":\"B\",\n",
    "    \"E\":\"L\",\n",
    "    \"F\":\"D\"\n",
    "}"
   ]
  },
  {
   "cell_type": "code",
   "execution_count": 158,
   "id": "52e06e45",
   "metadata": {},
   "outputs": [
    {
     "name": "stderr",
     "output_type": "stream",
     "text": [
      "C:\\cygwin64\\tmp\\ipykernel_6012\\3019945060.py:2: SettingWithCopyWarning: \n",
      "A value is trying to be set on a copy of a slice from a DataFrame.\n",
      "Try using .loc[row_indexer,col_indexer] = value instead\n",
      "\n",
      "See the caveats in the documentation: https://pandas.pydata.org/pandas-docs/stable/user_guide/indexing.html#returning-a-view-versus-a-copy\n",
      "  solver_input[\"solution_state\"]=solver_input[\"solution_state\"].str.replace(\";\",\"\").map(\n",
      "C:\\cygwin64\\tmp\\ipykernel_6012\\3019945060.py:5: SettingWithCopyWarning: \n",
      "A value is trying to be set on a copy of a slice from a DataFrame.\n",
      "Try using .loc[row_indexer,col_indexer] = value instead\n",
      "\n",
      "See the caveats in the documentation: https://pandas.pydata.org/pandas-docs/stable/user_guide/indexing.html#returning-a-view-versus-a-copy\n",
      "  solver_input[\"initial_state\"]=solver_input[\"initial_state\"].str.replace(\";\",\"\").str.replace(\";\",\"\").map(\n"
     ]
    }
   ],
   "source": [
    "solver_input=puzzles[puzzles[\"solution_state\"]==\"A;A;A;A;A;A;A;A;A;B;B;B;B;B;B;B;B;B;C;C;C;C;C;C;C;C;C;D;D;D;D;D;D;D;D;D;E;E;E;E;E;E;E;E;E;F;F;F;F;F;F;F;F;F\"   ]\n",
    "solver_input[\"solution_state\"]=solver_input[\"solution_state\"].str.replace(\";\",\"\").map(\n",
    "    lambda x: \"\".join([mapping[c] for c in x])\n",
    ")\n",
    "solver_input[\"initial_state\"]=solver_input[\"initial_state\"].str.replace(\";\",\"\").str.replace(\";\",\"\").map(\n",
    "    lambda x: \"\".join([mapping[c] for c in x])\n",
    ")"
   ]
  },
  {
   "cell_type": "code",
   "execution_count": 163,
   "id": "3f990830",
   "metadata": {},
   "outputs": [
    {
     "data": {
      "text/plain": [
       "(Counter({'U': 9, 'L': 9, 'R': 9, 'D': 9, 'B': 9, 'F': 9}),\n",
       " Counter({'U': 9, 'F': 9, 'R': 9, 'B': 9, 'L': 9, 'D': 9}))"
      ]
     },
     "execution_count": 163,
     "metadata": {},
     "output_type": "execute_result"
    }
   ],
   "source": [
    "Counter(solver_input.at[30,\"initial_state\"]), Counter(solver_input.at[30,\"solution_state\"])"
   ]
  },
  {
   "cell_type": "code",
   "execution_count": 167,
   "id": "fe47de60",
   "metadata": {},
   "outputs": [
    {
     "data": {
      "text/plain": [
       "'Error: Some edges are undefined.'"
      ]
     },
     "execution_count": 167,
     "metadata": {},
     "output_type": "execute_result"
    }
   ],
   "source": [
    "tsv.solve(solver_input.at[30,\"initial_state\"])"
   ]
  },
  {
   "cell_type": "code",
   "execution_count": 164,
   "id": "0395594e",
   "metadata": {},
   "outputs": [
    {
     "name": "stdout",
     "output_type": "stream",
     "text": [
      "Error: Some edges are undefined.\n",
      "Error: Some edges are undefined.\n",
      "Error: Some edges are undefined.\n",
      "Error: Some edges are undefined.\n",
      "Error: Some edges are undefined.\n",
      "Error: Some edges are undefined.\n",
      "Error: Some edges are undefined.\n",
      "Error: Some edges are undefined.\n",
      "Error: Some edges are undefined.\n",
      "Error: Some edges are undefined.\n",
      "Error: Some edges are undefined.\n",
      "Error: Some edges are undefined.\n",
      "Error: Some edges are undefined.\n",
      "Error: Some edges are undefined.\n",
      "Error: Some edges are undefined.\n",
      "Error: Some edges are undefined.\n",
      "Error: Some edges are undefined.\n",
      "Error: Some edges are undefined.\n",
      "Error: Some edges are undefined.\n",
      "Error: Some edges are undefined.\n",
      "Error: Some edges are undefined.\n",
      "Error: Some edges are undefined.\n",
      "Error: Some edges are undefined.\n",
      "Error: Some edges are undefined.\n",
      "Error: Some edges are undefined.\n",
      "Error: Some edges are undefined.\n",
      "Error: Some edges are undefined.\n",
      "Error: Some edges are undefined.\n",
      "Error: Some edges are undefined.\n",
      "Error: Some edges are undefined.\n",
      "Error: Some edges are undefined.\n",
      "Error: Some edges are undefined.\n",
      "Error: Some edges are undefined.\n",
      "Error: Some edges are undefined.\n",
      "Error: Some edges are undefined.\n",
      "Error: Some edges are undefined.\n",
      "Error: Some edges are undefined.\n",
      "Error: Some edges are undefined.\n",
      "Error: Some edges are undefined.\n",
      "Error: Some edges are undefined.\n",
      "Error: Some edges are undefined.\n",
      "Error: Some edges are undefined.\n",
      "Error: Some edges are undefined.\n",
      "Error: Some edges are undefined.\n",
      "Error: Some edges are undefined.\n",
      "Error: Some edges are undefined.\n",
      "Error: Some edges are undefined.\n",
      "Error: Some edges are undefined.\n",
      "Error: Some edges are undefined.\n",
      "Error: Some edges are undefined.\n",
      "Error: Some edges are undefined.\n",
      "Error: Some edges are undefined.\n",
      "Error: Some edges are undefined.\n",
      "Error: Some edges are undefined.\n",
      "Error: Some edges are undefined.\n",
      "Error: Some edges are undefined.\n",
      "Error: Some edges are undefined.\n",
      "Error: Some edges are undefined.\n",
      "Error: Some edges are undefined.\n",
      "Error: Some edges are undefined.\n",
      "Error: Some edges are undefined.\n",
      "Error: Some edges are undefined.\n",
      "Error: Some edges are undefined.\n",
      "Error: Some edges are undefined.\n",
      "Error: Some edges are undefined.\n",
      "Error: Some edges are undefined.\n",
      "Error: Some edges are undefined.\n",
      "Error: Some edges are undefined.\n",
      "Error: Some edges are undefined.\n",
      "Error: Some edges are undefined.\n",
      "Error: Some edges are undefined.\n",
      "Error: Some edges are undefined.\n",
      "Error: Some edges are undefined.\n",
      "Error: Some edges are undefined.\n",
      "Error: Some edges are undefined.\n",
      "Error: Some edges are undefined.\n",
      "Error: Some edges are undefined.\n",
      "Error: Some edges are undefined.\n",
      "Error: Some edges are undefined.\n",
      "Error: Some edges are undefined.\n",
      "Error: Some edges are undefined.\n",
      "Error: Some edges are undefined.\n",
      "Error: Some edges are undefined.\n",
      "Error: Some edges are undefined.\n",
      "Error: Some edges are undefined.\n",
      "Error: Some edges are undefined.\n",
      "Error: Some edges are undefined.\n",
      "Error: Some edges are undefined.\n",
      "Error: Some edges are undefined.\n",
      "Error: Some edges are undefined.\n",
      "Error: Some edges are undefined.\n",
      "Error: Some edges are undefined.\n",
      "Error: Some edges are undefined.\n",
      "Error: Some edges are undefined.\n",
      "Error: Some edges are undefined.\n",
      "Error: Some edges are undefined.\n",
      "Error: Some edges are undefined.\n",
      "Error: Some edges are undefined.\n",
      "Error: Some edges are undefined.\n",
      "Error: Some edges are undefined.\n"
     ]
    }
   ],
   "source": [
    "answers=[]\n",
    "for i, row in solver_input.iterrows():\n",
    "    ans=tsv.solve(row[\"initial_state\"])\n",
    "    print(ans)\n",
    "    answers.append(ans)"
   ]
  },
  {
   "cell_type": "code",
   "execution_count": null,
   "id": "4d2ce421",
   "metadata": {},
   "outputs": [],
   "source": [
    "\n",
    " "
   ]
  }
 ],
 "metadata": {
  "kernelspec": {
   "display_name": "Python 3 (ipykernel)",
   "language": "python",
   "name": "python3"
  },
  "language_info": {
   "codemirror_mode": {
    "name": "ipython",
    "version": 3
   },
   "file_extension": ".py",
   "mimetype": "text/x-python",
   "name": "python",
   "nbconvert_exporter": "python",
   "pygments_lexer": "ipython3",
   "version": "3.9.13"
  }
 },
 "nbformat": 4,
 "nbformat_minor": 5
}
