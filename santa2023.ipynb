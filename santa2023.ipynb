{
 "cells": [
  {
   "cell_type": "code",
   "execution_count": 2,
   "id": "9dac40e4",
   "metadata": {},
   "outputs": [],
   "source": [
    "# https://www.kaggle.com/code/metric/santa-2023-metric\n",
    "\"\"\"Evaluation metric for Santa 2023.\"\"\"\n",
    "\n",
    "import pandas as pd\n",
    "from ast import literal_eval\n",
    "from dataclasses import dataclass\n",
    "from sympy.combinatorics import Permutation\n",
    "from typing import Dict, List\n",
    "\n",
    "\n",
    "class ParticipantVisibleError(Exception):\n",
    "    pass\n",
    "\n",
    "\n",
    "def score(\n",
    "        solution: pd.DataFrame,\n",
    "        submission: pd.DataFrame,\n",
    "        series_id_column_name: str,\n",
    "        moves_column_name: str,\n",
    "        puzzle_info_path: str,\n",
    ") -> float:\n",
    "    \"\"\"Santa 2023 evaluation metric.\n",
    "\n",
    "    Parameters\n",
    "    ----------\n",
    "    solution : pd.DataFrame\n",
    "\n",
    "    submission : pd.DataFrame\n",
    "\n",
    "    series_id_column_name : str\n",
    "\n",
    "    moves_column_name : str\n",
    "\n",
    "    Returns\n",
    "    -------\n",
    "    total_num_moves : int\n",
    "    \"\"\"\n",
    "    if list(submission.columns) != [series_id_column_name, moves_column_name]:\n",
    "        raise ParticipantVisibleError(\n",
    "            f\"Submission must have columns {series_id_column_name} and {moves_column_name}.\"\n",
    "        )\n",
    "\n",
    "    puzzle_info = pd.read_csv(puzzle_info_path, index_col='puzzle_type')\n",
    "    total_num_moves = 0\n",
    "    for sol, sub in zip(solution.itertuples(), submission.itertuples()):\n",
    "        puzzle_id = getattr(sol, series_id_column_name)\n",
    "        assert puzzle_id == getattr(sub, series_id_column_name)\n",
    "        allowed_moves = literal_eval(puzzle_info.loc[sol.puzzle_type, 'allowed_moves'])\n",
    "        allowed_moves = {k: Permutation(v) for k, v in allowed_moves.items()}\n",
    "        puzzle = Puzzle(\n",
    "            puzzle_id=puzzle_id,\n",
    "            allowed_moves=allowed_moves,\n",
    "            solution_state=sol.solution_state.split(';'),\n",
    "            initial_state=sol.initial_state.split(';'),\n",
    "            num_wildcards=sol.num_wildcards,\n",
    "        )\n",
    "\n",
    "        # Score submission row\n",
    "        total_num_moves += score_puzzle(puzzle_id, puzzle, getattr(sub, moves_column_name))\n",
    "\n",
    "    return total_num_moves\n",
    "\n",
    "\n",
    "@dataclass\n",
    "class Puzzle:\n",
    "    \"\"\"A permutation puzzle.\"\"\"\n",
    "\n",
    "    puzzle_id: str\n",
    "    allowed_moves: Dict[str, List[int]]\n",
    "    solution_state: List[str]\n",
    "    initial_state: List[str]\n",
    "    num_wildcards: int\n",
    "\n",
    "\n",
    "def score_puzzle(puzzle_id, puzzle, sub_solution):\n",
    "    \"\"\"Score the solution to a permutation puzzle.\"\"\"\n",
    "    # Apply submitted sequence of moves to the initial state, from left to right\n",
    "    moves = sub_solution.split('.')\n",
    "    state = puzzle.initial_state\n",
    "    for m in moves:\n",
    "        power = 1\n",
    "        if m[0] == \"-\":\n",
    "            m = m[1:]\n",
    "            power = -1\n",
    "        try:\n",
    "            p = puzzle.allowed_moves[m]\n",
    "        except KeyError:\n",
    "            raise ParticipantVisibleError(f\"{m} is not an allowed move for {puzzle_id}.\")\n",
    "        state = (p ** power)(state)\n",
    "\n",
    "    # Check that submitted moves solve puzzle\n",
    "    num_wrong_facelets = sum(not(s == t) for s, t in zip(puzzle.solution_state, state))\n",
    "    if num_wrong_facelets > puzzle.num_wildcards:\n",
    "        raise ParticipantVisibleError(f\"Submitted moves do not solve {puzzle_id}.\")\n",
    "\n",
    "    # The score for this instance is the total number of moves needed to solve the puzzle\n",
    "    return len(moves)"
   ]
  },
  {
   "cell_type": "code",
   "execution_count": 3,
   "id": "a5093380",
   "metadata": {},
   "outputs": [],
   "source": [
    "import pandas as pd\n",
    "from sympy.combinatorics import Permutation\n",
    "from multiprocess import Pool, cpu_count\n",
    "\n",
    "p = './santa-2023/'\n",
    "path = pd.read_csv(p+'puzzles.csv')\n",
    "info = pd.read_csv(p+'puzzle_info.csv')\n",
    "sub = pd.read_csv(p+'sample_submission.csv')"
   ]
  },
  {
   "cell_type": "code",
   "execution_count": 4,
   "id": "f7bcce71",
   "metadata": {},
   "outputs": [
    {
     "data": {
      "text/html": [
       "<div>\n",
       "<style scoped>\n",
       "    .dataframe tbody tr th:only-of-type {\n",
       "        vertical-align: middle;\n",
       "    }\n",
       "\n",
       "    .dataframe tbody tr th {\n",
       "        vertical-align: top;\n",
       "    }\n",
       "\n",
       "    .dataframe thead th {\n",
       "        text-align: right;\n",
       "    }\n",
       "</style>\n",
       "<table border=\"1\" class=\"dataframe\">\n",
       "  <thead>\n",
       "    <tr style=\"text-align: right;\">\n",
       "      <th></th>\n",
       "      <th>id</th>\n",
       "      <th>puzzle_type</th>\n",
       "      <th>solution_state</th>\n",
       "      <th>initial_state</th>\n",
       "      <th>num_wildcards</th>\n",
       "    </tr>\n",
       "  </thead>\n",
       "  <tbody>\n",
       "    <tr>\n",
       "      <th>0</th>\n",
       "      <td>0</td>\n",
       "      <td>cube_2/2/2</td>\n",
       "      <td>A;A;A;A;B;B;B;B;C;C;C;C;D;D;D;D;E;E;E;E;F;F;F;F</td>\n",
       "      <td>D;E;D;A;E;B;A;B;C;A;C;A;D;C;D;F;F;F;E;E;B;F;B;C</td>\n",
       "      <td>0</td>\n",
       "    </tr>\n",
       "    <tr>\n",
       "      <th>1</th>\n",
       "      <td>1</td>\n",
       "      <td>cube_2/2/2</td>\n",
       "      <td>A;A;A;A;B;B;B;B;C;C;C;C;D;D;D;D;E;E;E;E;F;F;F;F</td>\n",
       "      <td>D;E;C;B;B;E;F;A;F;D;B;F;F;E;B;D;A;A;C;D;C;E;A;C</td>\n",
       "      <td>0</td>\n",
       "    </tr>\n",
       "    <tr>\n",
       "      <th>2</th>\n",
       "      <td>2</td>\n",
       "      <td>cube_2/2/2</td>\n",
       "      <td>A;A;A;A;B;B;B;B;C;C;C;C;D;D;D;D;E;E;E;E;F;F;F;F</td>\n",
       "      <td>E;F;C;C;F;A;D;D;B;B;A;F;E;B;C;A;A;B;D;F;E;E;C;D</td>\n",
       "      <td>0</td>\n",
       "    </tr>\n",
       "    <tr>\n",
       "      <th>3</th>\n",
       "      <td>3</td>\n",
       "      <td>cube_2/2/2</td>\n",
       "      <td>A;A;A;A;B;B;B;B;C;C;C;C;D;D;D;D;E;E;E;E;F;F;F;F</td>\n",
       "      <td>A;C;E;C;F;D;E;D;A;A;F;A;B;D;B;F;E;D;B;F;B;C;C;E</td>\n",
       "      <td>0</td>\n",
       "    </tr>\n",
       "    <tr>\n",
       "      <th>4</th>\n",
       "      <td>4</td>\n",
       "      <td>cube_2/2/2</td>\n",
       "      <td>A;A;A;A;B;B;B;B;C;C;C;C;D;D;D;D;E;E;E;E;F;F;F;F</td>\n",
       "      <td>E;D;E;D;A;E;F;B;A;C;F;D;F;D;C;A;F;B;C;C;B;E;B;A</td>\n",
       "      <td>0</td>\n",
       "    </tr>\n",
       "    <tr>\n",
       "      <th>...</th>\n",
       "      <td>...</td>\n",
       "      <td>...</td>\n",
       "      <td>...</td>\n",
       "      <td>...</td>\n",
       "      <td>...</td>\n",
       "    </tr>\n",
       "    <tr>\n",
       "      <th>393</th>\n",
       "      <td>393</td>\n",
       "      <td>globe_33/3</td>\n",
       "      <td>A;A;A;A;A;A;C;C;C;C;C;C;E;E;E;E;E;E;G;G;G;G;G;...</td>\n",
       "      <td>D;D;L;A;P;E;R;U;U;C;S;R;J;B;E;G;O;J;F;Q;R;E;D;...</td>\n",
       "      <td>0</td>\n",
       "    </tr>\n",
       "    <tr>\n",
       "      <th>394</th>\n",
       "      <td>394</td>\n",
       "      <td>globe_33/3</td>\n",
       "      <td>A;A;A;A;A;A;C;C;C;C;C;C;E;E;E;E;E;E;G;G;G;G;G;...</td>\n",
       "      <td>V;L;N;G;B;V;R;E;H;A;K;S;I;N;G;E;V;C;L;G;S;M;P;...</td>\n",
       "      <td>0</td>\n",
       "    </tr>\n",
       "    <tr>\n",
       "      <th>395</th>\n",
       "      <td>395</td>\n",
       "      <td>globe_33/3</td>\n",
       "      <td>N0;N1;N2;N3;N4;N5;N6;N7;N8;N9;N10;N11;N12;N13;...</td>\n",
       "      <td>N12;N219;N227;N198;N4;N208;N214;N245;N56;N55;N...</td>\n",
       "      <td>0</td>\n",
       "    </tr>\n",
       "    <tr>\n",
       "      <th>396</th>\n",
       "      <td>396</td>\n",
       "      <td>globe_8/25</td>\n",
       "      <td>A;A;A;A;A;D;D;D;D;D;G;G;G;G;G;J;J;J;J;J;M;M;M;...</td>\n",
       "      <td>V;P;F;L;P;X;O;A;J;b;V;Y;D;Y;C;X;J;F;U;G;d;L;b;...</td>\n",
       "      <td>0</td>\n",
       "    </tr>\n",
       "    <tr>\n",
       "      <th>397</th>\n",
       "      <td>397</td>\n",
       "      <td>globe_8/25</td>\n",
       "      <td>A;A;A;A;A;D;D;D;D;D;G;G;G;G;G;J;J;J;J;J;M;M;M;...</td>\n",
       "      <td>V;O;a;I;a;F;C;D;C;d;I;O;U;F;F;G;L;I;Y;Y;X;X;a;...</td>\n",
       "      <td>0</td>\n",
       "    </tr>\n",
       "  </tbody>\n",
       "</table>\n",
       "<p>398 rows × 5 columns</p>\n",
       "</div>"
      ],
      "text/plain": [
       "      id puzzle_type                                     solution_state  \\\n",
       "0      0  cube_2/2/2    A;A;A;A;B;B;B;B;C;C;C;C;D;D;D;D;E;E;E;E;F;F;F;F   \n",
       "1      1  cube_2/2/2    A;A;A;A;B;B;B;B;C;C;C;C;D;D;D;D;E;E;E;E;F;F;F;F   \n",
       "2      2  cube_2/2/2    A;A;A;A;B;B;B;B;C;C;C;C;D;D;D;D;E;E;E;E;F;F;F;F   \n",
       "3      3  cube_2/2/2    A;A;A;A;B;B;B;B;C;C;C;C;D;D;D;D;E;E;E;E;F;F;F;F   \n",
       "4      4  cube_2/2/2    A;A;A;A;B;B;B;B;C;C;C;C;D;D;D;D;E;E;E;E;F;F;F;F   \n",
       "..   ...         ...                                                ...   \n",
       "393  393  globe_33/3  A;A;A;A;A;A;C;C;C;C;C;C;E;E;E;E;E;E;G;G;G;G;G;...   \n",
       "394  394  globe_33/3  A;A;A;A;A;A;C;C;C;C;C;C;E;E;E;E;E;E;G;G;G;G;G;...   \n",
       "395  395  globe_33/3  N0;N1;N2;N3;N4;N5;N6;N7;N8;N9;N10;N11;N12;N13;...   \n",
       "396  396  globe_8/25  A;A;A;A;A;D;D;D;D;D;G;G;G;G;G;J;J;J;J;J;M;M;M;...   \n",
       "397  397  globe_8/25  A;A;A;A;A;D;D;D;D;D;G;G;G;G;G;J;J;J;J;J;M;M;M;...   \n",
       "\n",
       "                                         initial_state  num_wildcards  \n",
       "0      D;E;D;A;E;B;A;B;C;A;C;A;D;C;D;F;F;F;E;E;B;F;B;C              0  \n",
       "1      D;E;C;B;B;E;F;A;F;D;B;F;F;E;B;D;A;A;C;D;C;E;A;C              0  \n",
       "2      E;F;C;C;F;A;D;D;B;B;A;F;E;B;C;A;A;B;D;F;E;E;C;D              0  \n",
       "3      A;C;E;C;F;D;E;D;A;A;F;A;B;D;B;F;E;D;B;F;B;C;C;E              0  \n",
       "4      E;D;E;D;A;E;F;B;A;C;F;D;F;D;C;A;F;B;C;C;B;E;B;A              0  \n",
       "..                                                 ...            ...  \n",
       "393  D;D;L;A;P;E;R;U;U;C;S;R;J;B;E;G;O;J;F;Q;R;E;D;...              0  \n",
       "394  V;L;N;G;B;V;R;E;H;A;K;S;I;N;G;E;V;C;L;G;S;M;P;...              0  \n",
       "395  N12;N219;N227;N198;N4;N208;N214;N245;N56;N55;N...              0  \n",
       "396  V;P;F;L;P;X;O;A;J;b;V;Y;D;Y;C;X;J;F;U;G;d;L;b;...              0  \n",
       "397  V;O;a;I;a;F;C;D;C;d;I;O;U;F;F;G;L;I;Y;Y;X;X;a;...              0  \n",
       "\n",
       "[398 rows x 5 columns]"
      ]
     },
     "execution_count": 4,
     "metadata": {},
     "output_type": "execute_result"
    }
   ],
   "source": [
    "path"
   ]
  },
  {
   "cell_type": "code",
   "execution_count": 5,
   "id": "4dad0b75",
   "metadata": {},
   "outputs": [
    {
     "data": {
      "text/html": [
       "<div>\n",
       "<style scoped>\n",
       "    .dataframe tbody tr th:only-of-type {\n",
       "        vertical-align: middle;\n",
       "    }\n",
       "\n",
       "    .dataframe tbody tr th {\n",
       "        vertical-align: top;\n",
       "    }\n",
       "\n",
       "    .dataframe thead th {\n",
       "        text-align: right;\n",
       "    }\n",
       "</style>\n",
       "<table border=\"1\" class=\"dataframe\">\n",
       "  <thead>\n",
       "    <tr style=\"text-align: right;\">\n",
       "      <th></th>\n",
       "      <th>puzzle_type</th>\n",
       "      <th>allowed_moves</th>\n",
       "    </tr>\n",
       "  </thead>\n",
       "  <tbody>\n",
       "    <tr>\n",
       "      <th>0</th>\n",
       "      <td>cube_2/2/2</td>\n",
       "      <td>{'f0': [0, 1, 19, 17, 6, 4, 7, 5, 2, 9, 3, 11,...</td>\n",
       "    </tr>\n",
       "    <tr>\n",
       "      <th>1</th>\n",
       "      <td>cube_3/3/3</td>\n",
       "      <td>{'f0': [0, 1, 2, 3, 4, 5, 44, 41, 38, 15, 12, ...</td>\n",
       "    </tr>\n",
       "    <tr>\n",
       "      <th>2</th>\n",
       "      <td>cube_4/4/4</td>\n",
       "      <td>{'f0': [0, 1, 2, 3, 4, 5, 6, 7, 8, 9, 10, 11, ...</td>\n",
       "    </tr>\n",
       "    <tr>\n",
       "      <th>3</th>\n",
       "      <td>cube_5/5/5</td>\n",
       "      <td>{'f0': [0, 1, 2, 3, 4, 5, 6, 7, 8, 9, 10, 11, ...</td>\n",
       "    </tr>\n",
       "    <tr>\n",
       "      <th>4</th>\n",
       "      <td>cube_6/6/6</td>\n",
       "      <td>{'f0': [0, 1, 2, 3, 4, 5, 6, 7, 8, 9, 10, 11, ...</td>\n",
       "    </tr>\n",
       "    <tr>\n",
       "      <th>5</th>\n",
       "      <td>cube_7/7/7</td>\n",
       "      <td>{'f0': [0, 1, 2, 3, 4, 5, 6, 7, 8, 9, 10, 11, ...</td>\n",
       "    </tr>\n",
       "    <tr>\n",
       "      <th>6</th>\n",
       "      <td>cube_8/8/8</td>\n",
       "      <td>{'f0': [0, 1, 2, 3, 4, 5, 6, 7, 8, 9, 10, 11, ...</td>\n",
       "    </tr>\n",
       "    <tr>\n",
       "      <th>7</th>\n",
       "      <td>cube_9/9/9</td>\n",
       "      <td>{'f0': [0, 1, 2, 3, 4, 5, 6, 7, 8, 9, 10, 11, ...</td>\n",
       "    </tr>\n",
       "    <tr>\n",
       "      <th>8</th>\n",
       "      <td>cube_10/10/10</td>\n",
       "      <td>{'f0': [0, 1, 2, 3, 4, 5, 6, 7, 8, 9, 10, 11, ...</td>\n",
       "    </tr>\n",
       "    <tr>\n",
       "      <th>9</th>\n",
       "      <td>cube_19/19/19</td>\n",
       "      <td>{'f0': [0, 1, 2, 3, 4, 5, 6, 7, 8, 9, 10, 11, ...</td>\n",
       "    </tr>\n",
       "    <tr>\n",
       "      <th>10</th>\n",
       "      <td>cube_33/33/33</td>\n",
       "      <td>{'f0': [0, 1, 2, 3, 4, 5, 6, 7, 8, 9, 10, 11, ...</td>\n",
       "    </tr>\n",
       "    <tr>\n",
       "      <th>11</th>\n",
       "      <td>wreath_6/6</td>\n",
       "      <td>{'l': [1, 2, 3, 4, 5, 0, 6, 7, 8, 9], 'r': [6,...</td>\n",
       "    </tr>\n",
       "    <tr>\n",
       "      <th>12</th>\n",
       "      <td>wreath_7/7</td>\n",
       "      <td>{'l': [1, 2, 3, 4, 5, 6, 0, 7, 8, 9, 10, 11], ...</td>\n",
       "    </tr>\n",
       "    <tr>\n",
       "      <th>13</th>\n",
       "      <td>wreath_12/12</td>\n",
       "      <td>{'l': [1, 2, 3, 4, 5, 6, 7, 8, 9, 10, 11, 0, 1...</td>\n",
       "    </tr>\n",
       "    <tr>\n",
       "      <th>14</th>\n",
       "      <td>wreath_21/21</td>\n",
       "      <td>{'l': [1, 2, 3, 4, 5, 6, 7, 8, 9, 10, 11, 12, ...</td>\n",
       "    </tr>\n",
       "    <tr>\n",
       "      <th>15</th>\n",
       "      <td>wreath_33/33</td>\n",
       "      <td>{'l': [1, 2, 3, 4, 5, 6, 7, 8, 9, 10, 11, 12, ...</td>\n",
       "    </tr>\n",
       "    <tr>\n",
       "      <th>16</th>\n",
       "      <td>wreath_100/100</td>\n",
       "      <td>{'l': [1, 2, 3, 4, 5, 6, 7, 8, 9, 10, 11, 12, ...</td>\n",
       "    </tr>\n",
       "    <tr>\n",
       "      <th>17</th>\n",
       "      <td>globe_1/8</td>\n",
       "      <td>{'r0': [1, 2, 3, 4, 5, 6, 7, 8, 9, 10, 11, 12,...</td>\n",
       "    </tr>\n",
       "    <tr>\n",
       "      <th>18</th>\n",
       "      <td>globe_1/16</td>\n",
       "      <td>{'r0': [1, 2, 3, 4, 5, 6, 7, 8, 9, 10, 11, 12,...</td>\n",
       "    </tr>\n",
       "    <tr>\n",
       "      <th>19</th>\n",
       "      <td>globe_2/6</td>\n",
       "      <td>{'r0': [1, 2, 3, 4, 5, 6, 7, 8, 9, 10, 11, 0, ...</td>\n",
       "    </tr>\n",
       "    <tr>\n",
       "      <th>20</th>\n",
       "      <td>globe_3/4</td>\n",
       "      <td>{'r0': [1, 2, 3, 4, 5, 6, 7, 0, 8, 9, 10, 11, ...</td>\n",
       "    </tr>\n",
       "    <tr>\n",
       "      <th>21</th>\n",
       "      <td>globe_6/4</td>\n",
       "      <td>{'r0': [1, 2, 3, 4, 5, 6, 7, 0, 8, 9, 10, 11, ...</td>\n",
       "    </tr>\n",
       "    <tr>\n",
       "      <th>22</th>\n",
       "      <td>globe_6/8</td>\n",
       "      <td>{'r0': [1, 2, 3, 4, 5, 6, 7, 8, 9, 10, 11, 12,...</td>\n",
       "    </tr>\n",
       "    <tr>\n",
       "      <th>23</th>\n",
       "      <td>globe_6/10</td>\n",
       "      <td>{'r0': [1, 2, 3, 4, 5, 6, 7, 8, 9, 10, 11, 12,...</td>\n",
       "    </tr>\n",
       "    <tr>\n",
       "      <th>24</th>\n",
       "      <td>globe_3/33</td>\n",
       "      <td>{'r0': [1, 2, 3, 4, 5, 6, 7, 8, 9, 10, 11, 12,...</td>\n",
       "    </tr>\n",
       "    <tr>\n",
       "      <th>25</th>\n",
       "      <td>globe_33/3</td>\n",
       "      <td>{'r0': [1, 2, 3, 4, 5, 6, 7, 8, 9, 10, 11, 12,...</td>\n",
       "    </tr>\n",
       "    <tr>\n",
       "      <th>26</th>\n",
       "      <td>globe_8/25</td>\n",
       "      <td>{'r0': [1, 2, 3, 4, 5, 6, 7, 8, 9, 10, 11, 12,...</td>\n",
       "    </tr>\n",
       "  </tbody>\n",
       "</table>\n",
       "</div>"
      ],
      "text/plain": [
       "       puzzle_type                                      allowed_moves\n",
       "0       cube_2/2/2  {'f0': [0, 1, 19, 17, 6, 4, 7, 5, 2, 9, 3, 11,...\n",
       "1       cube_3/3/3  {'f0': [0, 1, 2, 3, 4, 5, 44, 41, 38, 15, 12, ...\n",
       "2       cube_4/4/4  {'f0': [0, 1, 2, 3, 4, 5, 6, 7, 8, 9, 10, 11, ...\n",
       "3       cube_5/5/5  {'f0': [0, 1, 2, 3, 4, 5, 6, 7, 8, 9, 10, 11, ...\n",
       "4       cube_6/6/6  {'f0': [0, 1, 2, 3, 4, 5, 6, 7, 8, 9, 10, 11, ...\n",
       "5       cube_7/7/7  {'f0': [0, 1, 2, 3, 4, 5, 6, 7, 8, 9, 10, 11, ...\n",
       "6       cube_8/8/8  {'f0': [0, 1, 2, 3, 4, 5, 6, 7, 8, 9, 10, 11, ...\n",
       "7       cube_9/9/9  {'f0': [0, 1, 2, 3, 4, 5, 6, 7, 8, 9, 10, 11, ...\n",
       "8    cube_10/10/10  {'f0': [0, 1, 2, 3, 4, 5, 6, 7, 8, 9, 10, 11, ...\n",
       "9    cube_19/19/19  {'f0': [0, 1, 2, 3, 4, 5, 6, 7, 8, 9, 10, 11, ...\n",
       "10   cube_33/33/33  {'f0': [0, 1, 2, 3, 4, 5, 6, 7, 8, 9, 10, 11, ...\n",
       "11      wreath_6/6  {'l': [1, 2, 3, 4, 5, 0, 6, 7, 8, 9], 'r': [6,...\n",
       "12      wreath_7/7  {'l': [1, 2, 3, 4, 5, 6, 0, 7, 8, 9, 10, 11], ...\n",
       "13    wreath_12/12  {'l': [1, 2, 3, 4, 5, 6, 7, 8, 9, 10, 11, 0, 1...\n",
       "14    wreath_21/21  {'l': [1, 2, 3, 4, 5, 6, 7, 8, 9, 10, 11, 12, ...\n",
       "15    wreath_33/33  {'l': [1, 2, 3, 4, 5, 6, 7, 8, 9, 10, 11, 12, ...\n",
       "16  wreath_100/100  {'l': [1, 2, 3, 4, 5, 6, 7, 8, 9, 10, 11, 12, ...\n",
       "17       globe_1/8  {'r0': [1, 2, 3, 4, 5, 6, 7, 8, 9, 10, 11, 12,...\n",
       "18      globe_1/16  {'r0': [1, 2, 3, 4, 5, 6, 7, 8, 9, 10, 11, 12,...\n",
       "19       globe_2/6  {'r0': [1, 2, 3, 4, 5, 6, 7, 8, 9, 10, 11, 0, ...\n",
       "20       globe_3/4  {'r0': [1, 2, 3, 4, 5, 6, 7, 0, 8, 9, 10, 11, ...\n",
       "21       globe_6/4  {'r0': [1, 2, 3, 4, 5, 6, 7, 0, 8, 9, 10, 11, ...\n",
       "22       globe_6/8  {'r0': [1, 2, 3, 4, 5, 6, 7, 8, 9, 10, 11, 12,...\n",
       "23      globe_6/10  {'r0': [1, 2, 3, 4, 5, 6, 7, 8, 9, 10, 11, 12,...\n",
       "24      globe_3/33  {'r0': [1, 2, 3, 4, 5, 6, 7, 8, 9, 10, 11, 12,...\n",
       "25      globe_33/3  {'r0': [1, 2, 3, 4, 5, 6, 7, 8, 9, 10, 11, 12,...\n",
       "26      globe_8/25  {'r0': [1, 2, 3, 4, 5, 6, 7, 8, 9, 10, 11, 12,..."
      ]
     },
     "execution_count": 5,
     "metadata": {},
     "output_type": "execute_result"
    }
   ],
   "source": [
    "info"
   ]
  },
  {
   "cell_type": "code",
   "execution_count": 6,
   "id": "718af0bc",
   "metadata": {},
   "outputs": [
    {
     "data": {
      "text/html": [
       "<div>\n",
       "<style scoped>\n",
       "    .dataframe tbody tr th:only-of-type {\n",
       "        vertical-align: middle;\n",
       "    }\n",
       "\n",
       "    .dataframe tbody tr th {\n",
       "        vertical-align: top;\n",
       "    }\n",
       "\n",
       "    .dataframe thead th {\n",
       "        text-align: right;\n",
       "    }\n",
       "</style>\n",
       "<table border=\"1\" class=\"dataframe\">\n",
       "  <thead>\n",
       "    <tr style=\"text-align: right;\">\n",
       "      <th></th>\n",
       "      <th>id</th>\n",
       "      <th>moves</th>\n",
       "    </tr>\n",
       "  </thead>\n",
       "  <tbody>\n",
       "    <tr>\n",
       "      <th>0</th>\n",
       "      <td>0</td>\n",
       "      <td>r1.-f1</td>\n",
       "    </tr>\n",
       "    <tr>\n",
       "      <th>1</th>\n",
       "      <td>1</td>\n",
       "      <td>f1.d0.-r0.-f1.-d0.-f1.d0.-r0.f0.-f1.-r0.f1.-d1...</td>\n",
       "    </tr>\n",
       "    <tr>\n",
       "      <th>2</th>\n",
       "      <td>2</td>\n",
       "      <td>f1.d0.-d1.r0.-d1.-f0.f1.-r0.-f0.-r1.-f0.r0.-d0...</td>\n",
       "    </tr>\n",
       "    <tr>\n",
       "      <th>3</th>\n",
       "      <td>3</td>\n",
       "      <td>-f0.-r0.-f0.-d0.-f0.f1.r0.-d1.-r0.-r1.-r0.-f1....</td>\n",
       "    </tr>\n",
       "    <tr>\n",
       "      <th>4</th>\n",
       "      <td>4</td>\n",
       "      <td>d1.-f1.d1.r1.-f0.d1.-d0.-r1.d1.d1.-f1.d1.-d0.-...</td>\n",
       "    </tr>\n",
       "    <tr>\n",
       "      <th>...</th>\n",
       "      <td>...</td>\n",
       "      <td>...</td>\n",
       "    </tr>\n",
       "    <tr>\n",
       "      <th>393</th>\n",
       "      <td>393</td>\n",
       "      <td>f19.f21.-f39.f20.f2.-f5.f7.-r3.f55.-f12.f65.-f...</td>\n",
       "    </tr>\n",
       "    <tr>\n",
       "      <th>394</th>\n",
       "      <td>394</td>\n",
       "      <td>-f31.-f22.f16.-f17.-f13.-f24.-f14.f2.f21.f44.f...</td>\n",
       "    </tr>\n",
       "    <tr>\n",
       "      <th>395</th>\n",
       "      <td>395</td>\n",
       "      <td>-r0.-f42.-f8.f16.-f49.f14.-f1.f56.f26.f35.f62....</td>\n",
       "    </tr>\n",
       "    <tr>\n",
       "      <th>396</th>\n",
       "      <td>396</td>\n",
       "      <td>f25.-f29.f46.f49.-f8.f27.f26.-f20.f2.-f20.f6.f...</td>\n",
       "    </tr>\n",
       "    <tr>\n",
       "      <th>397</th>\n",
       "      <td>397</td>\n",
       "      <td>-r1.f23.-f24.-r2.f30.f30.f38.-f19.f24.f19.f18....</td>\n",
       "    </tr>\n",
       "  </tbody>\n",
       "</table>\n",
       "<p>398 rows × 2 columns</p>\n",
       "</div>"
      ],
      "text/plain": [
       "      id                                              moves\n",
       "0      0                                             r1.-f1\n",
       "1      1  f1.d0.-r0.-f1.-d0.-f1.d0.-r0.f0.-f1.-r0.f1.-d1...\n",
       "2      2  f1.d0.-d1.r0.-d1.-f0.f1.-r0.-f0.-r1.-f0.r0.-d0...\n",
       "3      3  -f0.-r0.-f0.-d0.-f0.f1.r0.-d1.-r0.-r1.-r0.-f1....\n",
       "4      4  d1.-f1.d1.r1.-f0.d1.-d0.-r1.d1.d1.-f1.d1.-d0.-...\n",
       "..   ...                                                ...\n",
       "393  393  f19.f21.-f39.f20.f2.-f5.f7.-r3.f55.-f12.f65.-f...\n",
       "394  394  -f31.-f22.f16.-f17.-f13.-f24.-f14.f2.f21.f44.f...\n",
       "395  395  -r0.-f42.-f8.f16.-f49.f14.-f1.f56.f26.f35.f62....\n",
       "396  396  f25.-f29.f46.f49.-f8.f27.f26.-f20.f2.-f20.f6.f...\n",
       "397  397  -r1.f23.-f24.-r2.f30.f30.f38.-f19.f24.f19.f18....\n",
       "\n",
       "[398 rows x 2 columns]"
      ]
     },
     "execution_count": 6,
     "metadata": {},
     "output_type": "execute_result"
    }
   ],
   "source": [
    "sub"
   ]
  },
  {
   "cell_type": "code",
   "execution_count": null,
   "id": "df3bf535",
   "metadata": {},
   "outputs": [],
   "source": []
  },
  {
   "cell_type": "code",
   "execution_count": 7,
   "id": "ca696f41",
   "metadata": {},
   "outputs": [
    {
     "data": {
      "text/html": [
       "<div>\n",
       "<style scoped>\n",
       "    .dataframe tbody tr th:only-of-type {\n",
       "        vertical-align: middle;\n",
       "    }\n",
       "\n",
       "    .dataframe tbody tr th {\n",
       "        vertical-align: top;\n",
       "    }\n",
       "\n",
       "    .dataframe thead th {\n",
       "        text-align: right;\n",
       "    }\n",
       "</style>\n",
       "<table border=\"1\" class=\"dataframe\">\n",
       "  <thead>\n",
       "    <tr style=\"text-align: right;\">\n",
       "      <th></th>\n",
       "      <th>id</th>\n",
       "      <th>puzzle_type</th>\n",
       "      <th>solution_state</th>\n",
       "      <th>initial_state</th>\n",
       "      <th>num_wildcards</th>\n",
       "      <th>allowed_moves</th>\n",
       "      <th>allowed_moves_count</th>\n",
       "      <th>moves</th>\n",
       "    </tr>\n",
       "  </thead>\n",
       "  <tbody>\n",
       "    <tr>\n",
       "      <th>0</th>\n",
       "      <td>0</td>\n",
       "      <td>cube_2/2/2</td>\n",
       "      <td>[A, A, A, A, B, B, B, B, C, C, C, C, D, D, D, ...</td>\n",
       "      <td>[D, E, D, A, E, B, A, B, C, A, C, A, D, C, D, ...</td>\n",
       "      <td>0</td>\n",
       "      <td>{'f0': [0, 1, 19, 17, 6, 4, 7, 5, 2, 9, 3, 11,...</td>\n",
       "      <td>{'f0': (23)(2 19 21 8)(3 17 20 10)(4 6 7 5), '...</td>\n",
       "      <td>[r1, -f1]</td>\n",
       "    </tr>\n",
       "  </tbody>\n",
       "</table>\n",
       "</div>"
      ],
      "text/plain": [
       "   id puzzle_type                                     solution_state  \\\n",
       "0   0  cube_2/2/2  [A, A, A, A, B, B, B, B, C, C, C, C, D, D, D, ...   \n",
       "\n",
       "                                       initial_state  num_wildcards  \\\n",
       "0  [D, E, D, A, E, B, A, B, C, A, C, A, D, C, D, ...              0   \n",
       "\n",
       "                                       allowed_moves  \\\n",
       "0  {'f0': [0, 1, 19, 17, 6, 4, 7, 5, 2, 9, 3, 11,...   \n",
       "\n",
       "                                 allowed_moves_count      moves  \n",
       "0  {'f0': (23)(2 19 21 8)(3 17 20 10)(4 6 7 5), '...  [r1, -f1]  "
      ]
     },
     "execution_count": 7,
     "metadata": {},
     "output_type": "execute_result"
    }
   ],
   "source": [
    "info['allowed_moves_count'] = info['allowed_moves'].map(lambda x: {k: Permutation(v) for k, v in eval(x).items()})\n",
    "paths = pd.merge(path, info, how='left', on='puzzle_type')\n",
    "paths = pd.merge(paths, sub, how='left', on='id')\n",
    "paths['solution_state'] = paths['solution_state'].map(lambda x: x.split(';'))\n",
    "paths['initial_state'] = paths['initial_state'].map(lambda x: x.split(';'))\n",
    "paths['moves'] = paths['moves'].map(lambda x: x.split('.'))\n",
    "paths.head(1)"
   ]
  },
  {
   "cell_type": "code",
   "execution_count": 8,
   "id": "fa516c94",
   "metadata": {},
   "outputs": [],
   "source": [
    "#Evaluation metric for Santa 2023 - https://www.kaggle.com/code/metric/santa-2023-metric\n",
    "# modified - using combined paths & info dataframe\n",
    "\n",
    "def getMoves(puzzle_id, moves, allowed_moves, state, solution_state, num_wildcards):\n",
    "#     for m in moves:\n",
    "#         power = 1\n",
    "#         if m[0] == \"-\":\n",
    "#             m = m[1:]\n",
    "#             power = -1\n",
    "#         p = allowed_moves[m]\n",
    "#         state = (p ** power)(state)\n",
    "#     num_wrong_facelets = sum(not(s == t) for s, t in zip(solution_state, state))\n",
    "#     if num_wrong_facelets > num_wildcards:\n",
    "#         print(f\"Submitted moves do not solve {puzzle_id}.\")\n",
    "    return len(moves)\n",
    "\n",
    "def score(sol):\n",
    "    p = Pool(cpu_count()-1)\n",
    "    ret = p.starmap(getMoves, sol[['id','moves','allowed_moves_count','initial_state','solution_state','num_wildcards']].values)\n",
    "    p.close(); p.join()\n",
    "    return sum(ret)"
   ]
  },
  {
   "cell_type": "code",
   "execution_count": 9,
   "id": "9232efc2",
   "metadata": {},
   "outputs": [
    {
     "name": "stdout",
     "output_type": "stream",
     "text": [
      "CPU times: total: 1.3 s\n",
      "Wall time: 5.58 s\n"
     ]
    },
    {
     "data": {
      "text/plain": [
       "1220590"
      ]
     },
     "execution_count": 9,
     "metadata": {},
     "output_type": "execute_result"
    }
   ],
   "source": [
    "%%time\n",
    "score(paths)"
   ]
  },
  {
   "cell_type": "code",
   "execution_count": 10,
   "id": "94519a42",
   "metadata": {},
   "outputs": [
    {
     "name": "stdout",
     "output_type": "stream",
     "text": [
      "allowed_moves: {'f0': Permutation(23)(2, 19, 21, 8)(3, 17, 20, 10)(4, 6, 7, 5), 'f1': Permutation(0, 18, 23, 9)(1, 16, 22, 11)(12, 13, 15, 14), 'r0': Permutation(1, 5, 21, 14)(3, 7, 23, 12)(8, 10, 11, 9), 'r1': Permutation(23)(0, 4, 20, 15)(2, 6, 22, 13)(16, 17, 19, 18), 'd0': Permutation(6, 18, 14, 10)(7, 19, 15, 11)(20, 22, 23, 21), 'd1': Permutation(23)(0, 1, 3, 2)(4, 16, 12, 8)(5, 17, 13, 9)}\n",
      "move: r1\n",
      "perm: (23)(0 4 20 15)(2 6 22 13)(16 17 19 18)\n",
      "state: ['E', 'E', 'A', 'A', 'B', 'B', 'B', 'B', 'C', 'A', 'C', 'A', 'D', 'D', 'D', 'D', 'F', 'E', 'F', 'E', 'F', 'F', 'C', 'C']\n",
      "\n",
      "        Positions                              \n",
      "\n",
      "             +--------+                               +--------+\n",
      "             | E    E |                               | A    A |\n",
      "             |   d1   |                               |   d1   |\n",
      "             | A    A |                               | A    A |\n",
      "    +--------+--------+--------+--------+    +--------+--------+--------+--------+\n",
      "    | F    E | B    B | C    A | D    D |    | E    E | B    B | C    C | D    D |\n",
      "    |   r1   |   f0   |   r0   |   f1   |    |   r1   |   f0   |   r0   |   f1   |\n",
      "    | F    E | B    B | C    A | D    D |    | E    E | B    B | C    C | D    D |\n",
      "    +--------+--------+--------+--------+    +--------+--------+--------+--------+\n",
      "             | F    F |                               | F    F |\n",
      "             |   d0   |                               |   d0   |\n",
      "             | C    C |                               | F    F |\n",
      "             +--------+                               +--------+\n",
      "    \n",
      "move: -f1\n",
      "perm: (0 18 23 9)(1 16 22 11)(12 13 15 14)\n",
      "state: ['A', 'A', 'A', 'A', 'B', 'B', 'B', 'B', 'C', 'C', 'C', 'C', 'D', 'D', 'D', 'D', 'E', 'E', 'E', 'E', 'F', 'F', 'F', 'F']\n",
      "\n",
      "        Positions                              \n",
      "\n",
      "             +--------+                               +--------+\n",
      "             | A    A |                               | A    A |\n",
      "             |   d1   |                               |   d1   |\n",
      "             | A    A |                               | A    A |\n",
      "    +--------+--------+--------+--------+    +--------+--------+--------+--------+\n",
      "    | E    E | B    B | C    C | D    D |    | E    E | B    B | C    C | D    D |\n",
      "    |   r1   |   f0   |   r0   |   f1   |    |   r1   |   f0   |   r0   |   f1   |\n",
      "    | E    E | B    B | C    C | D    D |    | E    E | B    B | C    C | D    D |\n",
      "    +--------+--------+--------+--------+    +--------+--------+--------+--------+\n",
      "             | F    F |                               | F    F |\n",
      "             |   d0   |                               |   d0   |\n",
      "             | F    F |                               | F    F |\n",
      "             +--------+                               +--------+\n",
      "    \n"
     ]
    },
    {
     "data": {
      "text/plain": [
       "2"
      ]
     },
     "execution_count": 10,
     "metadata": {},
     "output_type": "execute_result"
    }
   ],
   "source": [
    "# Visualizing Changes\n",
    "def pPositions(s):\n",
    "    o = \"\"\"\n",
    "        Positions                              \n",
    "\n",
    "             +--------+                               +--------+\n",
    "             | .0.    .1. |                               | A    A |\n",
    "             |   d1   |                               |   d1   |\n",
    "             | .2.    .3. |                               | A    A |\n",
    "    +--------+--------+--------+--------+    +--------+--------+--------+--------+\n",
    "    | .16.    .17. | .4.    .5. | .8.    .9. | .12.    .13. |    | E    E | B    B | C    C | D    D |\n",
    "    |   r1   |   f0   |   r0   |   f1   |    |   r1   |   f0   |   r0   |   f1   |\n",
    "    | .18.    .19. | .6.    .7. | .10.    .11. | .14.    .15. |    | E    E | B    B | C    C | D    D |\n",
    "    +--------+--------+--------+--------+    +--------+--------+--------+--------+\n",
    "             | .20.    .21. |                               | F    F |\n",
    "             |   d0   |                               |   d0   |\n",
    "             | .22.    .23. |                               | F    F |\n",
    "             +--------+                               +--------+\n",
    "    \"\"\"\n",
    "    for i in range(len(s)):\n",
    "        o = o.replace('.'+str(i)+'.', s[i])\n",
    "    return o\n",
    "\n",
    "def getMoves(args):\n",
    "    puzzle_id, moves, allowed_moves, state, solution_state, num_wildcards = args\n",
    "    print(f\"allowed_moves: {allowed_moves}\")\n",
    "    for m in moves:\n",
    "        print(f\"move: {m}\")\n",
    "        power = 1\n",
    "        if m[0] == \"-\":\n",
    "            m = m[1:]\n",
    "            power = -1\n",
    "        p = allowed_moves[m]\n",
    "        print(f\"perm: {p}\")\n",
    "        state = (p ** power)(state)\n",
    "        print(f\"state: {state}\")\n",
    "        print(pPositions(state))\n",
    "    \n",
    "#     num_wrong_facelets = sum(not(s == t) for s, t in zip(solution_state, state))\n",
    "#     if num_wrong_facelets > num_wildcards:\n",
    "#         print(f\"Submitted moves do not solve {puzzle_id}.\")\n",
    "    return len(moves)\n",
    "\n",
    "getMoves(paths[['id','moves','allowed_moves_count','initial_state','solution_state','num_wildcards']].values[0])"
   ]
  },
  {
   "cell_type": "code",
   "execution_count": 11,
   "id": "067ef7bb",
   "metadata": {},
   "outputs": [],
   "source": [
    "# paths['moves'] = paths['moves'].map(lambda x: '.'.join(x))\n",
    "# paths[['id','moves']].to_csv('submission.csv', index=False)"
   ]
  },
  {
   "cell_type": "markdown",
   "id": "3f858bd7",
   "metadata": {},
   "source": [
    "# 可視化"
   ]
  },
  {
   "cell_type": "code",
   "execution_count": 12,
   "id": "939ad5b1",
   "metadata": {},
   "outputs": [
    {
     "data": {
      "text/plain": [
       "puzzle_type                                                   cube_2/2/2\n",
       "allowed_moves          {'f0': [0, 1, 19, 17, 6, 4, 7, 5, 2, 9, 3, 11,...\n",
       "allowed_moves_count    {'f0': (23)(2 19 21 8)(3 17 20 10)(4 6 7 5), '...\n",
       "Name: 0, dtype: object"
      ]
     },
     "execution_count": 12,
     "metadata": {},
     "output_type": "execute_result"
    }
   ],
   "source": [
    "info.loc[0]"
   ]
  },
  {
   "cell_type": "code",
   "execution_count": 13,
   "id": "8362125a",
   "metadata": {},
   "outputs": [
    {
     "data": {
      "text/plain": [
       "{'f0': [0,\n",
       "  1,\n",
       "  19,\n",
       "  17,\n",
       "  6,\n",
       "  4,\n",
       "  7,\n",
       "  5,\n",
       "  2,\n",
       "  9,\n",
       "  3,\n",
       "  11,\n",
       "  12,\n",
       "  13,\n",
       "  14,\n",
       "  15,\n",
       "  16,\n",
       "  20,\n",
       "  18,\n",
       "  21,\n",
       "  10,\n",
       "  8,\n",
       "  22,\n",
       "  23],\n",
       " 'f1': [18,\n",
       "  16,\n",
       "  2,\n",
       "  3,\n",
       "  4,\n",
       "  5,\n",
       "  6,\n",
       "  7,\n",
       "  8,\n",
       "  0,\n",
       "  10,\n",
       "  1,\n",
       "  13,\n",
       "  15,\n",
       "  12,\n",
       "  14,\n",
       "  22,\n",
       "  17,\n",
       "  23,\n",
       "  19,\n",
       "  20,\n",
       "  21,\n",
       "  11,\n",
       "  9],\n",
       " 'r0': [0,\n",
       "  5,\n",
       "  2,\n",
       "  7,\n",
       "  4,\n",
       "  21,\n",
       "  6,\n",
       "  23,\n",
       "  10,\n",
       "  8,\n",
       "  11,\n",
       "  9,\n",
       "  3,\n",
       "  13,\n",
       "  1,\n",
       "  15,\n",
       "  16,\n",
       "  17,\n",
       "  18,\n",
       "  19,\n",
       "  20,\n",
       "  14,\n",
       "  22,\n",
       "  12],\n",
       " 'r1': [4,\n",
       "  1,\n",
       "  6,\n",
       "  3,\n",
       "  20,\n",
       "  5,\n",
       "  22,\n",
       "  7,\n",
       "  8,\n",
       "  9,\n",
       "  10,\n",
       "  11,\n",
       "  12,\n",
       "  2,\n",
       "  14,\n",
       "  0,\n",
       "  17,\n",
       "  19,\n",
       "  16,\n",
       "  18,\n",
       "  15,\n",
       "  21,\n",
       "  13,\n",
       "  23],\n",
       " 'd0': [0,\n",
       "  1,\n",
       "  2,\n",
       "  3,\n",
       "  4,\n",
       "  5,\n",
       "  18,\n",
       "  19,\n",
       "  8,\n",
       "  9,\n",
       "  6,\n",
       "  7,\n",
       "  12,\n",
       "  13,\n",
       "  10,\n",
       "  11,\n",
       "  16,\n",
       "  17,\n",
       "  14,\n",
       "  15,\n",
       "  22,\n",
       "  20,\n",
       "  23,\n",
       "  21],\n",
       " 'd1': [1,\n",
       "  3,\n",
       "  0,\n",
       "  2,\n",
       "  16,\n",
       "  17,\n",
       "  6,\n",
       "  7,\n",
       "  4,\n",
       "  5,\n",
       "  10,\n",
       "  11,\n",
       "  8,\n",
       "  9,\n",
       "  14,\n",
       "  15,\n",
       "  12,\n",
       "  13,\n",
       "  18,\n",
       "  19,\n",
       "  20,\n",
       "  21,\n",
       "  22,\n",
       "  23]}"
      ]
     },
     "execution_count": 13,
     "metadata": {},
     "output_type": "execute_result"
    }
   ],
   "source": [
    "allowed_moves=eval(info.at[0,\"allowed_moves\"])\n",
    "allowed_moves"
   ]
  },
  {
   "cell_type": "code",
   "execution_count": 14,
   "id": "8f52b628",
   "metadata": {},
   "outputs": [
    {
     "name": "stdout",
     "output_type": "stream",
     "text": [
      "f0 24\n",
      "f1 24\n",
      "r0 24\n",
      "r1 24\n",
      "d0 24\n",
      "d1 24\n"
     ]
    }
   ],
   "source": [
    "for k,v in allowed_moves.items():\n",
    "    print(k, len(v))"
   ]
  },
  {
   "cell_type": "code",
   "execution_count": 15,
   "id": "aea1b9de",
   "metadata": {},
   "outputs": [
    {
     "name": "stdout",
     "output_type": "stream",
     "text": [
      "{'f0': [0, 1, 19, 17, 6, 4, 7, 5, 2, 9, 3, 11, 12, 13, 14, 15, 16, 20, 18, 21, 10, 8, 22, 23], 'f1': [18, 16, 2, 3, 4, 5, 6, 7, 8, 0, 10, 1, 13, 15, 12, 14, 22, 17, 23, 19, 20, 21, 11, 9], 'r0': [0, 5, 2, 7, 4, 21, 6, 23, 10, 8, 11, 9, 3, 13, 1, 15, 16, 17, 18, 19, 20, 14, 22, 12], 'r1': [4, 1, 6, 3, 20, 5, 22, 7, 8, 9, 10, 11, 12, 2, 14, 0, 17, 19, 16, 18, 15, 21, 13, 23], 'd0': [0, 1, 2, 3, 4, 5, 18, 19, 8, 9, 6, 7, 12, 13, 10, 11, 16, 17, 14, 15, 22, 20, 23, 21], 'd1': [1, 3, 0, 2, 16, 17, 6, 7, 4, 5, 10, 11, 8, 9, 14, 15, 12, 13, 18, 19, 20, 21, 22, 23]}\n"
     ]
    }
   ],
   "source": [
    "print(allowed_moves)"
   ]
  },
  {
   "cell_type": "code",
   "execution_count": 16,
   "id": "33eb8bad",
   "metadata": {},
   "outputs": [
    {
     "data": {
      "text/plain": [
       "dict_keys(['f0', 'f1', 'r0', 'r1', 'd0', 'd1'])"
      ]
     },
     "execution_count": 16,
     "metadata": {},
     "output_type": "execute_result"
    }
   ],
   "source": [
    "allowed_moves.keys()"
   ]
  },
  {
   "cell_type": "code",
   "execution_count": 17,
   "id": "b7db2c79",
   "metadata": {},
   "outputs": [
    {
     "data": {
      "text/plain": [
       "0      318\n",
       "2       34\n",
       "4       14\n",
       "6       10\n",
       "8        7\n",
       "10       4\n",
       "16       3\n",
       "18       2\n",
       "42       1\n",
       "34       1\n",
       "38       1\n",
       "54       1\n",
       "176      1\n",
       "12       1\n",
       "Name: num_wildcards, dtype: int64"
      ]
     },
     "execution_count": 17,
     "metadata": {},
     "output_type": "execute_result"
    }
   ],
   "source": [
    "path[\"num_wildcards\"].value_counts()"
   ]
  },
  {
   "cell_type": "code",
   "execution_count": 18,
   "id": "ac0b1538",
   "metadata": {},
   "outputs": [
    {
     "data": {
      "text/plain": [
       "'A;A;A;A;B;B;B;B;C;C;C;C;D;D;D;D;E;E;E;E;F;F;F;F'"
      ]
     },
     "execution_count": 18,
     "metadata": {},
     "output_type": "execute_result"
    }
   ],
   "source": [
    "path.at[0,\"solution_state\"]"
   ]
  },
  {
   "cell_type": "code",
   "execution_count": 19,
   "id": "9d41616c",
   "metadata": {},
   "outputs": [
    {
     "data": {
      "text/plain": [
       "'D;E;D;A;E;B;A;B;C;A;C;A;D;C;D;F;F;F;E;E;B;F;B;C'"
      ]
     },
     "execution_count": 19,
     "metadata": {},
     "output_type": "execute_result"
    }
   ],
   "source": [
    "path.at[0,\"initial_state\"]"
   ]
  },
  {
   "cell_type": "code",
   "execution_count": 45,
   "id": "30616812",
   "metadata": {},
   "outputs": [
    {
     "data": {
      "text/plain": [
       "24"
      ]
     },
     "execution_count": 45,
     "metadata": {},
     "output_type": "execute_result"
    }
   ],
   "source": [
    "len(path.at[0,\"initial_state\"].split(\";\"))"
   ]
  },
  {
   "cell_type": "code",
   "execution_count": 44,
   "id": "2beb2a2c",
   "metadata": {},
   "outputs": [
    {
     "data": {
      "text/plain": [
       "24"
      ]
     },
     "execution_count": 44,
     "metadata": {},
     "output_type": "execute_result"
    }
   ],
   "source": [
    "len(path.at[0,\"solution_state\"].split(\";\"))"
   ]
  },
  {
   "cell_type": "code",
   "execution_count": 20,
   "id": "a52f5e24",
   "metadata": {},
   "outputs": [
    {
     "data": {
      "text/html": [
       "<div>\n",
       "<style scoped>\n",
       "    .dataframe tbody tr th:only-of-type {\n",
       "        vertical-align: middle;\n",
       "    }\n",
       "\n",
       "    .dataframe tbody tr th {\n",
       "        vertical-align: top;\n",
       "    }\n",
       "\n",
       "    .dataframe thead th {\n",
       "        text-align: right;\n",
       "    }\n",
       "</style>\n",
       "<table border=\"1\" class=\"dataframe\">\n",
       "  <thead>\n",
       "    <tr style=\"text-align: right;\">\n",
       "      <th></th>\n",
       "      <th>id</th>\n",
       "      <th>moves</th>\n",
       "    </tr>\n",
       "  </thead>\n",
       "  <tbody>\n",
       "    <tr>\n",
       "      <th>0</th>\n",
       "      <td>0</td>\n",
       "      <td>r1.-f1</td>\n",
       "    </tr>\n",
       "    <tr>\n",
       "      <th>1</th>\n",
       "      <td>1</td>\n",
       "      <td>f1.d0.-r0.-f1.-d0.-f1.d0.-r0.f0.-f1.-r0.f1.-d1...</td>\n",
       "    </tr>\n",
       "    <tr>\n",
       "      <th>2</th>\n",
       "      <td>2</td>\n",
       "      <td>f1.d0.-d1.r0.-d1.-f0.f1.-r0.-f0.-r1.-f0.r0.-d0...</td>\n",
       "    </tr>\n",
       "    <tr>\n",
       "      <th>3</th>\n",
       "      <td>3</td>\n",
       "      <td>-f0.-r0.-f0.-d0.-f0.f1.r0.-d1.-r0.-r1.-r0.-f1....</td>\n",
       "    </tr>\n",
       "    <tr>\n",
       "      <th>4</th>\n",
       "      <td>4</td>\n",
       "      <td>d1.-f1.d1.r1.-f0.d1.-d0.-r1.d1.d1.-f1.d1.-d0.-...</td>\n",
       "    </tr>\n",
       "    <tr>\n",
       "      <th>...</th>\n",
       "      <td>...</td>\n",
       "      <td>...</td>\n",
       "    </tr>\n",
       "    <tr>\n",
       "      <th>393</th>\n",
       "      <td>393</td>\n",
       "      <td>f19.f21.-f39.f20.f2.-f5.f7.-r3.f55.-f12.f65.-f...</td>\n",
       "    </tr>\n",
       "    <tr>\n",
       "      <th>394</th>\n",
       "      <td>394</td>\n",
       "      <td>-f31.-f22.f16.-f17.-f13.-f24.-f14.f2.f21.f44.f...</td>\n",
       "    </tr>\n",
       "    <tr>\n",
       "      <th>395</th>\n",
       "      <td>395</td>\n",
       "      <td>-r0.-f42.-f8.f16.-f49.f14.-f1.f56.f26.f35.f62....</td>\n",
       "    </tr>\n",
       "    <tr>\n",
       "      <th>396</th>\n",
       "      <td>396</td>\n",
       "      <td>f25.-f29.f46.f49.-f8.f27.f26.-f20.f2.-f20.f6.f...</td>\n",
       "    </tr>\n",
       "    <tr>\n",
       "      <th>397</th>\n",
       "      <td>397</td>\n",
       "      <td>-r1.f23.-f24.-r2.f30.f30.f38.-f19.f24.f19.f18....</td>\n",
       "    </tr>\n",
       "  </tbody>\n",
       "</table>\n",
       "<p>398 rows × 2 columns</p>\n",
       "</div>"
      ],
      "text/plain": [
       "      id                                              moves\n",
       "0      0                                             r1.-f1\n",
       "1      1  f1.d0.-r0.-f1.-d0.-f1.d0.-r0.f0.-f1.-r0.f1.-d1...\n",
       "2      2  f1.d0.-d1.r0.-d1.-f0.f1.-r0.-f0.-r1.-f0.r0.-d0...\n",
       "3      3  -f0.-r0.-f0.-d0.-f0.f1.r0.-d1.-r0.-r1.-r0.-f1....\n",
       "4      4  d1.-f1.d1.r1.-f0.d1.-d0.-r1.d1.d1.-f1.d1.-d0.-...\n",
       "..   ...                                                ...\n",
       "393  393  f19.f21.-f39.f20.f2.-f5.f7.-r3.f55.-f12.f65.-f...\n",
       "394  394  -f31.-f22.f16.-f17.-f13.-f24.-f14.f2.f21.f44.f...\n",
       "395  395  -r0.-f42.-f8.f16.-f49.f14.-f1.f56.f26.f35.f62....\n",
       "396  396  f25.-f29.f46.f49.-f8.f27.f26.-f20.f2.-f20.f6.f...\n",
       "397  397  -r1.f23.-f24.-r2.f30.f30.f38.-f19.f24.f19.f18....\n",
       "\n",
       "[398 rows x 2 columns]"
      ]
     },
     "execution_count": 20,
     "metadata": {},
     "output_type": "execute_result"
    }
   ],
   "source": [
    "sub"
   ]
  },
  {
   "cell_type": "markdown",
   "id": "c2013c74",
   "metadata": {},
   "source": [
    "- `allowed_moves`: 許される動き。逆動作もOK。各移動は[配列形式](https://docs.sympy.org/latest/modules/combinatorics/permutations.html)で与えられた順列。\n",
    "- `*_state`: 色の配置\n",
    "- `num_wildcards`: 間違えていい数\n",
    "- `moves`: 動作を`.`で繋ぐ。逆動作は`-`をつける"
   ]
  },
  {
   "cell_type": "markdown",
   "id": "3550814b",
   "metadata": {},
   "source": [
    "# permutation理解"
   ]
  },
  {
   "cell_type": "code",
   "execution_count": 21,
   "id": "bada90d7",
   "metadata": {},
   "outputs": [
    {
     "data": {
      "text/latex": [
       "$\\displaystyle \\left( 1\\; 2\\right)$"
      ],
      "text/plain": [
       "Permutation(1, 2)"
      ]
     },
     "execution_count": 21,
     "metadata": {},
     "output_type": "execute_result"
    }
   ],
   "source": [
    "p = Permutation([0, 2, 1])\n",
    "p"
   ]
  },
  {
   "cell_type": "code",
   "execution_count": 22,
   "id": "e647e1a4",
   "metadata": {},
   "outputs": [
    {
     "data": {
      "text/plain": [
       "[0, 2, 1]"
      ]
     },
     "execution_count": 22,
     "metadata": {},
     "output_type": "execute_result"
    }
   ],
   "source": [
    "[i^p for i in range(p.size)]"
   ]
  },
  {
   "cell_type": "code",
   "execution_count": 25,
   "id": "9c44ee9b",
   "metadata": {},
   "outputs": [
    {
     "data": {
      "text/plain": [
       "1"
      ]
     },
     "execution_count": 25,
     "metadata": {},
     "output_type": "execute_result"
    }
   ],
   "source": [
    "# mapping 2 to p[2]\n",
    "2^p"
   ]
  },
  {
   "cell_type": "code",
   "execution_count": 26,
   "id": "11521df3",
   "metadata": {},
   "outputs": [
    {
     "data": {
      "text/plain": [
       "1"
      ]
     },
     "execution_count": 26,
     "metadata": {},
     "output_type": "execute_result"
    }
   ],
   "source": [
    "# mapping 2 to p[2]\n",
    "p(2)"
   ]
  },
  {
   "cell_type": "code",
   "execution_count": 27,
   "id": "913cd999",
   "metadata": {},
   "outputs": [
    {
     "data": {
      "text/latex": [
       "$\\displaystyle \\left( 0\\; 1\\; 3\\right)$"
      ],
      "text/plain": [
       "Permutation(0, 1, 3)"
      ]
     },
     "execution_count": 27,
     "metadata": {},
     "output_type": "execute_result"
    }
   ],
   "source": [
    "# ループされる順序だけが表示される\n",
    "# 要素数1は表示されない\n",
    "Permutation([1, 3, 2, 0])"
   ]
  },
  {
   "cell_type": "code",
   "execution_count": 31,
   "id": "784b7b3f",
   "metadata": {},
   "outputs": [
    {
     "data": {
      "text/latex": [
       "$\\displaystyle \\left( 0\\; 1\\; 3\\right)$"
      ],
      "text/plain": [
       "Permutation(0, 1, 3)"
      ]
     },
     "execution_count": 31,
     "metadata": {},
     "output_type": "execute_result"
    }
   ],
   "source": [
    "Permutation(0,1,3)"
   ]
  },
  {
   "cell_type": "code",
   "execution_count": 32,
   "id": "4830ce6e",
   "metadata": {},
   "outputs": [
    {
     "data": {
      "text/latex": [
       "$\\displaystyle \\left( 1\\; 2\\right)\\left( 3\\; 5\\right)$"
      ],
      "text/plain": [
       "Permutation(1, 2)(3, 5)"
      ]
     },
     "execution_count": 32,
     "metadata": {},
     "output_type": "execute_result"
    }
   ],
   "source": [
    "Permutation(1, 2)(3, 5)"
   ]
  },
  {
   "cell_type": "code",
   "execution_count": 35,
   "id": "76e9bfd6",
   "metadata": {},
   "outputs": [
    {
     "data": {
      "text/latex": [
       "$\\displaystyle \\left( 1\\; 3\\right)$"
      ],
      "text/plain": [
       "Permutation(1, 3)"
      ]
     },
     "execution_count": 35,
     "metadata": {},
     "output_type": "execute_result"
    }
   ],
   "source": [
    "Permutation(1, 2)(1, 3)(2, 3)"
   ]
  },
  {
   "cell_type": "code",
   "execution_count": 37,
   "id": "0c795329",
   "metadata": {},
   "outputs": [
    {
     "data": {
      "text/plain": [
       "[0, 3, 2, 1]"
      ]
     },
     "execution_count": 37,
     "metadata": {},
     "output_type": "execute_result"
    }
   ],
   "source": [
    "Permutation(1, 2)(1, 3)(2, 3).list()"
   ]
  },
  {
   "cell_type": "code",
   "execution_count": 36,
   "id": "4dac2f5c",
   "metadata": {},
   "outputs": [
    {
     "data": {
      "text/latex": [
       "$\\displaystyle \\left( 1\\; 3\\right)$"
      ],
      "text/plain": [
       "Permutation(1, 3)"
      ]
     },
     "execution_count": 36,
     "metadata": {},
     "output_type": "execute_result"
    }
   ],
   "source": [
    "Permutation([0, 3, 2, 1])"
   ]
  },
  {
   "cell_type": "markdown",
   "id": "b6f03477",
   "metadata": {},
   "source": [
    "# 考える"
   ]
  },
  {
   "cell_type": "code",
   "execution_count": 47,
   "id": "a2719afc",
   "metadata": {},
   "outputs": [],
   "source": [
    "p = './santa-2023/'\n",
    "puzzles = pd.read_csv(p+'puzzles.csv')\n",
    "puzzle_info = pd.read_csv(p+'puzzle_info.csv')\n",
    "sample_submission = pd.read_csv(p+'sample_submission.csv')"
   ]
  },
  {
   "cell_type": "code",
   "execution_count": 51,
   "id": "a114e896",
   "metadata": {},
   "outputs": [
    {
     "data": {
      "text/html": [
       "<div>\n",
       "<style scoped>\n",
       "    .dataframe tbody tr th:only-of-type {\n",
       "        vertical-align: middle;\n",
       "    }\n",
       "\n",
       "    .dataframe tbody tr th {\n",
       "        vertical-align: top;\n",
       "    }\n",
       "\n",
       "    .dataframe thead th {\n",
       "        text-align: right;\n",
       "    }\n",
       "</style>\n",
       "<table border=\"1\" class=\"dataframe\">\n",
       "  <thead>\n",
       "    <tr style=\"text-align: right;\">\n",
       "      <th></th>\n",
       "      <th>id</th>\n",
       "      <th>puzzle_type</th>\n",
       "      <th>solution_state</th>\n",
       "      <th>initial_state</th>\n",
       "      <th>num_wildcards</th>\n",
       "      <th>allowed_moves</th>\n",
       "    </tr>\n",
       "  </thead>\n",
       "  <tbody>\n",
       "    <tr>\n",
       "      <th>0</th>\n",
       "      <td>0</td>\n",
       "      <td>cube_2/2/2</td>\n",
       "      <td>A;A;A;A;B;B;B;B;C;C;C;C;D;D;D;D;E;E;E;E;F;F;F;F</td>\n",
       "      <td>D;E;D;A;E;B;A;B;C;A;C;A;D;C;D;F;F;F;E;E;B;F;B;C</td>\n",
       "      <td>0</td>\n",
       "      <td>{'f0': [0, 1, 19, 17, 6, 4, 7, 5, 2, 9, 3, 11,...</td>\n",
       "    </tr>\n",
       "    <tr>\n",
       "      <th>1</th>\n",
       "      <td>1</td>\n",
       "      <td>cube_2/2/2</td>\n",
       "      <td>A;A;A;A;B;B;B;B;C;C;C;C;D;D;D;D;E;E;E;E;F;F;F;F</td>\n",
       "      <td>D;E;C;B;B;E;F;A;F;D;B;F;F;E;B;D;A;A;C;D;C;E;A;C</td>\n",
       "      <td>0</td>\n",
       "      <td>{'f0': [0, 1, 19, 17, 6, 4, 7, 5, 2, 9, 3, 11,...</td>\n",
       "    </tr>\n",
       "    <tr>\n",
       "      <th>2</th>\n",
       "      <td>2</td>\n",
       "      <td>cube_2/2/2</td>\n",
       "      <td>A;A;A;A;B;B;B;B;C;C;C;C;D;D;D;D;E;E;E;E;F;F;F;F</td>\n",
       "      <td>E;F;C;C;F;A;D;D;B;B;A;F;E;B;C;A;A;B;D;F;E;E;C;D</td>\n",
       "      <td>0</td>\n",
       "      <td>{'f0': [0, 1, 19, 17, 6, 4, 7, 5, 2, 9, 3, 11,...</td>\n",
       "    </tr>\n",
       "    <tr>\n",
       "      <th>3</th>\n",
       "      <td>3</td>\n",
       "      <td>cube_2/2/2</td>\n",
       "      <td>A;A;A;A;B;B;B;B;C;C;C;C;D;D;D;D;E;E;E;E;F;F;F;F</td>\n",
       "      <td>A;C;E;C;F;D;E;D;A;A;F;A;B;D;B;F;E;D;B;F;B;C;C;E</td>\n",
       "      <td>0</td>\n",
       "      <td>{'f0': [0, 1, 19, 17, 6, 4, 7, 5, 2, 9, 3, 11,...</td>\n",
       "    </tr>\n",
       "    <tr>\n",
       "      <th>4</th>\n",
       "      <td>4</td>\n",
       "      <td>cube_2/2/2</td>\n",
       "      <td>A;A;A;A;B;B;B;B;C;C;C;C;D;D;D;D;E;E;E;E;F;F;F;F</td>\n",
       "      <td>E;D;E;D;A;E;F;B;A;C;F;D;F;D;C;A;F;B;C;C;B;E;B;A</td>\n",
       "      <td>0</td>\n",
       "      <td>{'f0': [0, 1, 19, 17, 6, 4, 7, 5, 2, 9, 3, 11,...</td>\n",
       "    </tr>\n",
       "    <tr>\n",
       "      <th>...</th>\n",
       "      <td>...</td>\n",
       "      <td>...</td>\n",
       "      <td>...</td>\n",
       "      <td>...</td>\n",
       "      <td>...</td>\n",
       "      <td>...</td>\n",
       "    </tr>\n",
       "    <tr>\n",
       "      <th>393</th>\n",
       "      <td>393</td>\n",
       "      <td>globe_33/3</td>\n",
       "      <td>A;A;A;A;A;A;C;C;C;C;C;C;E;E;E;E;E;E;G;G;G;G;G;...</td>\n",
       "      <td>D;D;L;A;P;E;R;U;U;C;S;R;J;B;E;G;O;J;F;Q;R;E;D;...</td>\n",
       "      <td>0</td>\n",
       "      <td>{'r0': [1, 2, 3, 4, 5, 6, 7, 8, 9, 10, 11, 12,...</td>\n",
       "    </tr>\n",
       "    <tr>\n",
       "      <th>394</th>\n",
       "      <td>394</td>\n",
       "      <td>globe_33/3</td>\n",
       "      <td>A;A;A;A;A;A;C;C;C;C;C;C;E;E;E;E;E;E;G;G;G;G;G;...</td>\n",
       "      <td>V;L;N;G;B;V;R;E;H;A;K;S;I;N;G;E;V;C;L;G;S;M;P;...</td>\n",
       "      <td>0</td>\n",
       "      <td>{'r0': [1, 2, 3, 4, 5, 6, 7, 8, 9, 10, 11, 12,...</td>\n",
       "    </tr>\n",
       "    <tr>\n",
       "      <th>395</th>\n",
       "      <td>395</td>\n",
       "      <td>globe_33/3</td>\n",
       "      <td>N0;N1;N2;N3;N4;N5;N6;N7;N8;N9;N10;N11;N12;N13;...</td>\n",
       "      <td>N12;N219;N227;N198;N4;N208;N214;N245;N56;N55;N...</td>\n",
       "      <td>0</td>\n",
       "      <td>{'r0': [1, 2, 3, 4, 5, 6, 7, 8, 9, 10, 11, 12,...</td>\n",
       "    </tr>\n",
       "    <tr>\n",
       "      <th>396</th>\n",
       "      <td>396</td>\n",
       "      <td>globe_8/25</td>\n",
       "      <td>A;A;A;A;A;D;D;D;D;D;G;G;G;G;G;J;J;J;J;J;M;M;M;...</td>\n",
       "      <td>V;P;F;L;P;X;O;A;J;b;V;Y;D;Y;C;X;J;F;U;G;d;L;b;...</td>\n",
       "      <td>0</td>\n",
       "      <td>{'r0': [1, 2, 3, 4, 5, 6, 7, 8, 9, 10, 11, 12,...</td>\n",
       "    </tr>\n",
       "    <tr>\n",
       "      <th>397</th>\n",
       "      <td>397</td>\n",
       "      <td>globe_8/25</td>\n",
       "      <td>A;A;A;A;A;D;D;D;D;D;G;G;G;G;G;J;J;J;J;J;M;M;M;...</td>\n",
       "      <td>V;O;a;I;a;F;C;D;C;d;I;O;U;F;F;G;L;I;Y;Y;X;X;a;...</td>\n",
       "      <td>0</td>\n",
       "      <td>{'r0': [1, 2, 3, 4, 5, 6, 7, 8, 9, 10, 11, 12,...</td>\n",
       "    </tr>\n",
       "  </tbody>\n",
       "</table>\n",
       "<p>398 rows × 6 columns</p>\n",
       "</div>"
      ],
      "text/plain": [
       "      id puzzle_type                                     solution_state  \\\n",
       "0      0  cube_2/2/2    A;A;A;A;B;B;B;B;C;C;C;C;D;D;D;D;E;E;E;E;F;F;F;F   \n",
       "1      1  cube_2/2/2    A;A;A;A;B;B;B;B;C;C;C;C;D;D;D;D;E;E;E;E;F;F;F;F   \n",
       "2      2  cube_2/2/2    A;A;A;A;B;B;B;B;C;C;C;C;D;D;D;D;E;E;E;E;F;F;F;F   \n",
       "3      3  cube_2/2/2    A;A;A;A;B;B;B;B;C;C;C;C;D;D;D;D;E;E;E;E;F;F;F;F   \n",
       "4      4  cube_2/2/2    A;A;A;A;B;B;B;B;C;C;C;C;D;D;D;D;E;E;E;E;F;F;F;F   \n",
       "..   ...         ...                                                ...   \n",
       "393  393  globe_33/3  A;A;A;A;A;A;C;C;C;C;C;C;E;E;E;E;E;E;G;G;G;G;G;...   \n",
       "394  394  globe_33/3  A;A;A;A;A;A;C;C;C;C;C;C;E;E;E;E;E;E;G;G;G;G;G;...   \n",
       "395  395  globe_33/3  N0;N1;N2;N3;N4;N5;N6;N7;N8;N9;N10;N11;N12;N13;...   \n",
       "396  396  globe_8/25  A;A;A;A;A;D;D;D;D;D;G;G;G;G;G;J;J;J;J;J;M;M;M;...   \n",
       "397  397  globe_8/25  A;A;A;A;A;D;D;D;D;D;G;G;G;G;G;J;J;J;J;J;M;M;M;...   \n",
       "\n",
       "                                         initial_state  num_wildcards  \\\n",
       "0      D;E;D;A;E;B;A;B;C;A;C;A;D;C;D;F;F;F;E;E;B;F;B;C              0   \n",
       "1      D;E;C;B;B;E;F;A;F;D;B;F;F;E;B;D;A;A;C;D;C;E;A;C              0   \n",
       "2      E;F;C;C;F;A;D;D;B;B;A;F;E;B;C;A;A;B;D;F;E;E;C;D              0   \n",
       "3      A;C;E;C;F;D;E;D;A;A;F;A;B;D;B;F;E;D;B;F;B;C;C;E              0   \n",
       "4      E;D;E;D;A;E;F;B;A;C;F;D;F;D;C;A;F;B;C;C;B;E;B;A              0   \n",
       "..                                                 ...            ...   \n",
       "393  D;D;L;A;P;E;R;U;U;C;S;R;J;B;E;G;O;J;F;Q;R;E;D;...              0   \n",
       "394  V;L;N;G;B;V;R;E;H;A;K;S;I;N;G;E;V;C;L;G;S;M;P;...              0   \n",
       "395  N12;N219;N227;N198;N4;N208;N214;N245;N56;N55;N...              0   \n",
       "396  V;P;F;L;P;X;O;A;J;b;V;Y;D;Y;C;X;J;F;U;G;d;L;b;...              0   \n",
       "397  V;O;a;I;a;F;C;D;C;d;I;O;U;F;F;G;L;I;Y;Y;X;X;a;...              0   \n",
       "\n",
       "                                         allowed_moves  \n",
       "0    {'f0': [0, 1, 19, 17, 6, 4, 7, 5, 2, 9, 3, 11,...  \n",
       "1    {'f0': [0, 1, 19, 17, 6, 4, 7, 5, 2, 9, 3, 11,...  \n",
       "2    {'f0': [0, 1, 19, 17, 6, 4, 7, 5, 2, 9, 3, 11,...  \n",
       "3    {'f0': [0, 1, 19, 17, 6, 4, 7, 5, 2, 9, 3, 11,...  \n",
       "4    {'f0': [0, 1, 19, 17, 6, 4, 7, 5, 2, 9, 3, 11,...  \n",
       "..                                                 ...  \n",
       "393  {'r0': [1, 2, 3, 4, 5, 6, 7, 8, 9, 10, 11, 12,...  \n",
       "394  {'r0': [1, 2, 3, 4, 5, 6, 7, 8, 9, 10, 11, 12,...  \n",
       "395  {'r0': [1, 2, 3, 4, 5, 6, 7, 8, 9, 10, 11, 12,...  \n",
       "396  {'r0': [1, 2, 3, 4, 5, 6, 7, 8, 9, 10, 11, 12,...  \n",
       "397  {'r0': [1, 2, 3, 4, 5, 6, 7, 8, 9, 10, 11, 12,...  \n",
       "\n",
       "[398 rows x 6 columns]"
      ]
     },
     "execution_count": 51,
     "metadata": {},
     "output_type": "execute_result"
    }
   ],
   "source": [
    "df=puzzles.merge(puzzle_info, on=\"puzzle_type\")\n",
    "df"
   ]
  },
  {
   "cell_type": "code",
   "execution_count": 70,
   "id": "2c002b50",
   "metadata": {},
   "outputs": [],
   "source": [
    "df[\"initial_state\"]=df[\"initial_state\"].str.split(\";\")"
   ]
  },
  {
   "cell_type": "code",
   "execution_count": 58,
   "id": "fc5bc146",
   "metadata": {},
   "outputs": [],
   "source": [
    "df[\"solution_state\"]=df[\"solution_state\"].str.split(\";\")"
   ]
  },
  {
   "cell_type": "code",
   "execution_count": 59,
   "id": "b1b857c4",
   "metadata": {},
   "outputs": [],
   "source": [
    "df[\"state_length\"]=df[\"solution_state\"].map(len)"
   ]
  },
  {
   "cell_type": "code",
   "execution_count": 55,
   "id": "e6c94dc2",
   "metadata": {},
   "outputs": [],
   "source": [
    "df[\"allowed_moves\"]=df[\"allowed_moves\"].map(eval)"
   ]
  },
  {
   "cell_type": "code",
   "execution_count": 60,
   "id": "96de7020",
   "metadata": {},
   "outputs": [],
   "source": [
    "df[\"allowed_action_num\"]=df[\"allowed_moves\"].map(len)"
   ]
  },
  {
   "cell_type": "code",
   "execution_count": 66,
   "id": "2bcbe5f9",
   "metadata": {},
   "outputs": [],
   "source": [
    "df[\"perm_length\"]=df[\"allowed_moves\"].map(lambda x: len(list(x.values())[0]))"
   ]
  },
  {
   "cell_type": "code",
   "execution_count": 68,
   "id": "f0070901",
   "metadata": {},
   "outputs": [
    {
     "data": {
      "text/plain": [
       "True"
      ]
     },
     "execution_count": 68,
     "metadata": {},
     "output_type": "execute_result"
    }
   ],
   "source": [
    "(df[\"state_length\"]==df[\"perm_length\"]).all()"
   ]
  },
  {
   "cell_type": "code",
   "execution_count": 91,
   "id": "43789502",
   "metadata": {},
   "outputs": [],
   "source": [
    "from pathlib import Path\n",
    "output_dir = Path(f\"./data\")\n",
    "output_dir.mkdir(parents=True, exist_ok=True)\n",
    "for i, row in df.iterrows():\n",
    "    with open(output_dir / f\"{row['id']}.txt\", \"w\") as f:\n",
    "        f.write(f'{row[\"puzzle_type\"]}\\n')\n",
    "        f.write(f'{row[\"state_length\"]}\\n')\n",
    "        f.write(f'{\" \".join(row[\"initial_state\"])}\\n')\n",
    "        f.write(f'{\" \".join(row[\"solution_state\"])}\\n')\n",
    "        f.write(f'{row[\"allowed_action_num\"]}\\n')\n",
    "        for k,v in row[\"allowed_moves\"].items():\n",
    "            f.write(f\"{k} {' '.join(map(str,v))}\\n\")\n",
    "        f.write(f'{row[\"num_wildcards\"]}\\n')"
   ]
  },
  {
   "cell_type": "code",
   "execution_count": null,
   "id": "08655361",
   "metadata": {},
   "outputs": [],
   "source": []
  }
 ],
 "metadata": {
  "kernelspec": {
   "display_name": "Python 3 (ipykernel)",
   "language": "python",
   "name": "python3"
  },
  "language_info": {
   "codemirror_mode": {
    "name": "ipython",
    "version": 3
   },
   "file_extension": ".py",
   "mimetype": "text/x-python",
   "name": "python",
   "nbconvert_exporter": "python",
   "pygments_lexer": "ipython3",
   "version": "3.9.13"
  }
 },
 "nbformat": 4,
 "nbformat_minor": 5
}
