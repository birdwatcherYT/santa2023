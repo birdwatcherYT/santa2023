{
 "cells": [
  {
   "cell_type": "code",
   "execution_count": 88,
   "id": "4eefa0db-a6a8-4e7a-bba0-a7329bca893f",
   "metadata": {},
   "outputs": [],
   "source": [
    "import pandas as pd\n",
    "import numpy as np\n",
    "from sympy.combinatorics import Permutation\n",
    "import subprocess\n",
    "\n",
    "p = 'santa-2023/'\n",
    "path = pd.read_csv(p + 'puzzles.csv')\n",
    "info = pd.read_csv(p + 'puzzle_info.csv')\n",
    "sub = pd.read_csv(p+'sample_submission.csv')\n",
    "\n",
    "info['allowed_moves_count'] = info['allowed_moves'].map(lambda x: {k: Permutation(v) for k, v in eval(x).items()})\n",
    "paths = pd.merge(path, info, how='left', on='puzzle_type')\n",
    "paths = pd.merge(paths, sub, how='left', on='id')"
   ]
  },
  {
   "cell_type": "code",
   "execution_count": 89,
   "id": "b2b33215-fdda-4c7f-9907-7df4d4367667",
   "metadata": {},
   "outputs": [],
   "source": [
    "def do_action(state: list[str], action_id: str, allowed_moves: dict[str, list[int]]):\n",
    "    s=state.copy()\n",
    "    if action_id[0]==\"-\":\n",
    "        action = allowed_moves[action_id[1:]]\n",
    "        for i,a in enumerate(action):\n",
    "            s[a]=state[i]\n",
    "    else:\n",
    "        action = allowed_moves[action_id]\n",
    "        for i,a in enumerate(action):\n",
    "            s[i]=state[a]\n",
    "    return s\n",
    "\n",
    "def simulate(state: str, actions: str, allowed_moves: str):\n",
    "    s=state.split(\";\")\n",
    "    allowed=eval(allowed_moves)\n",
    "    for a in actions.split(\".\"):\n",
    "        s = do_action(s, a, allowed)\n",
    "    return \";\".join(s)\n",
    "\n",
    "def simulate_inverse(state: str, actions: str, allowed_moves: str):\n",
    "    s=state.split(\";\")\n",
    "    allowed=eval(allowed_moves)\n",
    "    for a in reversed(actions.split(\".\")):\n",
    "        if a[0]==\"-\":\n",
    "            s = do_action(s, a[1:], allowed)\n",
    "        else:\n",
    "            s = do_action(s, f\"-{a}\", allowed)\n",
    "    return \";\".join(s)"
   ]
  },
  {
   "cell_type": "code",
   "execution_count": 90,
   "id": "ccc9d47a-253c-46b1-972d-c90dd3599508",
   "metadata": {},
   "outputs": [],
   "source": [
    "# https://github.com/dwalton76/rubiks-cube-NxNxN-solver/tree/master\n",
    "\n",
    "# git clone https://github.com/dwalton76/rubiks-cube-NxNxN-solver.git\n",
    "# cd rubiks-cube-NxNxN-solver\n",
    "# make init\n",
    "# pip install kociemba"
   ]
  },
  {
   "cell_type": "code",
   "execution_count": 112,
   "id": "8a40e6d8-500e-4a2b-845b-559c4bb86b25",
   "metadata": {},
   "outputs": [],
   "source": [
    "# N=2\n",
    "# N=3\n",
    "# N=4\n",
    "N=5\n",
    "# N=6\n",
    "# N=7\n",
    "# N=8\n",
    "# N=9\n",
    "# N=10\n",
    "# N=19\n",
    "# N=33\n",
    "\n",
    "NN=N*N"
   ]
  },
  {
   "cell_type": "code",
   "execution_count": 113,
   "id": "ea427640-c955-48ba-984a-cfac4484704c",
   "metadata": {},
   "outputs": [],
   "source": [
    "# org = \"ABCDEF\"\n",
    "# import itertools\n",
    "# org\n",
    "# p = itertools.permutations(org)\n",
    "# for a in p:\n",
    "#     dct=dict(zip(a, \"URFDLB\"))\n",
    "#     print(dct)\n",
    "    \n",
    "#     row=paths.loc[130]\n",
    "#     id = row['id']\n",
    "#     cur_state = row['initial_state']\n",
    "#     print(cur_state)\n",
    "#     input_state=state2ubl(cur_state)\n",
    "#     print(id, input_state)\n",
    "\n",
    "#     result=subprocess.run(f\"python ./rubiks-cube-NxNxN-solver/rubiks-cube-solver.py --state {input_state}\", shell=True, capture_output=True)\n",
    "#     output=result.stdout.decode()\n",
    "#     if not output.startswith(\"Solution: \"):\n",
    "#         print(\"Fail!\", output, result.stderr.decode())\n",
    "#         continue\n",
    "#     sol=output.replace(\"Solution: \",\"\").replace(\"\\n\",\"\")\n",
    "#     print(sol)\n",
    "#     print(\"find!!\")\n",
    "#     break"
   ]
  },
  {
   "cell_type": "code",
   "execution_count": 114,
   "id": "be5d762e-47bb-4c83-a053-46bb216b911c",
   "metadata": {},
   "outputs": [
    {
     "data": {
      "text/plain": [
       "{'A': 'U', 'C': 'R', 'B': 'F', 'F': 'D', 'E': 'L', 'D': 'B'}"
      ]
     },
     "execution_count": 114,
     "metadata": {},
     "output_type": "execute_result"
    }
   ],
   "source": [
    "# \"ACBDEF\"\n",
    "# \"URFDLB\"\n",
    "# s=\"ABCDEF\"\n",
    "# s[0] + s[2] + s[1] + s[5] + s[4] + s[3]\n",
    "dct=dict(zip(\"ACBFED\", \"URFDLB\"))\n",
    "dct"
   ]
  },
  {
   "cell_type": "code",
   "execution_count": 115,
   "id": "0064e782-5aff-4398-a33e-039b70a7e758",
   "metadata": {},
   "outputs": [],
   "source": [
    "def state2ubl(state):\n",
    "\n",
    "    # dct = {}\n",
    "    # for i,u in enumerate(U):\n",
    "    #     dct[state.split(';')[4+i*NN]] = u\n",
    "    # print(dct)\n",
    "    s = ''.join([dct[f] for f in state.split(';')])\n",
    "    \n",
    "    return s[:NN] + s[2*NN:3*NN] + s[NN:2*NN] + s[5*NN:] + s[4*NN:5*NN] + s[3*NN:4*NN]"
   ]
  },
  {
   "cell_type": "code",
   "execution_count": 116,
   "id": "4b687275-c476-429c-aa87-0b94d6a51538",
   "metadata": {},
   "outputs": [
    {
     "data": {
      "text/plain": [
       "dict_keys(['f0', 'f1', 'f2', 'f3', 'f4', 'r0', 'r1', 'r2', 'r3', 'r4', 'd0', 'd1', 'd2', 'd3', 'd4'])"
      ]
     },
     "execution_count": 116,
     "metadata": {},
     "output_type": "execute_result"
    }
   ],
   "source": [
    "eval(info.loc[info['puzzle_type'] == f'cube_{N}/{N}/{N}']['allowed_moves'].values[0]).keys()"
   ]
  },
  {
   "cell_type": "code",
   "execution_count": 117,
   "id": "94169000-0af2-47a9-8538-d507a60eeee5",
   "metadata": {
    "scrolled": true
   },
   "outputs": [
    {
     "data": {
      "text/plain": [
       "{'U': '-d4',\n",
       " 'R': 'r0',\n",
       " 'B': '-f4',\n",
       " 'F': 'f0',\n",
       " 'L': '-r4',\n",
       " 'D': 'd0',\n",
       " 'Uw': '-d4.-d3',\n",
       " 'Rw': 'r0.r1',\n",
       " 'Bw': '-f4.-f3',\n",
       " 'Fw': 'f0.f1',\n",
       " 'Lw': '-r4.-r3',\n",
       " 'Dw': 'd0.d1',\n",
       " '2Uw': '-d4.-d3',\n",
       " '2Rw': 'r0.r1',\n",
       " '2Bw': '-f4.-f3',\n",
       " '2Fw': 'f0.f1',\n",
       " '2Lw': '-r4.-r3',\n",
       " '2Dw': 'd0.d1',\n",
       " '3Uw': '-d4.-d3.-d2',\n",
       " '3Rw': 'r0.r1.r2',\n",
       " '3Bw': '-f4.-f3.-f2',\n",
       " '3Fw': 'f0.f1.f2',\n",
       " '3Lw': '-r4.-r3.-r2',\n",
       " '3Dw': 'd0.d1.d2',\n",
       " '4Uw': '-d4.-d3.-d2.-d1',\n",
       " '4Rw': 'r0.r1.r2.r3',\n",
       " '4Bw': '-f4.-f3.-f2.-f1',\n",
       " '4Fw': 'f0.f1.f2.f3',\n",
       " '4Lw': '-r4.-r3.-r2.-r1',\n",
       " '4Dw': 'd0.d1.d2.d3',\n",
       " 'U2': '-d4.-d4',\n",
       " \"U'\": 'd4',\n",
       " 'R2': 'r0.r0',\n",
       " \"R'\": '-r0',\n",
       " 'B2': '-f4.-f4',\n",
       " \"B'\": 'f4',\n",
       " 'F2': 'f0.f0',\n",
       " \"F'\": '-f0',\n",
       " 'L2': '-r4.-r4',\n",
       " \"L'\": 'r4',\n",
       " 'D2': 'd0.d0',\n",
       " \"D'\": '-d0',\n",
       " 'Uw2': '-d4.-d3.-d4.-d3',\n",
       " \"Uw'\": 'd4.d3',\n",
       " 'Rw2': 'r0.r1.r0.r1',\n",
       " \"Rw'\": '-r0.-r1',\n",
       " 'Bw2': '-f4.-f3.-f4.-f3',\n",
       " \"Bw'\": 'f4.f3',\n",
       " 'Fw2': 'f0.f1.f0.f1',\n",
       " \"Fw'\": '-f0.-f1',\n",
       " 'Lw2': '-r4.-r3.-r4.-r3',\n",
       " \"Lw'\": 'r4.r3',\n",
       " 'Dw2': 'd0.d1.d0.d1',\n",
       " \"Dw'\": '-d0.-d1',\n",
       " '2Uw2': '-d4.-d3.-d4.-d3',\n",
       " \"2Uw'\": 'd4.d3',\n",
       " '2Rw2': 'r0.r1.r0.r1',\n",
       " \"2Rw'\": '-r0.-r1',\n",
       " '2Bw2': '-f4.-f3.-f4.-f3',\n",
       " \"2Bw'\": 'f4.f3',\n",
       " '2Fw2': 'f0.f1.f0.f1',\n",
       " \"2Fw'\": '-f0.-f1',\n",
       " '2Lw2': '-r4.-r3.-r4.-r3',\n",
       " \"2Lw'\": 'r4.r3',\n",
       " '2Dw2': 'd0.d1.d0.d1',\n",
       " \"2Dw'\": '-d0.-d1',\n",
       " '3Uw2': '-d4.-d3.-d2.-d4.-d3.-d2',\n",
       " \"3Uw'\": 'd4.d3.d2',\n",
       " '3Rw2': 'r0.r1.r2.r0.r1.r2',\n",
       " \"3Rw'\": '-r0.-r1.-r2',\n",
       " '3Bw2': '-f4.-f3.-f2.-f4.-f3.-f2',\n",
       " \"3Bw'\": 'f4.f3.f2',\n",
       " '3Fw2': 'f0.f1.f2.f0.f1.f2',\n",
       " \"3Fw'\": '-f0.-f1.-f2',\n",
       " '3Lw2': '-r4.-r3.-r2.-r4.-r3.-r2',\n",
       " \"3Lw'\": 'r4.r3.r2',\n",
       " '3Dw2': 'd0.d1.d2.d0.d1.d2',\n",
       " \"3Dw'\": '-d0.-d1.-d2',\n",
       " '4Uw2': '-d4.-d3.-d2.-d1.-d4.-d3.-d2.-d1',\n",
       " \"4Uw'\": 'd4.d3.d2.d1',\n",
       " '4Rw2': 'r0.r1.r2.r3.r0.r1.r2.r3',\n",
       " \"4Rw'\": '-r0.-r1.-r2.-r3',\n",
       " '4Bw2': '-f4.-f3.-f2.-f1.-f4.-f3.-f2.-f1',\n",
       " \"4Bw'\": 'f4.f3.f2.f1',\n",
       " '4Fw2': 'f0.f1.f2.f3.f0.f1.f2.f3',\n",
       " \"4Fw'\": '-f0.-f1.-f2.-f3',\n",
       " '4Lw2': '-r4.-r3.-r2.-r1.-r4.-r3.-r2.-r1',\n",
       " \"4Lw'\": 'r4.r3.r2.r1',\n",
       " '4Dw2': 'd0.d1.d2.d3.d0.d1.d2.d3',\n",
       " \"4Dw'\": '-d0.-d1.-d2.-d3'}"
      ]
     },
     "execution_count": 117,
     "metadata": {},
     "output_type": "execute_result"
    }
   ],
   "source": [
    "moves = eval(info.loc[info['puzzle_type'] == f'cube_{N}/{N}/{N}']['allowed_moves'].values[0])\n",
    "for move in list(moves):\n",
    "    moves['-'+move] = np.argsort(moves[move]).tolist()\n",
    "\n",
    "# TODO: 本質的に使わない操作が存在する？\n",
    "# 他を回すと自分を固定する\n",
    "# https://github.com/dwalton76/rubiks-cube-NxNxN-solver/tree/master/rubikscubennnsolver\n",
    "M = {}\n",
    "M[\"U\"] = f'-d{N-1}'\n",
    "M[\"R\"] = \"r0\"\n",
    "M[\"B\"] = f\"-f{N-1}\"\n",
    "M[\"F\"] = \"f0\"\n",
    "M[\"L\"] = f\"-r{N-1}\"\n",
    "M[\"D\"] = \"d0\"\n",
    "# if N>=4:\n",
    "M[\"Uw\"] = f'-d{N-1}.-d{N-2}'\n",
    "M[\"Rw\"] = \"r0.r1\"\n",
    "M[\"Bw\"] = f\"-f{N-1}.-f{N-2}\"\n",
    "M[\"Fw\"] = \"f0.f1\"\n",
    "M[\"Lw\"] = f\"-r{N-1}.-r{N-2}\"\n",
    "M[\"Dw\"] = \"d0.d1\"\n",
    "# if N>=6:\n",
    "#     M[\"2Uw\"] = f'-d{N-1}.-d{N-2}'\n",
    "#     M[\"2Rw\"] = \"r0.r1\"\n",
    "#     M[\"2Bw\"] = f\"-f{N-1}.-f{N-2}\"\n",
    "#     M[\"2Fw\"] = \"f0.f1\"\n",
    "#     M[\"2Lw\"] = f\"-r{N-1}.-r{N-2}\"\n",
    "#     M[\"2Dw\"] = \"d0.d1\"\n",
    "#     M[\"3Uw\"] = f'-d{N-1}.-d{N-2}.-d{N-3}'\n",
    "#     M[\"3Rw\"] = \"r0.r1.r2\"\n",
    "#     M[\"3Bw\"] = f\"-f{N-1}.-f{N-2}.-f{N-3}\"\n",
    "#     M[\"3Fw\"] = \"f0.f1.f2\"\n",
    "#     M[\"3Lw\"] = f\"-r{N-1}.-r{N-2}.-r{N-3}\"\n",
    "#     M[\"3Dw\"] = \"d0.d1.d2\"\n",
    "for i in range(2, N):\n",
    "    M[f\"{i}Uw\"] = \".\".join([f\"-d{N-1-k}\" for k in range(i)])\n",
    "    M[f\"{i}Rw\"] = \".\".join([f\"r{k}\" for k in range(i)])\n",
    "    M[f\"{i}Bw\"] = \".\".join([f\"-f{N-1-k}\" for k in range(i)])\n",
    "    M[f\"{i}Fw\"] = \".\".join([f\"f{k}\" for k in range(i)])\n",
    "    M[f\"{i}Lw\"] = \".\".join([f\"-r{N-1-k}\" for k in range(i)])\n",
    "    M[f\"{i}Dw\"] = \".\".join([f\"d{k}\" for k in range(i)])\n",
    "    \n",
    "for m in list(M):\n",
    "    M[m+\"2\"] = M[m] + '.' + M[m]\n",
    "    if \"-\" in M[m]:\n",
    "        M[m+\"'\"] = M[m].replace(\"-\",\"\")\n",
    "    else:\n",
    "        # M[m+\"'\"] = \"-\"+M[m]\n",
    "        M[m+\"'\"] = \"-\"+\".-\".join(M[m].split(\".\"))\n",
    "M"
   ]
  },
  {
   "cell_type": "code",
   "execution_count": 118,
   "id": "4a3c18d1-ef1a-4ab5-8bcf-b4e3c6bc7891",
   "metadata": {},
   "outputs": [],
   "source": [
    "# paths.loc[paths['puzzle_type'] == 'cube_3/3/3'].head()\n",
    "# paths.loc[paths['puzzle_type'] == 'cube_4/4/4'].head()\n",
    "# paths.loc[paths['puzzle_type'] == 'cube_5/5/5'].head()\n",
    "# paths.loc[paths['puzzle_type'] == 'cube_6/6/6'].head()\n",
    "# paths.loc[paths['puzzle_type'] == 'cube_7/7/7'].head()\n",
    "# paths.loc[paths['puzzle_type'] == 'cube_33/33/33'].head()"
   ]
  },
  {
   "cell_type": "code",
   "execution_count": 98,
   "id": "88442865-2d23-4171-9095-b46f070bf810",
   "metadata": {},
   "outputs": [
    {
     "data": {
      "text/plain": [
       "'RUBUFFDBULLULUUDDDFRBURDUBFFLLRBFDFLFBRBDRBDLRLUFLDBRR'"
      ]
     },
     "execution_count": 98,
     "metadata": {},
     "output_type": "execute_result"
    }
   ],
   "source": [
    "# http://aym.pekori.to/rubik/pattern-01.html\n",
    "input_state=simulate_inverse(\n",
    "    paths.loc[30, \"solution_state\"], ## 普通の解\n",
    "    paths.loc[130, \"moves\"],\n",
    "    paths.loc[130, \"allowed_moves\"],\n",
    ")\n",
    "# paths.loc[130, \"initial_state\"]\n",
    "input_state=state2ubl(input_state)\n",
    "input_state"
   ]
  },
  {
   "cell_type": "code",
   "execution_count": 652,
   "id": "3c9f011a-cf20-439b-acc3-34840905c01a",
   "metadata": {},
   "outputs": [
    {
     "name": "stdout",
     "output_type": "stream",
     "text": [
      "A;D;D;B;E;B;B;E;D;F;C;B;F;F;F;F;E;D;A;D;F;A;A;D;E;C;D;E;C;B;C;B;C;B;C;F;D;B;C;B;B;E;E;A;B;E;E;A;D;B;A;A;D;E;A;A;F;E;F;E;F;E;E;D;E;E;F;A;A;A;C;F;C;A;D;D;A;C;E;B;F;C;D;E;F;D;C;D;F;A;E;C;B;F;D;C;D;B;C;E;C;C;B;C;D;B;B;C;D;A;C;A;C;B;E;F;E;B;C;A;F;F;B;B;F;B;B;D;F;F;C;D;A;D;C;A;F;A;F;F;B;C;A;A;E;D;D;E;E;A\n",
      "210 UBBFLFFLBDRFDDDDLBUBDUUBLUUBLUUDLDLDLLBLLDUUURDRUBRBLRFRFRFRDBFRFFLLUFLLUBFFFBDDRBUBRUDUDDFRUULBBLLURRFRBFFRBURURFLDLFRUDDFFDBURLFDRBLDBRBDULRFDBRBFRL\n"
     ]
    }
   ],
   "source": [
    "i=0\n",
    "\n",
    "row=paths.loc[paths['puzzle_type'] == f'cube_{N}/{N}/{N}'].iloc[i]\n",
    "id = row['id']\n",
    "cur_state = row['initial_state']\n",
    "print(cur_state)\n",
    "input_state=state2ubl(cur_state)\n",
    "print(id, input_state)"
   ]
  },
  {
   "cell_type": "code",
   "execution_count": 653,
   "id": "98b08ca5-72bc-407e-9540-671e24ba8820",
   "metadata": {},
   "outputs": [],
   "source": [
    "# input_state=state2ubl(paths.loc[130, \"solution_state\"])\n",
    "# input_state"
   ]
  },
  {
   "cell_type": "code",
   "execution_count": 638,
   "id": "db326f91-2cfa-4ea3-9ecc-d8b366cd32ed",
   "metadata": {},
   "outputs": [
    {
     "data": {
      "text/plain": [
       "\"D U' B' L B' U2 R U' L F U L2 U2 R2 F2 U R2 B2 U F2\""
      ]
     },
     "execution_count": 638,
     "metadata": {},
     "output_type": "execute_result"
    }
   ],
   "source": [
    "result=subprocess.run(f\"python ./rubiks-cube-NxNxN-solver/rubiks-cube-solver.py --state {input_state}\", shell=True, capture_output=True)\n",
    "output=result.stdout.decode()\n",
    "if not output.startswith(\"Solution: \"):\n",
    "    print(\"Fail!\", output, result.stderr.decode())\n",
    "sol=output.replace(\"Solution: \",\"\").replace(\"\\n\",\"\")\n",
    "sol"
   ]
  },
  {
   "cell_type": "code",
   "execution_count": 639,
   "id": "260ba4d9-95a3-4574-a421-9d23fa9cf259",
   "metadata": {},
   "outputs": [
    {
     "data": {
      "text/plain": [
       "'d0.d2.f2.-r2.f2.-d2.-d2.r0.d2.-r2.f0.-d2.-r2.-r2.-d2.-d2.r0.r0.f0.f0.-d2.r0.r0.-f2.-f2.-d2.f0.f0'"
      ]
     },
     "execution_count": 639,
     "metadata": {},
     "output_type": "execute_result"
    }
   ],
   "source": [
    "mmoves = '.'.join([M[m] for m in sol.split(' ')])\n",
    "mmoves"
   ]
  },
  {
   "cell_type": "code",
   "execution_count": 640,
   "id": "9d95e045-c423-4ea7-a12d-b3e20b2f336c",
   "metadata": {},
   "outputs": [
    {
     "data": {
      "text/plain": [
       "'C;E;B;A;B;C;E;C;D;A;B;F;D;C;A;F;F;A;E;F;E;C;A;D;D;C;B;F;F;B;A;E;B;A;F;D;F;E;B;D;F;E;A;B;D;C;B;C;E;D;D;E;A;C'"
      ]
     },
     "execution_count": 640,
     "metadata": {},
     "output_type": "execute_result"
    }
   ],
   "source": [
    "# simulate_inverse(\n",
    "simulate(\n",
    "    paths.loc[130, \"initial_state\"], ## 普通の解\n",
    "    mmoves,\n",
    "    paths.loc[130, \"allowed_moves\"],\n",
    ")"
   ]
  },
  {
   "cell_type": "code",
   "execution_count": 641,
   "id": "50ddecce-0329-41a2-a313-b784748e6b84",
   "metadata": {},
   "outputs": [],
   "source": [
    "I = [\".\".join([f\"r{i}\"for i in range(N)]), \".\".join([f\"d{i}\"for i in range(N)]), \".\".join([f\"f{i}\"for i in range(N)])]\n",
    "for init_moves in [''] + I + [i1 + '.' + i2 for i1 in I for i2 in I]+ [i1 + '.' + i2+ '.' + i3 for i1 in I for i2 in I for i3 in I]+ [i1 + '.' + i2+ '.' + i3 + '.' + i4 for i1 in I for i2 in I for i3 in I for i4 in I]:\n",
    "    if simulate(\n",
    "        paths.loc[130, \"initial_state\"],\n",
    "        mmoves+(\".\"+init_moves if init_moves else \"\"),\n",
    "        paths.loc[130, \"allowed_moves\"],\n",
    "    )==paths.loc[130, \"solution_state\"]:\n",
    "        print(mmoves+\".\"+init_moves)"
   ]
  },
  {
   "cell_type": "code",
   "execution_count": 451,
   "id": "10c9651e-3b74-42ca-9ba7-1f22e9ac499e",
   "metadata": {},
   "outputs": [],
   "source": [
    "# https://github.com/dwalton76/rubiks-cube-NxNxN-solver?tab=readme-ov-file\n",
    "# sol=\"D U' B' L B' U2 R U' L F U L2 U2 R2 F2 U R2 B2 U F2\"\n",
    "# sol=\"D' L2 Bw2 Rw' D Fw' D' Rw2 U Bw2 D B L Dw2 Rw' L2 U' F D2 Dw2 Rw2 F' L2 D' Bw2 Lw2 D2 F2 R2 D' Lw2 U L D B2 L' D L B' D2 F' R2 B2 D R2 U2 R2 D2 B2 L2 D'\""
   ]
  },
  {
   "cell_type": "code",
   "execution_count": 452,
   "id": "62e4b2d0-732e-41b0-b151-bb37755e4e44",
   "metadata": {},
   "outputs": [
    {
     "name": "stdout",
     "output_type": "stream",
     "text": [
      "solved id: 277\n",
      "improved: new length 15067 vs current length 24419\n"
     ]
    }
   ],
   "source": [
    "new_state = cur_state\n",
    "mmoves = '.'.join([M[m] for m in sol.split(' ')])\n",
    "\n",
    "for move in mmoves.split('.'):\n",
    "    new_state = ';'.join(list(np.asarray(new_state.split(';'))[np.array(moves[move])]))\n",
    "\n",
    "# I = ['r0.r1.r2','d0.d1.d2','f0.f1.f2']\n",
    "I = [\".\".join([f\"r{i}\"for i in range(N)]), \".\".join([f\"d{i}\"for i in range(N)]), \".\".join([f\"f{i}\"for i in range(N)])]\n",
    "for init_moves in [''] + I + [i1 + '.' + i2 for i1 in I for i2 in I]+ [i1 + '.' + i2+ '.' + i3 for i1 in I for i2 in I for i3 in I]+ [i1 + '.' + i2+ '.' + i3 + '.' + i4 for i1 in I for i2 in I for i3 in I for i4 in I]:\n",
    "    temp_state = new_state\n",
    "    if len(init_moves) > 0:\n",
    "        for move in init_moves.split('.'):\n",
    "            temp_state = ';'.join(list(np.asarray(temp_state.split(';'))[np.array(moves[move])]))\n",
    "\n",
    "    if temp_state == row['solution_state']:\n",
    "        print(f'solved id: {id}')\n",
    "        if len(init_moves) > 0:\n",
    "            mmoves += '.' + init_moves\n",
    "        if len(paths.iloc[id,7].split('.')) > len(mmoves.split('.')):\n",
    "            print(f\"improved: new length {len(mmoves.split('.'))} vs current length {len(paths.iloc[id,7].split('.'))}\")\n",
    "            paths.iloc[id,7] = mmoves\n",
    "        break\n"
   ]
  },
  {
   "cell_type": "code",
   "execution_count": null,
   "id": "e4849c13-e04c-4f9e-8c06-b14e3bf5bf67",
   "metadata": {},
   "outputs": [],
   "source": []
  },
  {
   "cell_type": "markdown",
   "id": "1a552704-42fd-47ed-aea5-f6a6f7b009c4",
   "metadata": {},
   "source": [
    "# まとめて解く"
   ]
  },
  {
   "cell_type": "code",
   "execution_count": 662,
   "id": "bec9fb35-3218-42be-aaf5-87bf66d0a488",
   "metadata": {},
   "outputs": [
    {
     "name": "stdout",
     "output_type": "stream",
     "text": [
      "------------------------------\n",
      "150 FUUURFRDURUBDBLURDLRUULRFLLFRUBLBRUFDUFRUFDRRBUDDLRBDFLFLBDDLLBFDDBLLDBRDBRLUDFFBBFLFBUBLDRFURFB\n",
      "solved D' L2 Bw2 Rw' D Fw' D' Rw2 U Bw2 D B L Dw2 Rw' L2 U' F D2 Dw2 Rw2 F' L2 D' Bw2 Lw2 D2 F2 R2 D' Lw2 U L D B2 L' D L B' D2 F' R2 B2 D R2 U2 R2 D2 B2 L2 D'\n",
      "solved id: 150\n",
      "improved: new length 98 vs current length 700\n",
      "------------------------------\n",
      "151 DUURLBFBFBFLLUBFUBRFLRRULUDRDURRBBDRBUBFULDBDDFBBLDRFFDRDDRDFFDBLDUUFULRFRULUBLLDLBFFLBDULFRURRL\n",
      "solved Rw' Bw Rw B2 Dw' R2 F' Dw2 Rw' B2 U Rw' U2 Rw' Uw2 F L2 U' Bw2 U' F Dw2 B2 Bw2 D' F2 Fw2 B2 Lw2 R2 D Rw2 L2 D' L F L2 F L' F B' R U2 B2 U L2 F2 D2 R2 F2 U L2\n",
      "solved id: 151\n",
      "improved: new length 102 vs current length 610\n",
      "------------------------------\n",
      "152 RRDBDUBLUDBLFDUUFFDURFLLDLUBLLFBRBLLRLDDRRFFUBUDLLFFFURDUDLULRRRFFRDUFBBBBRUBBLBRRBUURUBDFDLDFFD\n",
      "solved Dw2 Rw' D R2 Uw R' Fw' F' B' Rw' Bw2 Rw' Dw2 B' L' U Rw' Rw2 D B' Uw2 D B Dw2 B2 L2 D2 R2 B2 D' F2 Fw2 U' B2 Lw2 U2 D R B' U' B' U D2 R2 F R U' R2 U L2 B2 D' B2 D2\n",
      "solved id: 152\n",
      "improved: new length 100 vs current length 498\n",
      "------------------------------\n",
      "153 FRUFLULLFLFLDFBBUDFRFRUFFDFDDUFRLRULLFRUDBRRBRDRLBRFBBLRDUULDRUBLUUFDBDBLBDBBFLDULBUDRFRBDLDUBUR\n",
      "solved Dw2 B' Rw' D Bw' Rw' Fw' B' R' Dw2 R' D' Bw2 U' F B2 Lw' R2 F' Uw2 F' Rw2 U' F Dw2 D F2 Lw2 Bw2 U B2 Lw2 F2 L2 D Lw2 U R' L B U F2 B R' D R F R2 L2 U' F2 U R2 B2 U R2 D\n",
      "solved id: 153\n",
      "improved: new length 105 vs current length 593\n",
      "------------------------------\n",
      "154 LLFDLLBFDDRDBRRFLBUFUFRRLBFLUBDDUFUUUFLLBUUDFLURUURBDLBULDLFFLUBDDBLRBFBRRDRDFFRLRBBBRUDBDUDRFFR\n",
      "solved R2 F' Uw' Rw2 Fw' B2 Rw' F Dw2 Rw' F R2 B2 Lw' D Rw2 B' Uw2 L2 B' Uw2 B2 U' Lw2 U F2 U2 L2 R2 D' Lw2 U' B L2 U2 B' U F2 D R' B' D2 L2 D' R2 L2 B2 U L2 D' R2\n",
      "solved id: 154\n",
      "improved: new length 97 vs current length 665\n",
      "------------------------------\n",
      "155 RRDRFLBUURUDULDDFBBUFUUFDRBRFFLRLFLRBDLUBLFFLBBLURLDRDLLUUFDDBDBBRLBUBBLRFRULRBFFFDDUDFLFDRUURDB\n",
      "solved Dw2 Rw' Bw' U' D' Fw' R2 D Rw U2 L2 U' Rw Dw2 Rw' R2 Uw2 D F R2 B' Uw2 D' Bw2 D B2 L2 Lw2 U' L2 U' R2 Fw2 U D' F' L2 B' U F2 U2 R U L' U2 R2 L2 U F2 R2 D' L2 D R2\n",
      "solved id: 155\n",
      "improved: new length 100 vs current length 544\n",
      "------------------------------\n",
      "156 UUFRDBUDFLRULLDDRFRFBRLUBUFDFBBLFBFBBFBLULLDULLRFFDULBFDRBUULRLUBRRDURDRURFBBUDLDRLRRDDLFUDFBFBD\n"
     ]
    },
    {
     "ename": "KeyboardInterrupt",
     "evalue": "",
     "output_type": "error",
     "traceback": [
      "\u001b[0;31m---------------------------------------------------------------------------\u001b[0m",
      "\u001b[0;31mKeyboardInterrupt\u001b[0m                         Traceback (most recent call last)",
      "Cell \u001b[0;32mIn[662], line 10\u001b[0m\n\u001b[1;32m      7\u001b[0m \u001b[38;5;28mprint\u001b[39m(\u001b[38;5;124m\"\u001b[39m\u001b[38;5;124m-\u001b[39m\u001b[38;5;124m\"\u001b[39m\u001b[38;5;241m*\u001b[39m\u001b[38;5;241m30\u001b[39m)\n\u001b[1;32m      8\u001b[0m \u001b[38;5;28mprint\u001b[39m(\u001b[38;5;28mid\u001b[39m, problem)\n\u001b[0;32m---> 10\u001b[0m result\u001b[38;5;241m=\u001b[39m\u001b[43msubprocess\u001b[49m\u001b[38;5;241;43m.\u001b[39;49m\u001b[43mrun\u001b[49m\u001b[43m(\u001b[49m\u001b[38;5;124;43mf\u001b[39;49m\u001b[38;5;124;43m\"\u001b[39;49m\u001b[38;5;124;43mpython ./rubiks-cube-NxNxN-solver/rubiks-cube-solver.py --state \u001b[39;49m\u001b[38;5;132;43;01m{\u001b[39;49;00m\u001b[43mproblem\u001b[49m\u001b[38;5;132;43;01m}\u001b[39;49;00m\u001b[38;5;124;43m\"\u001b[39;49m\u001b[43m,\u001b[49m\u001b[43m \u001b[49m\u001b[43mshell\u001b[49m\u001b[38;5;241;43m=\u001b[39;49m\u001b[38;5;28;43;01mTrue\u001b[39;49;00m\u001b[43m,\u001b[49m\u001b[43m \u001b[49m\u001b[43mcapture_output\u001b[49m\u001b[38;5;241;43m=\u001b[39;49m\u001b[38;5;28;43;01mTrue\u001b[39;49;00m\u001b[43m)\u001b[49m\n\u001b[1;32m     11\u001b[0m output\u001b[38;5;241m=\u001b[39mresult\u001b[38;5;241m.\u001b[39mstdout\u001b[38;5;241m.\u001b[39mdecode()\n\u001b[1;32m     12\u001b[0m \u001b[38;5;28;01mif\u001b[39;00m \u001b[38;5;129;01mnot\u001b[39;00m output\u001b[38;5;241m.\u001b[39mstartswith(\u001b[38;5;124m\"\u001b[39m\u001b[38;5;124mSolution: \u001b[39m\u001b[38;5;124m\"\u001b[39m):\n",
      "File \u001b[0;32m~/.pyenv/versions/3.9.17/lib/python3.9/subprocess.py:507\u001b[0m, in \u001b[0;36mrun\u001b[0;34m(input, capture_output, timeout, check, *popenargs, **kwargs)\u001b[0m\n\u001b[1;32m    505\u001b[0m \u001b[38;5;28;01mwith\u001b[39;00m Popen(\u001b[38;5;241m*\u001b[39mpopenargs, \u001b[38;5;241m*\u001b[39m\u001b[38;5;241m*\u001b[39mkwargs) \u001b[38;5;28;01mas\u001b[39;00m process:\n\u001b[1;32m    506\u001b[0m     \u001b[38;5;28;01mtry\u001b[39;00m:\n\u001b[0;32m--> 507\u001b[0m         stdout, stderr \u001b[38;5;241m=\u001b[39m \u001b[43mprocess\u001b[49m\u001b[38;5;241;43m.\u001b[39;49m\u001b[43mcommunicate\u001b[49m\u001b[43m(\u001b[49m\u001b[38;5;28;43minput\u001b[39;49m\u001b[43m,\u001b[49m\u001b[43m \u001b[49m\u001b[43mtimeout\u001b[49m\u001b[38;5;241;43m=\u001b[39;49m\u001b[43mtimeout\u001b[49m\u001b[43m)\u001b[49m\n\u001b[1;32m    508\u001b[0m     \u001b[38;5;28;01mexcept\u001b[39;00m TimeoutExpired \u001b[38;5;28;01mas\u001b[39;00m exc:\n\u001b[1;32m    509\u001b[0m         process\u001b[38;5;241m.\u001b[39mkill()\n",
      "File \u001b[0;32m~/.pyenv/versions/3.9.17/lib/python3.9/subprocess.py:1134\u001b[0m, in \u001b[0;36mPopen.communicate\u001b[0;34m(self, input, timeout)\u001b[0m\n\u001b[1;32m   1131\u001b[0m     endtime \u001b[38;5;241m=\u001b[39m \u001b[38;5;28;01mNone\u001b[39;00m\n\u001b[1;32m   1133\u001b[0m \u001b[38;5;28;01mtry\u001b[39;00m:\n\u001b[0;32m-> 1134\u001b[0m     stdout, stderr \u001b[38;5;241m=\u001b[39m \u001b[38;5;28;43mself\u001b[39;49m\u001b[38;5;241;43m.\u001b[39;49m\u001b[43m_communicate\u001b[49m\u001b[43m(\u001b[49m\u001b[38;5;28;43minput\u001b[39;49m\u001b[43m,\u001b[49m\u001b[43m \u001b[49m\u001b[43mendtime\u001b[49m\u001b[43m,\u001b[49m\u001b[43m \u001b[49m\u001b[43mtimeout\u001b[49m\u001b[43m)\u001b[49m\n\u001b[1;32m   1135\u001b[0m \u001b[38;5;28;01mexcept\u001b[39;00m \u001b[38;5;167;01mKeyboardInterrupt\u001b[39;00m:\n\u001b[1;32m   1136\u001b[0m     \u001b[38;5;66;03m# https://bugs.python.org/issue25942\u001b[39;00m\n\u001b[1;32m   1137\u001b[0m     \u001b[38;5;66;03m# See the detailed comment in .wait().\u001b[39;00m\n\u001b[1;32m   1138\u001b[0m     \u001b[38;5;28;01mif\u001b[39;00m timeout \u001b[38;5;129;01mis\u001b[39;00m \u001b[38;5;129;01mnot\u001b[39;00m \u001b[38;5;28;01mNone\u001b[39;00m:\n",
      "File \u001b[0;32m~/.pyenv/versions/3.9.17/lib/python3.9/subprocess.py:1995\u001b[0m, in \u001b[0;36mPopen._communicate\u001b[0;34m(self, input, endtime, orig_timeout)\u001b[0m\n\u001b[1;32m   1988\u001b[0m     \u001b[38;5;28mself\u001b[39m\u001b[38;5;241m.\u001b[39m_check_timeout(endtime, orig_timeout,\n\u001b[1;32m   1989\u001b[0m                         stdout, stderr,\n\u001b[1;32m   1990\u001b[0m                         skip_check_and_raise\u001b[38;5;241m=\u001b[39m\u001b[38;5;28;01mTrue\u001b[39;00m)\n\u001b[1;32m   1991\u001b[0m     \u001b[38;5;28;01mraise\u001b[39;00m \u001b[38;5;167;01mRuntimeError\u001b[39;00m(  \u001b[38;5;66;03m# Impossible :)\u001b[39;00m\n\u001b[1;32m   1992\u001b[0m         \u001b[38;5;124m'\u001b[39m\u001b[38;5;124m_check_timeout(..., skip_check_and_raise=True) \u001b[39m\u001b[38;5;124m'\u001b[39m\n\u001b[1;32m   1993\u001b[0m         \u001b[38;5;124m'\u001b[39m\u001b[38;5;124mfailed to raise TimeoutExpired.\u001b[39m\u001b[38;5;124m'\u001b[39m)\n\u001b[0;32m-> 1995\u001b[0m ready \u001b[38;5;241m=\u001b[39m \u001b[43mselector\u001b[49m\u001b[38;5;241;43m.\u001b[39;49m\u001b[43mselect\u001b[49m\u001b[43m(\u001b[49m\u001b[43mtimeout\u001b[49m\u001b[43m)\u001b[49m\n\u001b[1;32m   1996\u001b[0m \u001b[38;5;28mself\u001b[39m\u001b[38;5;241m.\u001b[39m_check_timeout(endtime, orig_timeout, stdout, stderr)\n\u001b[1;32m   1998\u001b[0m \u001b[38;5;66;03m# XXX Rewrite these to use non-blocking I/O on the file\u001b[39;00m\n\u001b[1;32m   1999\u001b[0m \u001b[38;5;66;03m# objects; they are no longer using C stdio!\u001b[39;00m\n",
      "File \u001b[0;32m~/.pyenv/versions/3.9.17/lib/python3.9/selectors.py:416\u001b[0m, in \u001b[0;36m_PollLikeSelector.select\u001b[0;34m(self, timeout)\u001b[0m\n\u001b[1;32m    414\u001b[0m ready \u001b[38;5;241m=\u001b[39m []\n\u001b[1;32m    415\u001b[0m \u001b[38;5;28;01mtry\u001b[39;00m:\n\u001b[0;32m--> 416\u001b[0m     fd_event_list \u001b[38;5;241m=\u001b[39m \u001b[38;5;28;43mself\u001b[39;49m\u001b[38;5;241;43m.\u001b[39;49m\u001b[43m_selector\u001b[49m\u001b[38;5;241;43m.\u001b[39;49m\u001b[43mpoll\u001b[49m\u001b[43m(\u001b[49m\u001b[43mtimeout\u001b[49m\u001b[43m)\u001b[49m\n\u001b[1;32m    417\u001b[0m \u001b[38;5;28;01mexcept\u001b[39;00m \u001b[38;5;167;01mInterruptedError\u001b[39;00m:\n\u001b[1;32m    418\u001b[0m     \u001b[38;5;28;01mreturn\u001b[39;00m ready\n",
      "\u001b[0;31mKeyboardInterrupt\u001b[0m: "
     ]
    }
   ],
   "source": [
    "import subprocess\n",
    "\n",
    "for i, row in paths.loc[paths['puzzle_type'] == f'cube_{N}/{N}/{N}'].iterrows():\n",
    "    id = row['id']\n",
    "    cur_state = row['initial_state']\n",
    "    problem=state2ubl(cur_state)\n",
    "    print(\"-\"*30)\n",
    "    print(id, problem)\n",
    "\n",
    "    result=subprocess.run(f\"python ./rubiks-cube-NxNxN-solver/rubiks-cube-solver.py --state {problem}\", shell=True, capture_output=True)\n",
    "    output=result.stdout.decode()\n",
    "    if not output.startswith(\"Solution: \"):\n",
    "        print(\"Fail!\", output, result.stderr.decode())\n",
    "        continue\n",
    "    sol=output.replace(\"Solution: \",\"\").replace(\"\\n\",\"\")\n",
    "    print(\"solved\", sol)\n",
    "\n",
    "    new_state = cur_state\n",
    "    mmoves = '.'.join([M[m] for m in sol.split(' ')])\n",
    "    \n",
    "    for move in mmoves.split('.'):\n",
    "        new_state = ';'.join(list(np.asarray(new_state.split(';'))[np.array(moves[move])]))\n",
    "    \n",
    "    I = [\".\".join([f\"r{i}\"for i in range(N)]), \".\".join([f\"d{i}\"for i in range(N)]), \".\".join([f\"f{i}\"for i in range(N)])]\n",
    "    for init_moves in [''] + I + [i1 + '.' + i2 for i1 in I for i2 in I]+ [i1 + '.' + i2+ '.' + i3 for i1 in I for i2 in I for i3 in I]+ [i1 + '.' + i2+ '.' + i3 + '.' + i4 for i1 in I for i2 in I for i3 in I for i4 in I]:\n",
    "        temp_state = new_state\n",
    "        if len(init_moves) > 0:\n",
    "            for move in init_moves.split('.'):\n",
    "                temp_state = ';'.join(list(np.asarray(temp_state.split(';'))[np.array(moves[move])]))\n",
    "    \n",
    "        if temp_state == row['solution_state']:\n",
    "            print(f'solved id: {id}')\n",
    "            if len(init_moves) > 0:\n",
    "                mmoves += '.' + init_moves\n",
    "            if len(paths.iloc[id,7].split('.')) > len(mmoves.split('.')):\n",
    "                print(f\"improved: new length {len(mmoves.split('.'))} vs current length {len(paths.iloc[id,7].split('.'))}\")\n",
    "                paths.iloc[id,7] = mmoves\n",
    "            break\n"
   ]
  },
  {
   "cell_type": "code",
   "execution_count": 467,
   "id": "7aac4cb2-7d60-4a7e-b170-8af3d3e4e13c",
   "metadata": {},
   "outputs": [],
   "source": [
    "paths[[\"id\", \"moves\"]].to_csv(\"solver_submit.csv\", index=None)"
   ]
  },
  {
   "cell_type": "markdown",
   "id": "7070a409-4209-456d-9c50-05c3c34a4fd7",
   "metadata": {},
   "source": [
    "# ストライプ"
   ]
  },
  {
   "cell_type": "code",
   "execution_count": 119,
   "id": "2a11c87d-83c5-48c2-8c34-4e2f9abaf1fa",
   "metadata": {},
   "outputs": [
    {
     "name": "stdout",
     "output_type": "stream",
     "text": [
      "------------------------------\n",
      "235\n",
      "sol Uw' Bw L' Uw2 Bw' Lw2 Fw2 Dw Lw B Uw' U' Bw2 R' Uw2 R2 Fw' Uw2 L Bw' D2 Uw2 B U2 Rw2 Fw2 L' F' L D' Fw2 R' D2 L D2 Fw2 D2 R Fw2 L2 Dw2 B2 R' Uw2 Bw2 D R2 D' Rw2 U2 Bw2 Lw2 F2 Fw2 Rw2 D' L2 Rw2 D' Lw2 D2 U' R D B U' R D2 R' F' R' B' R2 B2 U2 F2 U2 B2 U L2 F2 U\n",
      "d4.d3.-f4.-f3.r4.-d4.-d3.-d4.-d3.f4.f3.-r4.-r3.-r4.-r3.f0.f1.f0.f1.d0.d1.-r4.-r3.-f4.d4.d3.d4.-f4.-f3.-f4.-f3.-r0.-d4.-d3.-d4.-d3.r0.r0.-f0.-f1.-d4.-d3.-d4.-d3.-r4.f4.f3.d0.d0.-d4.-d3.-d4.-d3.-f4.-d4.-d4.r0.r1.r0.r1.f0.f1.f0.f1.r4.-f0.-r4.-d0.f0.f1.f0.f1.-r0.d0.d0.-r4.d0.d0.f0.f1.f0.f1.d0.d0.r0.f0.f1.f0.f1.-r4.-r4.d0.d1.d0.d1.-f4.-f4.-r0.-d4.-d3.-d4.-d3.-f4.-f3.-f4.-f3.d0.r0.r0.-d0.r0.r1.r0.r1.-d4.-d4.-f4.-f3.-f4.-f3.-r4.-r3.-r4.-r3.f0.f0.f0.f1.f0.f1.r0.r1.r0.r1.-d0.-r4.-r4.r0.r1.r0.r1.-d0.-r4.-r3.-r4.-r3.d0.d0.d4.r0.d0.-f4.d4.r0.d0.d0.-r0.-f0.-r0.f4.r0.r0.-f4.-f4.-d4.-d4.f0.f0.-d4.-d4.-f4.-f4.-d4.-r4.-r4.f0.f0.-d4.r0.r1.r2.r3.r4.r0.r1.r2.r3.r4.d0.d1.d2.d3.d4\n",
      "improved: new length 178 vs current length 1235\n",
      "------------------------------\n",
      "236\n",
      "sol Uw2 Rw' Lw2 B2 Bw2 Dw2 Uw Lw B Fw Dw' Fw2 U' Rw' Lw2 F' Lw' D Fw2 D2 Uw2 Lw' F U2 B L B' Fw2 L' D' F' Fw2 L2 U F2 Rw2 Lw2 U' L2 U' Rw2 U Fw2 Dw2 Fw2 F2 Rw2 F Lw2 B R2 Dw2 F' U2 Lw2 Uw2 R2 U2 B2 Uw2 F Lw2 L2 B D R' U2 B' U R F U' L' B R2 B' U2 L2 R2 F D2 B2 R2\n",
      "-d4.-d3.-d4.-d3.-r0.-r1.-r4.-r3.-r4.-r3.-f4.-f4.-f4.-f3.-f4.-f3.d0.d1.d0.d1.-d4.-d3.-r4.-r3.-f4.f0.f1.-d0.-d1.f0.f1.f0.f1.d4.-r0.-r1.-r4.-r3.-r4.-r3.-f0.r4.r3.d0.f0.f1.f0.f1.d0.d0.-d4.-d3.-d4.-d3.r4.r3.f0.-d4.-d4.-f4.-r4.f4.f0.f1.f0.f1.r4.-d0.-f0.f0.f1.f0.f1.-r4.-r4.-d4.f0.f0.r0.r1.r0.r1.-r4.-r3.-r4.-r3.d4.-r4.-r4.d4.r0.r1.r0.r1.-d4.f0.f1.f0.f1.d0.d1.d0.d1.f0.f1.f0.f1.f0.f0.r0.r1.r0.r1.f0.-r4.-r3.-r4.-r3.-f4.r0.r0.d0.d1.d0.d1.-f0.-d4.-d4.-r4.-r3.-r4.-r3.-d4.-d3.-d4.-d3.r0.r0.-d4.-d4.-f4.-f4.-d4.-d3.-d4.-d3.f0.-r4.-r3.-r4.-r3.-r4.-r4.-f4.d0.-r0.-d4.-d4.f4.-d4.r0.f0.d4.r4.-f4.r0.r0.f4.-d4.-d4.-r4.-r4.r0.r0.f0.d0.d0.-f4.-f4.r0.r0.r0.r1.r2.r3.r4.f0.f1.f2.f3.f4.f0.f1.f2.f3.f4\n",
      "improved: new length 181 vs current length 1904\n",
      "------------------------------\n",
      "237\n",
      "sol Dw' Lw F' Uw' Fw' B' Rw' Fw2 L Bw' Fw2 R' Lw2 Uw' F' Rw2 Dw' B L Uw' B R2 U' L' Lw2 Dw2 R' D' B' R' D2 F' Lw2 U2 Dw2 R2 Fw2 L2 Dw2 Rw2 Uw2 F Rw2 F L' F2 L' D2 R2 Uw2 F2 Fw2 Dw2 Bw2 L2 B2 U2 R' Dw2 R D' L2 F U' B2 R2 L U2 B L2 B U2 R2 B2 D2 L U2 L U2 B2 R2\n",
      "-d0.-d1.-r4.-r3.-f0.d4.d3.-f0.-f1.f4.-r0.-r1.f0.f1.f0.f1.-r4.f4.f3.f0.f1.f0.f1.-r0.-r4.-r3.-r4.-r3.d4.d3.-f0.r0.r1.r0.r1.-d0.-d1.-f4.-r4.d4.d3.-f4.r0.r0.d4.r4.-r4.-r3.-r4.-r3.d0.d1.d0.d1.-r0.-d0.f4.-r0.d0.d0.-f0.-r4.-r3.-r4.-r3.-d4.-d4.d0.d1.d0.d1.r0.r0.f0.f1.f0.f1.-r4.-r4.d0.d1.d0.d1.r0.r1.r0.r1.-d4.-d3.-d4.-d3.f0.r0.r1.r0.r1.f0.r4.f0.f0.r4.d0.d0.r0.r0.-d4.-d3.-d4.-d3.f0.f0.f0.f1.f0.f1.d0.d1.d0.d1.-f4.-f3.-f4.-f3.-r4.-r4.-f4.-f4.-d4.-d4.-r0.d0.d1.d0.d1.r0.-d0.-r4.-r4.f0.d4.-f4.-f4.r0.r0.-r4.-d4.-d4.-f4.-r4.-r4.-f4.-d4.-d4.r0.r0.-f4.-f4.d0.d0.-r4.-d4.-d4.-r4.-d4.-d4.-f4.-f4.r0.r0.f0.f1.f2.f3.f4.f0.f1.f2.f3.f4.f0.f1.f2.f3.f4\n",
      "improved: new length 169 vs current length 1162\n",
      "------------------------------\n",
      "238\n",
      "sol L' Uw' Fw2 Dw2 Rw D' Dw' Fw' L Lw2 Bw' Uw' R' Uw' R2 Dw Uw2 B' Rw2 Uw' D' B Rw2 U' R Fw2 U' F R' U2 B Rw2 Uw2 Lw2 Bw2 R2 Rw2 Uw2 B' Dw2 F Lw2 Bw2 L' Fw2 Dw2 F2 Uw2 B2 R' F2 L' Fw2 R' D2 L Bw2 R' L2 B' D' F' U' R B D' B' R B2 D2 R' D2 L' B2 R F2\n",
      "r4.d4.d3.f0.f1.f0.f1.d0.d1.d0.d1.r0.r1.-d0.-d0.-d1.-f0.-f1.-r4.-r4.-r3.-r4.-r3.f4.f3.d4.d3.-r0.d4.d3.r0.r0.d0.d1.-d4.-d3.-d4.-d3.f4.r0.r1.r0.r1.d4.d3.-d0.-f4.r0.r1.r0.r1.d4.r0.f0.f1.f0.f1.d4.f0.-r0.-d4.-d4.-f4.r0.r1.r0.r1.-d4.-d3.-d4.-d3.-r4.-r3.-r4.-r3.-f4.-f3.-f4.-f3.r0.r0.r0.r1.r0.r1.-d4.-d3.-d4.-d3.f4.d0.d1.d0.d1.f0.-r4.-r3.-r4.-r3.-f4.-f3.-f4.-f3.r4.f0.f1.f0.f1.d0.d1.d0.d1.f0.f0.-d4.-d3.-d4.-d3.-f4.-f4.-r0.f0.f0.r4.f0.f1.f0.f1.-r0.d0.d0.-r4.-f4.-f3.-f4.-f3.-r0.-r4.-r4.f4.-d0.-f0.d4.r0.-f4.-d0.f4.r0.-f4.-f4.d0.d0.-r0.d0.d0.r4.-f4.-f4.r0.f0.f0.d0.d1.d2.d3.d4.d0.d1.d2.d3.d4.f0.f1.f2.f3.f4\n",
      "improved: new length 161 vs current length 1214\n",
      "------------------------------\n",
      "239\n",
      "sol Lw' D Dw' Bw L Fw U Rw F2 Uw' Rw2 Uw2 Fw D R Bw' Lw2 Fw2 L' Fw' F L2 F2 Rw2 U' L' Uw2 F' R U' Bw2 Dw2 U2 Lw2 B2 Dw2 B2 L2 F2 Bw2 L' Uw2 R' Lw2 B2 L2 U L2 Rw2 U Lw2 D2 R2 Bw2 D' U2 Bw2 Lw2 L2 B2 R2 D L' B R2 F2 D' B' L D' U' R2 D' R2 F2 U B2 U' B2\n",
      "r4.r3.d0.-d0.-d1.-f4.-f3.-r4.f0.f1.-d4.r0.r1.f0.f0.d4.d3.r0.r1.r0.r1.-d4.-d3.-d4.-d3.f0.f1.d0.r0.f4.f3.-r4.-r3.-r4.-r3.f0.f1.f0.f1.r4.-f0.-f1.f0.-r4.-r4.f0.f0.r0.r1.r0.r1.d4.r4.-d4.-d3.-d4.-d3.-f0.r0.d4.-f4.-f3.-f4.-f3.d0.d1.d0.d1.-d4.-d4.-r4.-r3.-r4.-r3.-f4.-f4.d0.d1.d0.d1.-f4.-f4.-r4.-r4.f0.f0.-f4.-f3.-f4.-f3.r4.-d4.-d3.-d4.-d3.-r0.-r4.-r3.-r4.-r3.-f4.-f4.-r4.-r4.-d4.-r4.-r4.r0.r1.r0.r1.-d4.-r4.-r3.-r4.-r3.d0.d0.r0.r0.-f4.-f3.-f4.-f3.-d0.-d4.-d4.-f4.-f3.-f4.-f3.-r4.-r3.-r4.-r3.-r4.-r4.-f4.-f4.r0.r0.d0.r4.-f4.r0.r0.f0.f0.-d0.f4.-r4.-d0.d4.r0.r0.-d0.r0.r0.f0.f0.-d4.-f4.-f4.d4.-f4.-f4.r0.r1.r2.r3.r4.r0.r1.r2.r3.r4.d0.d1.d2.d3.d4\n",
      "improved: new length 166 vs current length 1637\n",
      "------------------------------\n",
      "240\n",
      "sol D2 Rw2 Fw2 U2 Uw Fw Dw' B' Uw' Dw' Fw' D Fw2 Dw2 Rw' B F' Lw' U' Fw2 Lw' Fw2 D2 F U' R' Dw2 Lw2 U R' F D Lw2 Uw2 Lw2 Uw2 D2 F' D2 L2 Dw2 B L2 Uw2 Lw2 B D Rw2 D2 L2 Bw2 Lw2 F2 R2 U' Lw2 U2 Rw2 D' B2 Lw2 Fw2 U' D L' F2 D B' F L' R U B' F2 D' F2 U B2 U2 L2 U' F2 D'\n",
      "------------------------------\n",
      "241\n",
      "sol Bw2 D Dw' Lw U2 Fw Lw B2 Rw Fw' Fw2 L2 Dw' L' B' F Dw F' Uw' U' Lw2 U F' L' Bw2 D' B R R2 U2 Uw2 B D2 L2 Fw2 U2 Lw2 Uw2 B Rw2 U2 F R' Fw2 R F2 Fw2 R2 B2 Uw2 Fw2 Dw2 Bw2 R Uw2 D2 R' Dw2 U' F' D2 L' U' L2 R D' R2 B L U2 B2 F2 L2 U2 B2 L R2 D2\n",
      "------------------------------\n",
      "242\n",
      "sol Lw Bw2 Dw Rw' D2 L2 Fw' U' Lw Fw' Uw' R' Fw2 Dw2 B Uw' R' Dw' B' Uw' R' D R' Bw2 Rw2 Uw2 L B' U' D2 F' L' D2 L Uw2 Bw2 Fw2 L Fw2 Rw2 Dw2 Bw2 Dw2 Bw2 R L2 F' Rw2 U2 B Uw2 Dw2 F' Lw2 F Rw2 Lw2 Dw2 R2 F Dw2 B L D2 U2 L2 D R' U' L U' B D U2 L2 B L2 B U2 L2 B R2 B'\n",
      "------------------------------\n",
      "243\n",
      "sol F' Rw2 Bw' Uw2 Rw' Fw2 D Bw Uw Fw' Lw' Bw2 Uw2 Lw' B' Rw D Lw' F Rw' L F U' Bw2 R B2 U' Bw2 L' B' F2 D Lw2 Uw2 F2 Rw2 D' Bw2 U R2 D Fw2 Dw2 Fw2 Dw2 Uw2 L2 Lw2 F' D2 F Dw2 Rw2 F' Rw2 L2 Uw2 B D2 Lw2 B2 F D L U2 R2 B' D' U' F2 R' B U2 F R2 F D2 F' R2 F R2\n",
      "------------------------------\n",
      "244\n",
      "sol Rw2 Uw B Bw2 Rw' L Dw L2 Lw2 Fw' Fw2 Dw B' R Bw2 Dw B2 Uw' Rw2 U L Fw2 R' U' U2 F Uw2 Lw2 D2 Bw2 Fw2 R2 F2 Dw2 B2 R Uw2 L Bw2 F' Rw2 D2 B Rw2 B' R2 F' Uw2 B2 L2 Lw2 Uw2 B Lw2 D2 B D' R' B L' D2 R' U' B2 D F2 R2 L2 B' L2 F2 R2 D2 L2\n"
     ]
    }
   ],
   "source": [
    "import subprocess\n",
    "\n",
    "normal_state=paths.loc[paths['puzzle_type'] == f'cube_{N}/{N}/{N}'].iloc[0][\"solution_state\"]\n",
    "for i, row in paths.loc[paths['puzzle_type'] == f'cube_{N}/{N}/{N}'].iterrows():\n",
    "    if row[\"solution_state\"]==normal_state:\n",
    "        continue\n",
    "    id = row['id']\n",
    "    cur_state = row['initial_state']\n",
    "    print(\"-\"*30)\n",
    "    print(id)\n",
    "\n",
    "    input_state=simulate_inverse(\n",
    "        normal_state, ## 普通の解\n",
    "        row[\"moves\"],\n",
    "        row[\"allowed_moves\"],\n",
    "    )\n",
    "    input_state=state2ubl(input_state)\n",
    "    \n",
    "    result=subprocess.run(f\"python ./rubiks-cube-NxNxN-solver/rubiks-cube-solver.py --state {input_state}\", shell=True, capture_output=True)\n",
    "    output=result.stdout.decode()\n",
    "    if not output.startswith(\"Solution: \"):\n",
    "        print(\"Fail!\", output, result.stderr.decode())\n",
    "    sol=output.replace(\"Solution: \",\"\").replace(\"\\n\",\"\")\n",
    "    print(\"sol\", sol)\n",
    "    mmoves = '.'.join([M[m] for m in sol.split(' ')])\n",
    "    \n",
    "    I = [\".\".join([f\"r{i}\"for i in range(N)]), \".\".join([f\"d{i}\"for i in range(N)]), \".\".join([f\"f{i}\"for i in range(N)])]\n",
    "    for init_moves in [''] + I + [i1 + '.' + i2 for i1 in I for i2 in I]+ [i1 + '.' + i2+ '.' + i3 for i1 in I for i2 in I for i3 in I]+ [i1 + '.' + i2+ '.' + i3 + '.' + i4 for i1 in I for i2 in I for i3 in I for i4 in I]:\n",
    "        if simulate(\n",
    "            row[\"initial_state\"],\n",
    "            mmoves+(\".\"+init_moves if init_moves else \"\"),\n",
    "            row[\"allowed_moves\"],\n",
    "        )==row[\"solution_state\"]:\n",
    "            print(mmoves+\".\"+init_moves)\n",
    "            if len(paths.iloc[id,7].split('.')) > len(mmoves.split('.')):\n",
    "                print(f\"improved: new length {len(mmoves.split('.'))} vs current length {len(paths.iloc[id,7].split('.'))}\")\n",
    "                paths.iloc[id,7] = mmoves+(\".\"+init_moves if init_moves else \"\")\n",
    "            break\n"
   ]
  },
  {
   "cell_type": "code",
   "execution_count": 120,
   "id": "c15bfbf8-69fc-4fa7-8753-9c8c0f8dce75",
   "metadata": {},
   "outputs": [],
   "source": [
    "paths[[\"id\", \"moves\"]].to_csv(\"solver_submit_stripe.csv\", index=None)"
   ]
  },
  {
   "cell_type": "code",
   "execution_count": 121,
   "id": "f7080747-cd45-4962-bffc-81768c423d44",
   "metadata": {},
   "outputs": [],
   "source": [
    "for i, row in paths.loc[paths['puzzle_type'] == f'cube_{N}/{N}/{N}'].iterrows():\n",
    "    assert simulate(\n",
    "        row[\"initial_state\"],\n",
    "        row[\"moves\"],\n",
    "        row[\"allowed_moves\"]\n",
    "    )==row[\"solution_state\"]"
   ]
  },
  {
   "cell_type": "code",
   "execution_count": null,
   "id": "cb82f25f-4e1e-43b0-949f-795c1a23f432",
   "metadata": {},
   "outputs": [],
   "source": []
  }
 ],
 "metadata": {
  "kernelspec": {
   "display_name": "Python 3 (ipykernel)",
   "language": "python",
   "name": "python3"
  },
  "language_info": {
   "codemirror_mode": {
    "name": "ipython",
    "version": 3
   },
   "file_extension": ".py",
   "mimetype": "text/x-python",
   "name": "python",
   "nbconvert_exporter": "python",
   "pygments_lexer": "ipython3",
   "version": "3.9.17"
  }
 },
 "nbformat": 4,
 "nbformat_minor": 5
}
